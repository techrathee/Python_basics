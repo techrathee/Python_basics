{
 "cells": [
  {
   "cell_type": "markdown",
   "id": "cb9dc577-0c12-48f6-9eb9-9476a4d86d90",
   "metadata": {},
   "source": [
    "### Start - 10May2023\n",
    "### End - 14May2023\n"
   ]
  },
  {
   "cell_type": "code",
   "execution_count": 1,
   "id": "0533b5b1-3a9f-43bb-8cc6-06e9f3bc2888",
   "metadata": {},
   "outputs": [],
   "source": [
    "# Exceptions Handling With Try Except"
   ]
  },
  {
   "cell_type": "code",
   "execution_count": 6,
   "id": "4c7e5563-026b-441b-bcaa-2ef51ea805a1",
   "metadata": {},
   "outputs": [
    {
     "name": "stdout",
     "output_type": "stream",
     "text": [
      "this is my execept block [Errno 2] No such file or directory: 'test.txt'\n"
     ]
    }
   ],
   "source": [
    "try:\n",
    "    f = open(\"test.txt\",'r')\n",
    "except Exception as e :\n",
    "    print(\"this is my execept block\",e)"
   ]
  },
  {
   "cell_type": "code",
   "execution_count": 8,
   "id": "301cc605-f8fa-453b-9596-bb60e1ed76a1",
   "metadata": {},
   "outputs": [],
   "source": [
    "try:\n",
    "    f = open(\"test.txt\",'w')\n",
    "    f.write(\"this is info my files\")\n",
    "    f.close()\n",
    "except Exception as e :\n",
    "    print(\"this is my execept block\",e)"
   ]
  },
  {
   "cell_type": "code",
   "execution_count": 9,
   "id": "23afbc06-55f6-425d-8a51-6f98c8077814",
   "metadata": {},
   "outputs": [
    {
     "name": "stdout",
     "output_type": "stream",
     "text": [
      "this will be executed once your try will excute without error\n"
     ]
    }
   ],
   "source": [
    "try:\n",
    "    f1 = open(\"test1.txt\",'w')\n",
    "    f1.write(\"this is info1 my files\")\n",
    "    \n",
    "except Exception as e :\n",
    "    print(\"this is my execept block\",e)\n",
    "else:\n",
    "    f1.close()\n",
    "    print(\"this will be executed once your try will excute without error\")"
   ]
  },
  {
   "cell_type": "code",
   "execution_count": 12,
   "id": "9147e2bc-1bab-45cd-a8fa-3971b03a01de",
   "metadata": {},
   "outputs": [
    {
     "name": "stdout",
     "output_type": "stream",
     "text": [
      "this is my execept block [Errno 2] No such file or directory: 'test3.txt'\n"
     ]
    }
   ],
   "source": [
    "try:\n",
    "    f1 = open(\"test3.txt\",'r')\n",
    "    f1.write(\"this is info1 my files\")\n",
    "    \n",
    "except Exception as e :\n",
    "    print(\"this is my execept block\",e)\n",
    "else:\n",
    "    f1.close()\n",
    "    print(\"this will be executed once your try will excute without error\")"
   ]
  },
  {
   "cell_type": "code",
   "execution_count": 13,
   "id": "9fb0f0ba-c2b0-4400-93f9-ccef7cbebeb9",
   "metadata": {},
   "outputs": [
    {
     "name": "stdout",
     "output_type": "stream",
     "text": [
      "finally will excute itself in any situation\n"
     ]
    }
   ],
   "source": [
    "try:\n",
    "    f = open(\"test11.txt\",'w')\n",
    "    f.write ('write something')\n",
    "finally :\n",
    "    print(\"finally will excute itself in any situation\")"
   ]
  },
  {
   "cell_type": "code",
   "execution_count": 14,
   "id": "51d060c5-52f1-497d-a32e-2fdfd8274cba",
   "metadata": {},
   "outputs": [
    {
     "name": "stdout",
     "output_type": "stream",
     "text": [
      "finally will excute itself in any situation\n"
     ]
    },
    {
     "ename": "UnsupportedOperation",
     "evalue": "not writable",
     "output_type": "error",
     "traceback": [
      "\u001b[1;31m---------------------------------------------------------------------------\u001b[0m",
      "\u001b[1;31mUnsupportedOperation\u001b[0m                      Traceback (most recent call last)",
      "\u001b[1;32m~\\AppData\\Local\\Temp\\ipykernel_4696\\3666493634.py\u001b[0m in \u001b[0;36m<module>\u001b[1;34m\u001b[0m\n\u001b[0;32m      1\u001b[0m \u001b[1;32mtry\u001b[0m\u001b[1;33m:\u001b[0m\u001b[1;33m\u001b[0m\u001b[1;33m\u001b[0m\u001b[0m\n\u001b[0;32m      2\u001b[0m     \u001b[0mf\u001b[0m \u001b[1;33m=\u001b[0m \u001b[0mopen\u001b[0m\u001b[1;33m(\u001b[0m\u001b[1;34m\"test12.txt\"\u001b[0m\u001b[1;33m,\u001b[0m\u001b[1;34m'r'\u001b[0m\u001b[1;33m)\u001b[0m\u001b[1;33m\u001b[0m\u001b[1;33m\u001b[0m\u001b[0m\n\u001b[1;32m----> 3\u001b[1;33m     \u001b[0mf\u001b[0m\u001b[1;33m.\u001b[0m\u001b[0mwrite\u001b[0m \u001b[1;33m(\u001b[0m\u001b[1;34m'write something'\u001b[0m\u001b[1;33m)\u001b[0m\u001b[1;33m\u001b[0m\u001b[1;33m\u001b[0m\u001b[0m\n\u001b[0m\u001b[0;32m      4\u001b[0m \u001b[1;32mfinally\u001b[0m \u001b[1;33m:\u001b[0m\u001b[1;33m\u001b[0m\u001b[1;33m\u001b[0m\u001b[0m\n\u001b[0;32m      5\u001b[0m     \u001b[0mprint\u001b[0m\u001b[1;33m(\u001b[0m\u001b[1;34m\"finally will excute itself in any situation\"\u001b[0m\u001b[1;33m)\u001b[0m\u001b[1;33m\u001b[0m\u001b[1;33m\u001b[0m\u001b[0m\n",
      "\u001b[1;31mUnsupportedOperation\u001b[0m: not writable"
     ]
    }
   ],
   "source": [
    "try:\n",
    "    f = open(\"test12.txt\",'r')\n",
    "    f.write ('write something')\n",
    "finally :\n",
    "    print(\"finally will excute itself in any situation\")"
   ]
  },
  {
   "cell_type": "code",
   "execution_count": 15,
   "id": "c9e50ca5-3c5d-4751-a788-f31706306215",
   "metadata": {},
   "outputs": [],
   "source": [
    "#Custom Exception Handling"
   ]
  },
  {
   "cell_type": "code",
   "execution_count": 5,
   "id": "f3962f45-10c1-4ba8-80a0-8f49aef9fc05",
   "metadata": {},
   "outputs": [],
   "source": [
    "class validateage(Exception):\n",
    "    def __init__(self,msg):\n",
    "        self.msg = msg"
   ]
  },
  {
   "cell_type": "code",
   "execution_count": 12,
   "id": "3a12da17-ae50-4e1b-9823-ab5c9e1ef0ea",
   "metadata": {},
   "outputs": [],
   "source": [
    "def validaetage(age):\n",
    "    if age <0:\n",
    "        raise validateage(\"entered ags is negative\")\n",
    "        \n",
    "    elif age>200:\n",
    "        raise validateage(\"enter age is very very high\")\n",
    "        \n",
    "    else:\n",
    "        print(\"age is valid\")"
   ]
  },
  {
   "cell_type": "code",
   "execution_count": 15,
   "id": "e749e90a-9e01-4786-aa1f-c8ad501af25b",
   "metadata": {},
   "outputs": [
    {
     "name": "stdin",
     "output_type": "stream",
     "text": [
      "enter your age 54\n"
     ]
    },
    {
     "name": "stdout",
     "output_type": "stream",
     "text": [
      "age is valid\n"
     ]
    }
   ],
   "source": [
    "try:\n",
    "    age =int(input(\"enter your age\"))\n",
    "    validaetage(age)\n",
    "except validateage as e:\n",
    "    print(e)"
   ]
  },
  {
   "cell_type": "code",
   "execution_count": 2,
   "id": "ce151b4b-f7cd-4447-8ccc-b69fa3a3636f",
   "metadata": {},
   "outputs": [],
   "source": [
    "#List Of General Use Exceptions"
   ]
  },
  {
   "cell_type": "code",
   "execution_count": 4,
   "id": "211f1be4-4f51-41dd-9480-c48c8b613ed3",
   "metadata": {},
   "outputs": [
    {
     "name": "stdout",
     "output_type": "stream",
     "text": [
      "division by zero\n"
     ]
    }
   ],
   "source": [
    "try:\n",
    "    a = 10/0\n",
    "except ZeroDivisionError as e:\n",
    "    print(e)"
   ]
  },
  {
   "cell_type": "code",
   "execution_count": 6,
   "id": "20507ef7-31db-47ea-a626-6ef26840d7d0",
   "metadata": {},
   "outputs": [
    {
     "name": "stdout",
     "output_type": "stream",
     "text": [
      "invalid literal for int() with base 10: 'priyanshu'\n"
     ]
    }
   ],
   "source": [
    "try:\n",
    "    int(\"priyanshu\")\n",
    "except ( ValueError,TypeError) as e:\n",
    "    print(e)"
   ]
  },
  {
   "cell_type": "code",
   "execution_count": 7,
   "id": "55509334-c831-4471-b23e-228e4eed8635",
   "metadata": {},
   "outputs": [
    {
     "name": "stdout",
     "output_type": "stream",
     "text": [
      "this is my error\n"
     ]
    }
   ],
   "source": [
    "try:\n",
    "    int(\"priyansu\")\n",
    "except :\n",
    "    print(\"this is my error\")"
   ]
  },
  {
   "cell_type": "code",
   "execution_count": 8,
   "id": "7319701b-892d-4138-9fd4-af22d0c99419",
   "metadata": {},
   "outputs": [
    {
     "name": "stdout",
     "output_type": "stream",
     "text": [
      "No module named 'pryianshu'\n"
     ]
    }
   ],
   "source": [
    "try:\n",
    "    import pryianshu\n",
    "except ImportError as e:\n",
    "    print(e)"
   ]
  },
  {
   "cell_type": "code",
   "execution_count": 11,
   "id": "18d0cdf6-783e-4a5d-af0c-beb36cfc65f6",
   "metadata": {},
   "outputs": [
    {
     "name": "stdout",
     "output_type": "stream",
     "text": [
      "'key2'\n"
     ]
    }
   ],
   "source": [
    "try:\n",
    "    d = {'key':'subh',1:[2,3,4,5]}\n",
    "    print(d['key2'])\n",
    "except KeyError as e :\n",
    "          print (e)"
   ]
  },
  {
   "cell_type": "code",
   "execution_count": 12,
   "id": "e65edf13-8fa9-43f4-9872-205066b26b40",
   "metadata": {},
   "outputs": [
    {
     "name": "stdout",
     "output_type": "stream",
     "text": [
      "'str' object has no attribute 'test'\n"
     ]
    }
   ],
   "source": [
    "try:\n",
    "    'priyanshu'.test()\n",
    "except AttributeError as e:\n",
    "    print(e)"
   ]
  },
  {
   "cell_type": "code",
   "execution_count": 13,
   "id": "6ee3920e-74af-4070-9e7f-d94962118432",
   "metadata": {},
   "outputs": [
    {
     "name": "stdout",
     "output_type": "stream",
     "text": [
      "list index out of range\n"
     ]
    }
   ],
   "source": [
    "try:\n",
    "    l =[2,3,4,5]\n",
    "    print(l[6])\n",
    "except IndexError as e :\n",
    "    print(e)\n",
    "    "
   ]
  },
  {
   "cell_type": "code",
   "execution_count": 15,
   "id": "7745306d-b38b-4968-a0fd-61b64b10596a",
   "metadata": {},
   "outputs": [
    {
     "name": "stdout",
     "output_type": "stream",
     "text": [
      "unsupported operand type(s) for +: 'int' and 'str'\n"
     ]
    }
   ],
   "source": [
    "try:\n",
    "    123+ 'such'\n",
    "except TypeError as e:\n",
    "    print(e)"
   ]
  },
  {
   "cell_type": "code",
   "execution_count": 20,
   "id": "cb942485-a5f0-4a2e-9bbc-ff9510c1e3af",
   "metadata": {},
   "outputs": [
    {
     "name": "stdout",
     "output_type": "stream",
     "text": [
      "[Errno 2] No such file or directory: 'test545.txt'\n"
     ]
    }
   ],
   "source": [
    "try:\n",
    "    with open ('test545.txt' ,'r') as f:\n",
    "        f.read()\n",
    "except FileNotFoundError as e:\n",
    "    print(e)"
   ]
  },
  {
   "cell_type": "code",
   "execution_count": 21,
   "id": "63f26bb3-5371-437c-8b87-d707e142ffff",
   "metadata": {},
   "outputs": [
    {
     "data": {
      "text/plain": [
       "['__cause__',\n",
       " '__class__',\n",
       " '__context__',\n",
       " '__delattr__',\n",
       " '__dict__',\n",
       " '__dir__',\n",
       " '__doc__',\n",
       " '__eq__',\n",
       " '__format__',\n",
       " '__ge__',\n",
       " '__getattribute__',\n",
       " '__gt__',\n",
       " '__hash__',\n",
       " '__init__',\n",
       " '__init_subclass__',\n",
       " '__le__',\n",
       " '__lt__',\n",
       " '__ne__',\n",
       " '__new__',\n",
       " '__reduce__',\n",
       " '__reduce_ex__',\n",
       " '__repr__',\n",
       " '__setattr__',\n",
       " '__setstate__',\n",
       " '__sizeof__',\n",
       " '__str__',\n",
       " '__subclasshook__',\n",
       " '__suppress_context__',\n",
       " '__traceback__',\n",
       " 'args',\n",
       " 'with_traceback']"
      ]
     },
     "execution_count": 21,
     "metadata": {},
     "output_type": "execute_result"
    }
   ],
   "source": [
    "dir(Exception)"
   ]
  },
  {
   "cell_type": "code",
   "execution_count": 22,
   "id": "66cfce13-303f-4caf-8696-454bec5020aa",
   "metadata": {},
   "outputs": [
    {
     "name": "stdout",
     "output_type": "stream",
     "text": [
      "[Errno 2] No such file or directory: 'test545.txt'\n"
     ]
    }
   ],
   "source": [
    "try:\n",
    "    with open ('test545.txt' ,'r') as f:\n",
    "        f.read()\n",
    "except Exception as f:\n",
    "    print(f)\n",
    "except FileNotFoundError as e:\n",
    "    print(e)"
   ]
  },
  {
   "cell_type": "code",
   "execution_count": 26,
   "id": "e10ef3cb-5748-4c21-8409-6360bc8dfa0f",
   "metadata": {},
   "outputs": [],
   "source": [
    "def test(file):\n",
    "    try:\n",
    "        with open (file ,'r') as f:\n",
    "            f.read()\n",
    "    except Exception as f:\n",
    "        print(f)\n",
    "    except FileNotFoundError as e:\n",
    "        print(e)"
   ]
  },
  {
   "cell_type": "code",
   "execution_count": 28,
   "id": "105c3d7b-7e91-4209-aa2b-7aad0781a3f2",
   "metadata": {},
   "outputs": [
    {
     "name": "stdout",
     "output_type": "stream",
     "text": [
      "[Errno 2] No such file or directory: 'test3443'\n"
     ]
    }
   ],
   "source": [
    "test('test3443')"
   ]
  },
  {
   "cell_type": "code",
   "execution_count": 29,
   "id": "84ba2903-f0ee-4015-bcde-30d303cae8d3",
   "metadata": {},
   "outputs": [],
   "source": [
    "#Best Practice Exception Handling"
   ]
  },
  {
   "cell_type": "code",
   "execution_count": 33,
   "id": "06ff05db-a9a1-4f92-a72f-bc8d258f87d8",
   "metadata": {},
   "outputs": [
    {
     "name": "stdout",
     "output_type": "stream",
     "text": [
      "division by zero\n"
     ]
    }
   ],
   "source": [
    "#use always a specific exception\n",
    "try :\n",
    "    10/0\n",
    "except Exception as e:\n",
    "    print(e)"
   ]
  },
  {
   "cell_type": "code",
   "execution_count": 34,
   "id": "278ab4ba-44e5-4d7d-b2c7-3fe900c7f490",
   "metadata": {},
   "outputs": [
    {
     "name": "stdout",
     "output_type": "stream",
     "text": [
      "division by zero\n"
     ]
    }
   ],
   "source": [
    "try:\n",
    "    10/0\n",
    "except ZeroDivisionError as e:\n",
    "    print(e)"
   ]
  },
  {
   "cell_type": "code",
   "execution_count": 35,
   "id": "13aeaca6-38e9-42a8-8ae0-05e756a39ec0",
   "metadata": {},
   "outputs": [
    {
     "name": "stdout",
     "output_type": "stream",
     "text": [
      "i am trying to handle a zerodision error division by zero\n"
     ]
    }
   ],
   "source": [
    "#print alwawys a proper message\n",
    "try:\n",
    "    10/0\n",
    "except ZeroDivisionError as e:\n",
    "    print(\"i am trying to handle a zerodision error\" ,e)"
   ]
  },
  {
   "cell_type": "code",
   "execution_count": 41,
   "id": "f3fd2d33-a504-4b94-af4e-ed4954971e06",
   "metadata": {},
   "outputs": [],
   "source": [
    "#always try to log your error\n",
    "import logging\n",
    "logging.basicConfig(filename= ' eroor.log' ,level = logging.ERROR)\n",
    "try :\n",
    "    10/0\n",
    "except ZeroDivisionError as e:\n",
    "    logging.error(\"i am trying handle a zerodivivsion error {}\".format(e))"
   ]
  },
  {
   "cell_type": "code",
   "execution_count": 38,
   "id": "1ef46899-b86b-48cf-9e6c-28c1019fd466",
   "metadata": {},
   "outputs": [],
   "source": [
    "# always avoid to write a multiple exception handling\n",
    "try :\n",
    "    10/0\n",
    "except FileNotFoundError as e:\n",
    "    logging.error(\"i am handlig file not fount {}\".format(e))\n",
    "except AttributeError as e:\n",
    "    logging.error(\"i an handling Attribute erro{}\".format(e)) \n",
    "except ZeroDivisionError as e:\n",
    "    logging.error(\"i am trying handle a zerodivivsion error {}\".format(e))"
   ]
  },
  {
   "cell_type": "code",
   "execution_count": 42,
   "id": "88d83ee0-0f2d-4430-9cc2-308fe3ad356a",
   "metadata": {},
   "outputs": [],
   "source": [
    "#Document all the error\n",
    "#cleanup all the resources\n",
    "try : \n",
    "    with open (\"test000.txt\",'w') as f:\n",
    "        f.write(\"this is my data to files\")\n",
    "except FileNotFoundError as e:\n",
    "    logging.eroor(\"i am handling file not found {}\".format(e))\n",
    "finally :\n",
    "    f.close()"
   ]
  },
  {
   "cell_type": "code",
   "execution_count": 43,
   "id": "f1e21d27-4097-4874-a401-58723b1aa561",
   "metadata": {},
   "outputs": [],
   "source": [
    "#Multithreading"
   ]
  },
  {
   "cell_type": "code",
   "execution_count": 1,
   "id": "41f37058-ad4c-4c2f-affb-4fd3ccdf9ed2",
   "metadata": {},
   "outputs": [],
   "source": [
    "import threading"
   ]
  },
  {
   "cell_type": "code",
   "execution_count": 2,
   "id": "272361dd-8c31-4624-aaad-a3e1a3169bf1",
   "metadata": {},
   "outputs": [],
   "source": [
    "def test(id):\n",
    "    print(\"prog start %d \"% id)"
   ]
  },
  {
   "cell_type": "code",
   "execution_count": 3,
   "id": "fb0eb167-47b1-463f-acad-9767baf135f1",
   "metadata": {},
   "outputs": [
    {
     "name": "stdout",
     "output_type": "stream",
     "text": [
      "prog start 45 \n"
     ]
    }
   ],
   "source": [
    "test(45)"
   ]
  },
  {
   "cell_type": "code",
   "execution_count": 6,
   "id": "c9bd8e6a-067d-48f8-9a5c-28a7755511b1",
   "metadata": {},
   "outputs": [],
   "source": [
    "thread = [threading.Thread(target=test, args=(i,))for i in range(10)]"
   ]
  },
  {
   "cell_type": "code",
   "execution_count": 7,
   "id": "5ae12099-f410-4279-90ec-018f3e5f371d",
   "metadata": {},
   "outputs": [
    {
     "name": "stdout",
     "output_type": "stream",
     "text": [
      "prog start 0 \n",
      "prog start 1 \n",
      "prog start 2 \n",
      "prog start 3 \n",
      "prog start 4 \n",
      "prog start 5 \n",
      "prog start 6 \n",
      "prog start 7 \n",
      "prog start 8 \n",
      "prog start 9 \n"
     ]
    }
   ],
   "source": [
    "for t in thread:\n",
    "    t.start()"
   ]
  },
  {
   "cell_type": "code",
   "execution_count": 8,
   "id": "5fd1cc4b-2016-4aeb-bae0-38786f6a5d48",
   "metadata": {},
   "outputs": [
    {
     "data": {
      "text/plain": [
       "[0, 1, 2, 3, 4, 5, 6, 7, 8, 9]"
      ]
     },
     "execution_count": 8,
     "metadata": {},
     "output_type": "execute_result"
    }
   ],
   "source": [
    "list(range(10))"
   ]
  },
  {
   "cell_type": "code",
   "execution_count": 9,
   "id": "233d1c8e-13e1-43cd-b5d8-8335cecf2eaa",
   "metadata": {},
   "outputs": [
    {
     "data": {
      "text/plain": [
       "[<Thread(Thread-15, stopped 10116)>,\n",
       " <Thread(Thread-16, stopped 8328)>,\n",
       " <Thread(Thread-17, stopped 2656)>,\n",
       " <Thread(Thread-18, stopped 6876)>,\n",
       " <Thread(Thread-19, stopped 14160)>,\n",
       " <Thread(Thread-20, stopped 10108)>,\n",
       " <Thread(Thread-21, stopped 12132)>,\n",
       " <Thread(Thread-22, stopped 6472)>,\n",
       " <Thread(Thread-23, stopped 7516)>,\n",
       " <Thread(Thread-24, stopped 12568)>]"
      ]
     },
     "execution_count": 9,
     "metadata": {},
     "output_type": "execute_result"
    }
   ],
   "source": [
    "thread"
   ]
  },
  {
   "cell_type": "code",
   "execution_count": 10,
   "id": "a3fa6e70-bb7c-48b4-92a3-f017589ecec7",
   "metadata": {},
   "outputs": [
    {
     "data": {
      "text/plain": [
       "1586641222864"
      ]
     },
     "execution_count": 10,
     "metadata": {},
     "output_type": "execute_result"
    }
   ],
   "source": [
    "id(10116)"
   ]
  },
  {
   "cell_type": "code",
   "execution_count": 5,
   "id": "be055bf8-0753-4805-91b0-14db028fd478",
   "metadata": {},
   "outputs": [],
   "source": [
    "import threading\n",
    "import urllib.request\n",
    "\n",
    "def files_dowload(url,filname):\n",
    "    urllib.request.urlretrieve(url,filname)"
   ]
  },
  {
   "cell_type": "code",
   "execution_count": 2,
   "id": "44427aef-3931-4bf8-ad1a-45cd84e8dd88",
   "metadata": {},
   "outputs": [],
   "source": [
    "files_dowload('https://learn.pwskills.com/lesson/Multithreading/63eb8cbf194b2213a3e5f4ee/course/Data-Science-masters/63a2eb428899436daf7eb489 ','test12m.txt')"
   ]
  },
  {
   "cell_type": "code",
   "execution_count": 3,
   "id": "f2fd890c-d256-4945-84d6-7f4dcab612c5",
   "metadata": {},
   "outputs": [],
   "source": [
    "url_list = ['https://docs.google.com/spreadsheets/d/1x_Y386N2o08GMxpnsIgpH8ql26PHO5H_LyNR1yrCJ3E/edit#gid=0'\n",
    "            'https://docs.google.com/spreadsheets/u/0/'\n",
    "            'https://docs.google.com/spreadsheets/d/1aTLdYTz5ZIgisnt2QAxHhfA8MhatFgc916yQCsON92g/edit#gid=53424310']"
   ]
  },
  {
   "cell_type": "code",
   "execution_count": 4,
   "id": "c5620d60-02f0-45c6-b8cc-d03bbf1e4d02",
   "metadata": {},
   "outputs": [
    {
     "data": {
      "text/plain": [
       "['https://docs.google.com/spreadsheets/d/1x_Y386N2o08GMxpnsIgpH8ql26PHO5H_LyNR1yrCJ3E/edit#gid=0https://docs.google.com/spreadsheets/u/0/https://docs.google.com/spreadsheets/d/1aTLdYTz5ZIgisnt2QAxHhfA8MhatFgc916yQCsON92g/edit#gid=53424310']"
      ]
     },
     "execution_count": 4,
     "metadata": {},
     "output_type": "execute_result"
    }
   ],
   "source": [
    "url_list"
   ]
  },
  {
   "cell_type": "code",
   "execution_count": 5,
   "id": "204beead-ba92-4986-b37e-54b3abb1c373",
   "metadata": {},
   "outputs": [],
   "source": [
    "file_name_list = [ 'datal.txt','data2.txt','data3.txt']"
   ]
  },
  {
   "cell_type": "code",
   "execution_count": 10,
   "id": "e4e5ad07-6a9b-42a1-9a23-456bab9c7a9a",
   "metadata": {},
   "outputs": [],
   "source": [
    "ther=[threading.Thread(target= files_dowload, args=(url_list[i], file_name_list [i]) ) for i in range(len(url_list))]"
   ]
  },
  {
   "cell_type": "code",
   "execution_count": 11,
   "id": "029a274a-54ca-4f55-9621-935c9e7c33d6",
   "metadata": {},
   "outputs": [
    {
     "data": {
      "text/plain": [
       "[<Thread(Thread-6, initial)>]"
      ]
     },
     "execution_count": 11,
     "metadata": {},
     "output_type": "execute_result"
    }
   ],
   "source": [
    "ther"
   ]
  },
  {
   "cell_type": "code",
   "execution_count": 1,
   "id": "320f8e28-ce94-4e7d-9735-f242b42dca0c",
   "metadata": {},
   "outputs": [
    {
     "ename": "NameError",
     "evalue": "name 'ther' is not defined",
     "output_type": "error",
     "traceback": [
      "\u001b[1;31m---------------------------------------------------------------------------\u001b[0m",
      "\u001b[1;31mNameError\u001b[0m                                 Traceback (most recent call last)",
      "\u001b[1;32m~\\AppData\\Local\\Temp\\ipykernel_10108\\1811087786.py\u001b[0m in \u001b[0;36m<module>\u001b[1;34m\u001b[0m\n\u001b[1;32m----> 1\u001b[1;33m \u001b[1;32mfor\u001b[0m \u001b[0mt\u001b[0m \u001b[1;32min\u001b[0m \u001b[0mther\u001b[0m\u001b[1;33m:\u001b[0m\u001b[1;33m\u001b[0m\u001b[1;33m\u001b[0m\u001b[0m\n\u001b[0m\u001b[0;32m      2\u001b[0m     \u001b[0mt\u001b[0m\u001b[1;33m.\u001b[0m\u001b[0mstart\u001b[0m\u001b[1;33m(\u001b[0m\u001b[1;33m)\u001b[0m\u001b[1;33m\u001b[0m\u001b[1;33m\u001b[0m\u001b[0m\n",
      "\u001b[1;31mNameError\u001b[0m: name 'ther' is not defined"
     ]
    }
   ],
   "source": [
    "for t in ther:\n",
    "    t.start()"
   ]
  },
  {
   "cell_type": "code",
   "execution_count": null,
   "id": "4b599baa-e756-4b5c-b8f7-769f7701bb28",
   "metadata": {},
   "outputs": [],
   "source": [
    "ther"
   ]
  },
  {
   "cell_type": "code",
   "execution_count": 2,
   "id": "d5ab0973-58a9-48e3-990c-e758d9830ebe",
   "metadata": {},
   "outputs": [],
   "source": [
    "import time"
   ]
  },
  {
   "cell_type": "code",
   "execution_count": 13,
   "id": "0a840d45-b30e-4294-994a-22e5397a7c48",
   "metadata": {},
   "outputs": [],
   "source": [
    "def test1(id):\n",
    "    for i in range(10):\n",
    "        print('test1 %d printing %d'%(id,i))\n",
    "\n",
    "        time.sleep(1)"
   ]
  },
  {
   "cell_type": "code",
   "execution_count": 19,
   "id": "526f7e5f-5f02-41e8-9dfe-13d4444b4c81",
   "metadata": {},
   "outputs": [
    {
     "name": "stdout",
     "output_type": "stream",
     "text": [
      "test1 1 printing 0\n",
      "test1 1 printing 1\n",
      "test1 1 printing 2\n",
      "test1 1 printing 3\n",
      "test1 1 printing 4\n",
      "test1 1 printing 5\n",
      "test1 1 printing 6\n",
      "test1 1 printing 7\n",
      "test1 1 printing 8\n",
      "test1 1 printing 9\n"
     ]
    }
   ],
   "source": [
    "test1(1)"
   ]
  },
  {
   "cell_type": "code",
   "execution_count": 20,
   "id": "c8dacf87-d1fd-43ac-867e-42fd97b77e52",
   "metadata": {},
   "outputs": [],
   "source": [
    "thread1 =[ threading.Thread(target=test1 , args= (i,)) for i in range(3)]"
   ]
  },
  {
   "cell_type": "code",
   "execution_count": 21,
   "id": "bbe768e5-f5b9-45ba-8702-39fb9d64a711",
   "metadata": {},
   "outputs": [
    {
     "name": "stdout",
     "output_type": "stream",
     "text": [
      "test1 0 printing 0\n",
      "test1 1 printing 0\n",
      "test1 2 printing 0\n",
      "test1 1 printing 1\n",
      "test1 2 printing 1\n",
      "test1 0 printing 1\n",
      "test1 2 printing 2\n",
      "test1 0 printing 2\n",
      "test1 1 printing 2\n",
      "test1 1 printing 3test1 2 printing 3\n",
      "test1 0 printing 3\n",
      "\n",
      "test1 0 printing 4\n",
      "test1 1 printing 4\n",
      "test1 2 printing 4\n",
      "test1 2 printing 5test1 0 printing 5\n",
      "test1 1 printing 5\n",
      "\n",
      "test1 0 printing 6test1 1 printing 6\n",
      "\n",
      "test1 2 printing 6\n",
      "test1 2 printing 7test1 1 printing 7\n",
      "test1 0 printing 7\n",
      "\n",
      "test1 1 printing 8test1 2 printing 8\n",
      "test1 0 printing 8\n",
      "\n",
      "test1 2 printing 9\n",
      "test1 0 printing 9\n",
      "test1 1 printing 9\n"
     ]
    }
   ],
   "source": [
    "for t in thread1:\n",
    "    t.start()"
   ]
  },
  {
   "cell_type": "code",
   "execution_count": 22,
   "id": "749560d3-e2c7-486c-9f23-85b3e888d301",
   "metadata": {},
   "outputs": [],
   "source": [
    "import time"
   ]
  },
  {
   "cell_type": "code",
   "execution_count": 26,
   "id": "683485db-48f1-4740-a98d-242d893d8124",
   "metadata": {},
   "outputs": [],
   "source": [
    "def test2(id):\n",
    "    for i in range(10):\n",
    "        print(\"test2 %d printing %d %s\" %(id, i ,time.ctime()))\n",
    "        time.sleep(1)"
   ]
  },
  {
   "cell_type": "code",
   "execution_count": 27,
   "id": "977bd26d-fe6c-4107-a981-db05ebb9395b",
   "metadata": {},
   "outputs": [
    {
     "name": "stdout",
     "output_type": "stream",
     "text": [
      "test2 0 printing 0 Fri May 12 13:47:13 2023\n",
      "test2 0 printing 1 Fri May 12 13:47:14 2023\n",
      "test2 0 printing 2 Fri May 12 13:47:15 2023\n",
      "test2 0 printing 3 Fri May 12 13:47:16 2023\n",
      "test2 0 printing 4 Fri May 12 13:47:17 2023\n",
      "test2 0 printing 5 Fri May 12 13:47:18 2023\n",
      "test2 0 printing 6 Fri May 12 13:47:19 2023\n",
      "test2 0 printing 7 Fri May 12 13:47:20 2023\n",
      "test2 0 printing 8 Fri May 12 13:47:21 2023\n",
      "test2 0 printing 9 Fri May 12 13:47:22 2023\n"
     ]
    }
   ],
   "source": [
    "test2(0)"
   ]
  },
  {
   "cell_type": "code",
   "execution_count": 28,
   "id": "52fe33f4-2b11-4acb-9669-039e74f6d8a1",
   "metadata": {},
   "outputs": [],
   "source": [
    "thread1 =[ threading.Thread(target=test2 , args= (i,)) for i in range(3)]"
   ]
  },
  {
   "cell_type": "code",
   "execution_count": 29,
   "id": "bbe76ff4-83ff-4c1d-9f1d-e0e568c3795a",
   "metadata": {},
   "outputs": [
    {
     "name": "stdout",
     "output_type": "stream",
     "text": [
      "test2 0 printing 0 Fri May 12 13:47:50 2023\n",
      "test2 1 printing 0 Fri May 12 13:47:50 2023\n",
      "test2 2 printing 0 Fri May 12 13:47:50 2023\n",
      "test2 0 printing 1 Fri May 12 13:47:51 2023test2 2 printing 1 Fri May 12 13:47:51 2023\n",
      "test2 1 printing 1 Fri May 12 13:47:51 2023\n",
      "\n",
      "test2 1 printing 2 Fri May 12 13:47:52 2023\n",
      "test2 2 printing 2 Fri May 12 13:47:52 2023\n",
      "test2 0 printing 2 Fri May 12 13:47:52 2023\n",
      "test2 2 printing 3 Fri May 12 13:47:53 2023\n",
      "test2 0 printing 3 Fri May 12 13:47:53 2023\n",
      "test2 1 printing 3 Fri May 12 13:47:53 2023\n",
      "test2 0 printing 4 Fri May 12 13:47:54 2023test2 1 printing 4 Fri May 12 13:47:54 2023\n",
      "test2 2 printing 4 Fri May 12 13:47:54 2023\n",
      "\n",
      "test2 2 printing 5 Fri May 12 13:47:55 2023\n",
      "test2 0 printing 5 Fri May 12 13:47:55 2023\n",
      "test2 1 printing 5 Fri May 12 13:47:55 2023\n",
      "test2 1 printing 6 Fri May 12 13:47:56 2023\n",
      "test2 0 printing 6 Fri May 12 13:47:56 2023\n",
      "test2 2 printing 6 Fri May 12 13:47:56 2023\n",
      "test2 2 printing 7 Fri May 12 13:47:57 2023test2 1 printing 7 Fri May 12 13:47:57 2023\n",
      "\n",
      "test2 0 printing 7 Fri May 12 13:47:57 2023\n",
      "test2 2 printing 8 Fri May 12 13:47:58 2023\n",
      "test2 0 printing 8 Fri May 12 13:47:58 2023\n",
      "test2 1 printing 8 Fri May 12 13:47:58 2023\n",
      "test2 0 printing 9 Fri May 12 13:47:59 2023test2 2 printing 9 Fri May 12 13:47:59 2023\n",
      "test2 1 printing 9 Fri May 12 13:47:59 2023\n",
      "\n"
     ]
    }
   ],
   "source": [
    "for t in thread1:\n",
    "    t.start()"
   ]
  },
  {
   "cell_type": "code",
   "execution_count": 30,
   "id": "37c98cf5-b463-405a-b340-eed8c6e1fb5d",
   "metadata": {},
   "outputs": [],
   "source": [
    "shared_var = 0\n",
    "lock_var = threading.Lock()"
   ]
  },
  {
   "cell_type": "code",
   "execution_count": 38,
   "id": "42aa5bd6-03e6-4b14-b917-426ff34d1a3f",
   "metadata": {},
   "outputs": [],
   "source": [
    "def test3(id):\n",
    "    global shared_var\n",
    "    with lock_var:\n",
    "        shared_var = shared_var+1\n",
    "        print('test3 id is %d has increased the shared variable by %d ' %(id, shared_var))\n",
    "        time.sleep(1)"
   ]
  },
  {
   "cell_type": "code",
   "execution_count": 39,
   "id": "8c67bcf1-8133-4aee-8936-8cbc531f7fdf",
   "metadata": {},
   "outputs": [],
   "source": [
    "ther3 =[threading.Thread(target= test3,args=(i,)) for i in range(3)]"
   ]
  },
  {
   "cell_type": "code",
   "execution_count": 40,
   "id": "29e4104f-bff0-4fc9-b19a-0bccba52e799",
   "metadata": {},
   "outputs": [
    {
     "name": "stdout",
     "output_type": "stream",
     "text": [
      "test3 id is 0 has increased the shared variable by 4 \n",
      "test3 id is 1 has increased the shared variable by 5 \n",
      "test3 id is 2 has increased the shared variable by 6 \n"
     ]
    }
   ],
   "source": [
    "for t in ther3:\n",
    "    t.start()"
   ]
  },
  {
   "cell_type": "code",
   "execution_count": 1,
   "id": "a2322bd4-b13d-4f26-ad33-b7afaf4b095f",
   "metadata": {},
   "outputs": [],
   "source": [
    "#multiprocessing"
   ]
  },
  {
   "cell_type": "code",
   "execution_count": 15,
   "id": "3858e3e8-a3c2-4fd0-b63e-3baa4a672adc",
   "metadata": {},
   "outputs": [],
   "source": [
    "import multiprocessing"
   ]
  },
  {
   "cell_type": "code",
   "execution_count": 3,
   "id": "c63e0865-7500-42ce-8b50-954478811345",
   "metadata": {},
   "outputs": [
    {
     "name": "stdout",
     "output_type": "stream",
     "text": [
      "this is my main prog\n"
     ]
    }
   ],
   "source": [
    "import multiprocessing\n",
    "def test():\n",
    "    print(\"this is my multiprocessing prog\")\n",
    "    \n",
    "if __name__ == '__main__':\n",
    "    m = multiprocessing.Process(target=test)\n",
    "    print(\"this is my main prog\")\n",
    "    m.start()\n",
    "    m.join()\n"
   ]
  },
  {
   "cell_type": "code",
   "execution_count": 4,
   "id": "01244d9a-3ecd-42ce-a842-79110d486e01",
   "metadata": {},
   "outputs": [
    {
     "name": "stdout",
     "output_type": "stream",
     "text": [
      "this is my multiprocessing prog\n"
     ]
    }
   ],
   "source": [
    "test()"
   ]
  },
  {
   "cell_type": "code",
   "execution_count": null,
   "id": "65179930-7aae-45f3-ade3-6dd8f532cf9e",
   "metadata": {},
   "outputs": [],
   "source": [
    "def square(n):\n",
    "    return n**2\n",
    "\n",
    "if __name__ == '__main__':\n",
    "    with multiprocessing.Pool(processes=2) as pool :\n",
    "        out =pool.map(square,[1,2,3,4,5])\n",
    "        print(out)\n",
    "       #not work"
   ]
  },
  {
   "cell_type": "code",
   "execution_count": 18,
   "id": "3acb802f-26a4-45ba-b51f-bc8b576707bd",
   "metadata": {},
   "outputs": [],
   "source": [
    "import multiprocessing\n",
    "def producer(q):\n",
    "    for i in range(10):\n",
    "        q.put(i)\n",
    "        \n",
    "def consume(q):\n",
    "    while True:\n",
    "        item = q.get()\n",
    "        if item is None :\n",
    "            print(item)\n",
    "            \n",
    "if __name__ == '__main__' :\n",
    "    queue = multiprocessing.Queue()\n",
    "    m1 = multiprocessing.Process(target=producer,args=(queue,))\n",
    "    m2 = multiprocessing.Process(target=consume , args=(queue,))\n",
    "    m1.start()\n",
    "    m2.start()\n",
    "    queue.put(\"priyanshu\")\n",
    "    m1.join()\n",
    "    m2.join()\n",
    "    #not work"
   ]
  },
  {
   "cell_type": "code",
   "execution_count": 25,
   "id": "1c4c6ed3-60fc-48f1-ac43-5c2131355781",
   "metadata": {},
   "outputs": [
    {
     "name": "stdout",
     "output_type": "stream",
     "text": [
      "[2, 3, 4, 5, 6, 7, 8]\n"
     ]
    }
   ],
   "source": [
    "import multiprocessing\n",
    "def square(index,value):\n",
    "    value[index] = value[index]**2\n",
    "    \n",
    "if __name__ == '__main__':\n",
    "    arr = multiprocessing.Array('i',[2,3,4,5,6,7,8])\n",
    "    process = []\n",
    "    for i in range(7):\n",
    "        m = multiprocessing.Process(target=square , args =(i,arr))\n",
    "        process.append(m)\n",
    "        m.start()\n",
    "    for m in process:\n",
    "        m.join()\n",
    "    print(list(arr))\n",
    "        "
   ]
  },
  {
   "cell_type": "code",
   "execution_count": 7,
   "id": "5b7935ad-3f53-4898-b597-5b2abcb1e066",
   "metadata": {},
   "outputs": [],
   "source": [
    "import multiprocessing\n",
    "def sender(conn,msg):\n",
    "    for i in meg:\n",
    "        conn.send(i)\n",
    "    conn.close()\n",
    "    \n",
    "def receive(conn):\n",
    "    while True:\n",
    "        try:\n",
    "            meg = conn.recv()\n",
    "        except Exception as e:\n",
    "            break\n",
    "        print(msg)\n",
    "        \n",
    "if __name__ == '__main__' :\n",
    "    msg = [\"my name is sudh\", 'this is my msg to student' ,'i am taking class for multiproccessing']\n",
    "    parent_con,child_con = multiprocessing.Pipe()\n",
    "    m1 = multiprocessing.Process(target=sender , args=(child_con,msg))\n",
    "    m2 = multiprocessing.Process(target= receive ,args=(parent_con,))\n",
    "    m1.start()\n",
    "    m2.start()\n",
    "    m1.join()\n",
    "    child_con.close()\n",
    "    m2.join()\n",
    "    parent_con.close()\n",
    "    #not work"
   ]
  },
  {
   "cell_type": "code",
   "execution_count": 2,
   "id": "824e45ab-9f27-413f-b9d7-ebc6d7da35c2",
   "metadata": {},
   "outputs": [],
   "source": [
    "#working With SQl\n",
    "#PW lap my sql + python"
   ]
  },
  {
   "cell_type": "markdown",
   "id": "134b9144-5615-40a0-8c29-338e97839fa3",
   "metadata": {},
   "source": [
    "### Start - 10May2023\n",
    "### End - 14May2023\n"
   ]
  },
  {
   "cell_type": "code",
   "execution_count": null,
   "id": "6ae8dd15-429f-4965-a669-82777515cc2b",
   "metadata": {},
   "outputs": [],
   "source": []
  }
 ],
 "metadata": {
  "kernelspec": {
   "display_name": "Python 3 (ipykernel)",
   "language": "python",
   "name": "python3"
  },
  "language_info": {
   "codemirror_mode": {
    "name": "ipython",
    "version": 3
   },
   "file_extension": ".py",
   "mimetype": "text/x-python",
   "name": "python",
   "nbconvert_exporter": "python",
   "pygments_lexer": "ipython3",
   "version": "3.9.13"
  }
 },
 "nbformat": 4,
 "nbformat_minor": 5
}
