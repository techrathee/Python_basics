{
 "cells": [
  {
   "cell_type": "markdown",
   "id": "5d5f138f-e72b-409d-9cf5-989e3dbd236c",
   "metadata": {},
   "source": [
    "### Start - 23Mar2023\n",
    "### End - 10May2023\n"
   ]
  },
  {
   "cell_type": "code",
   "execution_count": 1,
   "id": "41e237d8-c854-4cdb-b95a-56ed8f3cd2d8",
   "metadata": {},
   "outputs": [],
   "source": [
    "# Variable Declaration"
   ]
  },
  {
   "cell_type": "code",
   "execution_count": 15,
   "id": "71f78607-d70e-4ca9-96cc-b58d0a080f6e",
   "metadata": {},
   "outputs": [
    {
     "name": "stdin",
     "output_type": "stream",
     "text": [
      "Enter the Number 145\n"
     ]
    },
    {
     "name": "stdout",
     "output_type": "stream",
     "text": [
      "145.0\n"
     ]
    }
   ],
   "source": [
    "# floating Point Number\n",
    "f = float(input('Enter the Number'))\n",
    "print(f)"
   ]
  },
  {
   "cell_type": "code",
   "execution_count": 16,
   "id": "fc6821a5-140c-49a9-9127-041be0aa6451",
   "metadata": {},
   "outputs": [
    {
     "name": "stdout",
     "output_type": "stream",
     "text": [
      "<class 'str'>\n"
     ]
    }
   ],
   "source": [
    "#string\n",
    "a = 'priyanshu'\n",
    "print(type(a))"
   ]
  },
  {
   "cell_type": "code",
   "execution_count": 17,
   "id": "2b62f4fe-b643-4a2c-bfdc-5e9032abdbf6",
   "metadata": {},
   "outputs": [
    {
     "name": "stdout",
     "output_type": "stream",
     "text": [
      "<class 'int'>\n"
     ]
    }
   ],
   "source": [
    "#integer\n",
    "b= 123\n",
    "print(type(b))"
   ]
  },
  {
   "cell_type": "code",
   "execution_count": 18,
   "id": "eaac69e0-df4b-46f6-b87a-b516c2c93e00",
   "metadata": {},
   "outputs": [
    {
     "name": "stdout",
     "output_type": "stream",
     "text": [
      "<class 'bool'>\n"
     ]
    }
   ],
   "source": [
    "#Boolean\n",
    "c= True and False\n",
    "print(type(c))"
   ]
  },
  {
   "cell_type": "code",
   "execution_count": 19,
   "id": "3fe9746e-7f88-4597-9d49-0d165c4e1f9b",
   "metadata": {},
   "outputs": [],
   "source": [
    "#Complex Number\n",
    "d = 4 + 5j"
   ]
  },
  {
   "cell_type": "code",
   "execution_count": 20,
   "id": "a3e4dba6-fdca-4a2a-9f91-27ea8f197559",
   "metadata": {},
   "outputs": [
    {
     "data": {
      "text/plain": [
       "4.0"
      ]
     },
     "execution_count": 20,
     "metadata": {},
     "output_type": "execute_result"
    }
   ],
   "source": [
    "d.real"
   ]
  },
  {
   "cell_type": "code",
   "execution_count": 21,
   "id": "e6a93799-ebd4-4df2-a41d-55c18e5623e5",
   "metadata": {},
   "outputs": [
    {
     "data": {
      "text/plain": [
       "5.0"
      ]
     },
     "execution_count": 21,
     "metadata": {},
     "output_type": "execute_result"
    }
   ],
   "source": [
    "d.imag"
   ]
  },
  {
   "cell_type": "code",
   "execution_count": 26,
   "id": "760f784a-4c41-4bec-a5b5-87c95b0f1a7c",
   "metadata": {},
   "outputs": [],
   "source": [
    "#Garbage Collection\n",
    "e = 'priyanshu'"
   ]
  },
  {
   "cell_type": "code",
   "execution_count": 27,
   "id": "568dde41-27b1-4485-aacd-8ea61d4a54f9",
   "metadata": {},
   "outputs": [
    {
     "name": "stdout",
     "output_type": "stream",
     "text": [
      "priyanshu\n"
     ]
    }
   ],
   "source": [
    "print(e)"
   ]
  },
  {
   "cell_type": "code",
   "execution_count": 28,
   "id": "9bca53cc-1403-4e19-bd2e-07644593f45a",
   "metadata": {},
   "outputs": [],
   "source": [
    "e = 'rathod'"
   ]
  },
  {
   "cell_type": "code",
   "execution_count": 29,
   "id": "bf5a15ce-83ab-4e36-a945-8229abc611d1",
   "metadata": {},
   "outputs": [
    {
     "name": "stdout",
     "output_type": "stream",
     "text": [
      "rathod\n"
     ]
    }
   ],
   "source": [
    "print(e)"
   ]
  },
  {
   "cell_type": "code",
   "execution_count": 41,
   "id": "666225a9-b153-4134-8d60-82030430c467",
   "metadata": {},
   "outputs": [
    {
     "name": "stdout",
     "output_type": "stream",
     "text": [
      "data pager\n"
     ]
    }
   ],
   "source": [
    "#print\n",
    "f = 'data pager' \n",
    "print(f)"
   ]
  },
  {
   "cell_type": "code",
   "execution_count": 48,
   "id": "cf1bd398-4beb-44b4-a6e2-8c7a06ad4ccc",
   "metadata": {},
   "outputs": [],
   "source": [
    "#Index\n",
    "p = 'priyanshu'"
   ]
  },
  {
   "cell_type": "code",
   "execution_count": 51,
   "id": "4d52de89-bede-4a5c-b7a8-e53ead7ad092",
   "metadata": {},
   "outputs": [
    {
     "data": {
      "text/plain": [
       "'p'"
      ]
     },
     "execution_count": 51,
     "metadata": {},
     "output_type": "execute_result"
    }
   ],
   "source": [
    "# forword Direction\n",
    "p[0]"
   ]
  },
  {
   "cell_type": "code",
   "execution_count": 52,
   "id": "147987a7-ceb6-4e6b-aa11-bab574012413",
   "metadata": {},
   "outputs": [
    {
     "data": {
      "text/plain": [
       "'n'"
      ]
     },
     "execution_count": 52,
     "metadata": {},
     "output_type": "execute_result"
    }
   ],
   "source": [
    "p[5]"
   ]
  },
  {
   "cell_type": "code",
   "execution_count": 53,
   "id": "950d94bf-2e41-4c0f-9053-8e570da0fe3f",
   "metadata": {},
   "outputs": [
    {
     "data": {
      "text/plain": [
       "'p'"
      ]
     },
     "execution_count": 53,
     "metadata": {},
     "output_type": "execute_result"
    }
   ],
   "source": [
    "#Backword Direction\n",
    "p[-9]"
   ]
  },
  {
   "cell_type": "code",
   "execution_count": 54,
   "id": "99362970-dd58-457f-b1f5-58fce16f6b8a",
   "metadata": {},
   "outputs": [
    {
     "data": {
      "text/plain": [
       "'n'"
      ]
     },
     "execution_count": 54,
     "metadata": {},
     "output_type": "execute_result"
    }
   ],
   "source": [
    "p[-4]"
   ]
  },
  {
   "cell_type": "code",
   "execution_count": 56,
   "id": "16790cef-90a7-4772-8e8b-99daffb631e7",
   "metadata": {},
   "outputs": [],
   "source": [
    "#slicing\n",
    "p = 'priyanshu'"
   ]
  },
  {
   "cell_type": "code",
   "execution_count": 57,
   "id": "228bcdac-d9a7-4558-a0e5-d630b0997038",
   "metadata": {},
   "outputs": [
    {
     "data": {
      "text/plain": [
       "'priy'"
      ]
     },
     "execution_count": 57,
     "metadata": {},
     "output_type": "execute_result"
    }
   ],
   "source": [
    "p[0:4]"
   ]
  },
  {
   "cell_type": "code",
   "execution_count": 59,
   "id": "69f2cf89-167e-45a2-8532-1d4ff152d4d1",
   "metadata": {},
   "outputs": [
    {
     "data": {
      "text/plain": [
       "'anshu'"
      ]
     },
     "execution_count": 59,
     "metadata": {},
     "output_type": "execute_result"
    }
   ],
   "source": [
    "p[4:9]"
   ]
  },
  {
   "cell_type": "code",
   "execution_count": 62,
   "id": "5b298171-a99d-46de-a6a7-f0d6c5d1edb4",
   "metadata": {},
   "outputs": [
    {
     "data": {
      "text/plain": [
       "'piasu'"
      ]
     },
     "execution_count": 62,
     "metadata": {},
     "output_type": "execute_result"
    }
   ],
   "source": [
    "# slicing Jump\n",
    "p[0:9:2]"
   ]
  },
  {
   "cell_type": "code",
   "execution_count": 64,
   "id": "f0ae84fd-1f95-4ab1-afc0-0613e760d77a",
   "metadata": {},
   "outputs": [
    {
     "data": {
      "text/plain": [
       "'rah'"
      ]
     },
     "execution_count": 64,
     "metadata": {},
     "output_type": "execute_result"
    }
   ],
   "source": [
    "p[1:8:3]"
   ]
  },
  {
   "cell_type": "code",
   "execution_count": 68,
   "id": "e469265c-ebcc-434e-b074-81e0ff3ab353",
   "metadata": {},
   "outputs": [
    {
     "data": {
      "text/plain": [
       "'priyanshu'"
      ]
     },
     "execution_count": 68,
     "metadata": {},
     "output_type": "execute_result"
    }
   ],
   "source": [
    "#forword direction\n",
    "p[::]"
   ]
  },
  {
   "cell_type": "code",
   "execution_count": 69,
   "id": "e9b6e84a-14b5-4099-b2fa-426a526f43a1",
   "metadata": {},
   "outputs": [
    {
     "data": {
      "text/plain": [
       "'uhsnayirp'"
      ]
     },
     "execution_count": 69,
     "metadata": {},
     "output_type": "execute_result"
    }
   ],
   "source": [
    "#backword Direction\n",
    "p[::-1]"
   ]
  },
  {
   "cell_type": "code",
   "execution_count": 70,
   "id": "eacdbe66-7b08-4c68-ae67-96ca9eec92bd",
   "metadata": {},
   "outputs": [
    {
     "data": {
      "text/plain": [
       "''"
      ]
     },
     "execution_count": 70,
     "metadata": {},
     "output_type": "execute_result"
    }
   ],
   "source": [
    "# but\n",
    "p[2:8:-2]"
   ]
  },
  {
   "cell_type": "code",
   "execution_count": 82,
   "id": "b60f1177-0a6b-4095-af88-42aa96bdb1df",
   "metadata": {},
   "outputs": [],
   "source": [
    "#String Function\n",
    "p='priyanshu'"
   ]
  },
  {
   "cell_type": "code",
   "execution_count": 83,
   "id": "e0f70413-cf14-492f-977f-b99f0e94a089",
   "metadata": {},
   "outputs": [
    {
     "data": {
      "text/plain": [
       "9"
      ]
     },
     "execution_count": 83,
     "metadata": {},
     "output_type": "execute_result"
    }
   ],
   "source": [
    "len(p)"
   ]
  },
  {
   "cell_type": "code",
   "execution_count": 84,
   "id": "759e163a-61e1-4fd4-9902-e57d9636b507",
   "metadata": {},
   "outputs": [
    {
     "data": {
      "text/plain": [
       "4"
      ]
     },
     "execution_count": 84,
     "metadata": {},
     "output_type": "execute_result"
    }
   ],
   "source": [
    "p.find('a')"
   ]
  },
  {
   "cell_type": "code",
   "execution_count": 85,
   "id": "a4dc67b7-ff29-4d01-9df1-9b2229e7f057",
   "metadata": {},
   "outputs": [
    {
     "data": {
      "text/plain": [
       "-1"
      ]
     },
     "execution_count": 85,
     "metadata": {},
     "output_type": "execute_result"
    }
   ],
   "source": [
    "p.find('z')"
   ]
  },
  {
   "cell_type": "code",
   "execution_count": 86,
   "id": "1c0e92df-df95-4d7e-a9ad-a91788daa549",
   "metadata": {},
   "outputs": [
    {
     "data": {
      "text/plain": [
       "1"
      ]
     },
     "execution_count": 86,
     "metadata": {},
     "output_type": "execute_result"
    }
   ],
   "source": [
    "p.count('p')"
   ]
  },
  {
   "cell_type": "code",
   "execution_count": 87,
   "id": "56703e3a-a0e9-4777-b244-9d8f0cec99af",
   "metadata": {},
   "outputs": [
    {
     "data": {
      "text/plain": [
       "'PRIYANSHU'"
      ]
     },
     "execution_count": 87,
     "metadata": {},
     "output_type": "execute_result"
    }
   ],
   "source": [
    "p.upper()"
   ]
  },
  {
   "cell_type": "code",
   "execution_count": 88,
   "id": "6a95e91f-437b-4086-89f6-e8fd17ebc5ad",
   "metadata": {},
   "outputs": [
    {
     "data": {
      "text/plain": [
       "'priyanshu'"
      ]
     },
     "execution_count": 88,
     "metadata": {},
     "output_type": "execute_result"
    }
   ],
   "source": [
    "p.lower()"
   ]
  },
  {
   "cell_type": "code",
   "execution_count": 91,
   "id": "67976005-5823-461b-ab11-788a438e91b6",
   "metadata": {},
   "outputs": [],
   "source": [
    "r = 'spend time with yourself'"
   ]
  },
  {
   "cell_type": "code",
   "execution_count": 93,
   "id": "3988ab0f-b883-480c-b3b7-4889a48962b7",
   "metadata": {},
   "outputs": [
    {
     "data": {
      "text/plain": [
       "'Spend Time With Yourself'"
      ]
     },
     "execution_count": 93,
     "metadata": {},
     "output_type": "execute_result"
    }
   ],
   "source": [
    "r.title()"
   ]
  },
  {
   "cell_type": "code",
   "execution_count": 94,
   "id": "1f25389f-3241-4bd6-a009-fc88d0995d86",
   "metadata": {},
   "outputs": [
    {
     "data": {
      "text/plain": [
       "'Spend time with yourself'"
      ]
     },
     "execution_count": 94,
     "metadata": {},
     "output_type": "execute_result"
    }
   ],
   "source": [
    "r.capitalize()"
   ]
  },
  {
   "cell_type": "code",
   "execution_count": 95,
   "id": "2cff11bb-95f3-467f-8507-78a36679aba7",
   "metadata": {},
   "outputs": [],
   "source": [
    "#typecasting\n",
    "a= 'priyanshu'"
   ]
  },
  {
   "cell_type": "code",
   "execution_count": 96,
   "id": "4e08402f-524d-4d5e-98db-a2695f9798b1",
   "metadata": {},
   "outputs": [
    {
     "ename": "TypeError",
     "evalue": "can only concatenate str (not \"int\") to str",
     "output_type": "error",
     "traceback": [
      "\u001b[1;31m---------------------------------------------------------------------------\u001b[0m",
      "\u001b[1;31mTypeError\u001b[0m                                 Traceback (most recent call last)",
      "\u001b[1;32m~\\AppData\\Local\\Temp\\ipykernel_7628\\4093587236.py\u001b[0m in \u001b[0;36m<module>\u001b[1;34m\u001b[0m\n\u001b[1;32m----> 1\u001b[1;33m \u001b[0ma\u001b[0m\u001b[1;33m+\u001b[0m\u001b[1;36m1\u001b[0m\u001b[1;33m\u001b[0m\u001b[1;33m\u001b[0m\u001b[0m\n\u001b[0m",
      "\u001b[1;31mTypeError\u001b[0m: can only concatenate str (not \"int\") to str"
     ]
    }
   ],
   "source": [
    "a+1"
   ]
  },
  {
   "cell_type": "code",
   "execution_count": 97,
   "id": "0d60546f-ea91-4bf7-aab5-0183128852c2",
   "metadata": {},
   "outputs": [
    {
     "data": {
      "text/plain": [
       "'priyanshu1'"
      ]
     },
     "execution_count": 97,
     "metadata": {},
     "output_type": "execute_result"
    }
   ],
   "source": [
    "a+str(1)"
   ]
  },
  {
   "cell_type": "code",
   "execution_count": 34,
   "id": "03916e7c-639e-4bbd-800c-287c398b3bf3",
   "metadata": {},
   "outputs": [],
   "source": [
    "#list\n",
    "l = [1,2,3,4,5,6,78,8656,45,454,54,3434,'priyanshu','rathod']"
   ]
  },
  {
   "cell_type": "code",
   "execution_count": 35,
   "id": "c68b7f0b-4ce9-4727-bdf4-5be8ffeac4ed",
   "metadata": {},
   "outputs": [
    {
     "data": {
      "text/plain": [
       "54"
      ]
     },
     "execution_count": 35,
     "metadata": {},
     "output_type": "execute_result"
    }
   ],
   "source": [
    "l[10]"
   ]
  },
  {
   "cell_type": "code",
   "execution_count": 36,
   "id": "721aceac-8b7e-4ccb-8433-d6ed3a20b924",
   "metadata": {},
   "outputs": [
    {
     "data": {
      "text/plain": [
       "[1, 2, 3, 4, 5, 6, 78, 8656, 45]"
      ]
     },
     "execution_count": 36,
     "metadata": {},
     "output_type": "execute_result"
    }
   ],
   "source": [
    "l[0:9]"
   ]
  },
  {
   "cell_type": "code",
   "execution_count": 37,
   "id": "96a71ab7-2832-40ca-98f0-c63628d49ee0",
   "metadata": {},
   "outputs": [
    {
     "data": {
      "text/plain": [
       "['rathod', 'priyanshu', 3434, 54, 454, 45, 8656, 78, 6, 5, 4, 3, 2, 1]"
      ]
     },
     "execution_count": 37,
     "metadata": {},
     "output_type": "execute_result"
    }
   ],
   "source": [
    "l[::-1]"
   ]
  },
  {
   "cell_type": "code",
   "execution_count": 38,
   "id": "f0b3edd3-8d28-40aa-9ec9-604a44219205",
   "metadata": {},
   "outputs": [
    {
     "data": {
      "text/plain": [
       "[2, 4, 6, 8656, 454, 3434, 'rathod']"
      ]
     },
     "execution_count": 38,
     "metadata": {},
     "output_type": "execute_result"
    }
   ],
   "source": [
    "l[1::2]"
   ]
  },
  {
   "cell_type": "code",
   "execution_count": 39,
   "id": "6d43a3f4-1e8b-4282-9dcd-70b835a55ccc",
   "metadata": {},
   "outputs": [
    {
     "data": {
      "text/plain": [
       "[1, 2, 3, 4, 5, 6, 78, 8656, 45, 454, 54, 3434, 'priyanshu', 'rathod', 's']"
      ]
     },
     "execution_count": 39,
     "metadata": {},
     "output_type": "execute_result"
    }
   ],
   "source": [
    "l+['s']"
   ]
  },
  {
   "cell_type": "code",
   "execution_count": 40,
   "id": "9a289007-3ec3-4b5f-8547-fc33e2666e8d",
   "metadata": {},
   "outputs": [
    {
     "data": {
      "text/plain": [
       "'an'"
      ]
     },
     "execution_count": 40,
     "metadata": {},
     "output_type": "execute_result"
    }
   ],
   "source": [
    "l[-2][4:6]"
   ]
  },
  {
   "cell_type": "code",
   "execution_count": 42,
   "id": "e6caf4cb-4e0e-4821-94c6-1c19049cf12a",
   "metadata": {},
   "outputs": [
    {
     "data": {
      "text/plain": [
       "[1, 2, 3, 4, 5, 6, 78, 8656, 45, 454, 54, 3434, 'priyanshu', 'rathod', 45]"
      ]
     },
     "execution_count": 42,
     "metadata": {},
     "output_type": "execute_result"
    }
   ],
   "source": [
    "l+[45]"
   ]
  },
  {
   "cell_type": "code",
   "execution_count": 43,
   "id": "deaa57b0-de95-438d-813b-4c24a06e76ee",
   "metadata": {},
   "outputs": [],
   "source": [
    "l1=[78,897,989,45]"
   ]
  },
  {
   "cell_type": "code",
   "execution_count": 48,
   "id": "90c7ad74-ffe3-4cb2-bfd5-0680e6c02aa0",
   "metadata": {},
   "outputs": [
    {
     "data": {
      "text/plain": [
       "[78, 897, 989, 45, 78, 897, 989, 45, 78, 897, 989, 45]"
      ]
     },
     "execution_count": 48,
     "metadata": {},
     "output_type": "execute_result"
    }
   ],
   "source": [
    "l1*3"
   ]
  },
  {
   "cell_type": "code",
   "execution_count": 53,
   "id": "6cb14b31-4d0d-48b0-821d-ef78ed74d572",
   "metadata": {},
   "outputs": [
    {
     "data": {
      "text/plain": [
       "14"
      ]
     },
     "execution_count": 53,
     "metadata": {},
     "output_type": "execute_result"
    }
   ],
   "source": [
    "len(l)"
   ]
  },
  {
   "cell_type": "code",
   "execution_count": 55,
   "id": "6987d115-2f55-4549-bd5b-aeca69bc48f1",
   "metadata": {},
   "outputs": [],
   "source": [
    "l1.append(4)"
   ]
  },
  {
   "cell_type": "code",
   "execution_count": 56,
   "id": "5296d01d-0b64-4979-aaea-0de3b1f003cf",
   "metadata": {},
   "outputs": [
    {
     "data": {
      "text/plain": [
       "[78, 897, 989, 45, 4]"
      ]
     },
     "execution_count": 56,
     "metadata": {},
     "output_type": "execute_result"
    }
   ],
   "source": [
    "l1"
   ]
  },
  {
   "cell_type": "code",
   "execution_count": 59,
   "id": "3a28a9c7-c14f-481e-b61e-d5c96c38ce45",
   "metadata": {},
   "outputs": [],
   "source": [
    "l.append(l1)"
   ]
  },
  {
   "cell_type": "code",
   "execution_count": 61,
   "id": "564b5b90-2e7b-44a0-8b2f-5c29b8cbe347",
   "metadata": {},
   "outputs": [
    {
     "name": "stdout",
     "output_type": "stream",
     "text": [
      "[1, 2, 3, 4, 5, 6, 78, 8656, 45, 454, 54, 3434, 'priyanshu', 'rathod', [78, 897, 989, 45, 4]]\n"
     ]
    }
   ],
   "source": [
    "print(l)"
   ]
  },
  {
   "cell_type": "code",
   "execution_count": 64,
   "id": "cafaf6dd-e520-4b32-8c26-7598712ff873",
   "metadata": {},
   "outputs": [
    {
     "data": {
      "text/plain": [
       "989"
      ]
     },
     "execution_count": 64,
     "metadata": {},
     "output_type": "execute_result"
    }
   ],
   "source": [
    "l[-1][2]"
   ]
  },
  {
   "cell_type": "code",
   "execution_count": 71,
   "id": "a9fef39c-335f-419b-aa48-66b81bd3f09a",
   "metadata": {},
   "outputs": [],
   "source": [
    "l2 =[1,121,221,23,232,232323,4,3,434,434]"
   ]
  },
  {
   "cell_type": "code",
   "execution_count": 92,
   "id": "ed8d877a-f763-4093-8590-3f20892f0d3b",
   "metadata": {},
   "outputs": [],
   "source": [
    "l.extend(l2)"
   ]
  },
  {
   "cell_type": "code",
   "execution_count": 93,
   "id": "0d78dda4-90e4-4fb7-9b5d-be0a173d1145",
   "metadata": {},
   "outputs": [
    {
     "name": "stdout",
     "output_type": "stream",
     "text": [
      "[1, 2, 3, 4, 5, 6, 78, 8656, 45, 454, 54, 3434, 'priyanshu', 'rathod', [78, 897, 989, 45, 4], 78, 897, 989, 45, 4, 1, 2, 3, 4, 5, 6, 78, 8656, 45, 454, 54, 3434, 'priyanshu', 'rathod', [78, 897, 989, 45, 4], 78, 897, 989, 45, 4, 1, 121, 221, 23, 232, 232323, 4, 3, 434, 434, 1, 2, 121, 1, [3, 4, 5, 6, 7, 8, 9], [3, 4, 5, 6, 7, 8, 9], [3, 4, 5, 6, 7, 8, 9], [3, 4, 5, 6, 7, 8, 9], 2, 221, 23, 232, 232323, 4, 3, 434, 434]\n"
     ]
    }
   ],
   "source": [
    "print(l)"
   ]
  },
  {
   "cell_type": "code",
   "execution_count": 96,
   "id": "92b9b99e-8f8b-4e50-ae4b-1d192106bebd",
   "metadata": {},
   "outputs": [],
   "source": [
    "l2.insert(2,1)"
   ]
  },
  {
   "cell_type": "code",
   "execution_count": 97,
   "id": "c967e45d-cddd-4af2-abd6-1761b0bd137c",
   "metadata": {},
   "outputs": [
    {
     "data": {
      "text/plain": [
       "[1,\n",
       " 2,\n",
       " 1,\n",
       " 1,\n",
       " 121,\n",
       " 1,\n",
       " [3, 4, 5, 6, 7, 8, 9],\n",
       " [3, 4, 5, 6, 7, 8, 9],\n",
       " [3, 4, 5, 6, 7, 8, 9],\n",
       " [3, 4, 5, 6, 7, 8, 9],\n",
       " 2,\n",
       " 221,\n",
       " 23,\n",
       " 232,\n",
       " 232323,\n",
       " 4,\n",
       " 3,\n",
       " 434,\n",
       " 434]"
      ]
     },
     "execution_count": 97,
     "metadata": {},
     "output_type": "execute_result"
    }
   ],
   "source": [
    "l2"
   ]
  },
  {
   "cell_type": "code",
   "execution_count": 98,
   "id": "9ca81be3-0012-4eb0-a88e-b33f8c5b8fe6",
   "metadata": {},
   "outputs": [],
   "source": [
    "l2.insert(0,'asdfgh')"
   ]
  },
  {
   "cell_type": "code",
   "execution_count": 99,
   "id": "7653da2e-005d-4152-9ee4-55dcbc38ca2b",
   "metadata": {},
   "outputs": [
    {
     "data": {
      "text/plain": [
       "['asdfgh',\n",
       " 1,\n",
       " 2,\n",
       " 1,\n",
       " 1,\n",
       " 121,\n",
       " 1,\n",
       " [3, 4, 5, 6, 7, 8, 9],\n",
       " [3, 4, 5, 6, 7, 8, 9],\n",
       " [3, 4, 5, 6, 7, 8, 9],\n",
       " [3, 4, 5, 6, 7, 8, 9],\n",
       " 2,\n",
       " 221,\n",
       " 23,\n",
       " 232,\n",
       " 232323,\n",
       " 4,\n",
       " 3,\n",
       " 434,\n",
       " 434]"
      ]
     },
     "execution_count": 99,
     "metadata": {},
     "output_type": "execute_result"
    }
   ],
   "source": [
    "l2"
   ]
  },
  {
   "cell_type": "code",
   "execution_count": 104,
   "id": "9469ec7c-95b8-4ac9-97cd-6fbe361b3a58",
   "metadata": {},
   "outputs": [
    {
     "data": {
      "text/plain": [
       "[3, 4, 5, 6, 7, 8, 9]"
      ]
     },
     "execution_count": 104,
     "metadata": {},
     "output_type": "execute_result"
    }
   ],
   "source": [
    "l2.pop(7)"
   ]
  },
  {
   "cell_type": "code",
   "execution_count": 105,
   "id": "031f0547-c0b1-4805-a311-e12cbe9eb906",
   "metadata": {},
   "outputs": [
    {
     "data": {
      "text/plain": [
       "['asdfgh',\n",
       " 1,\n",
       " 2,\n",
       " 1,\n",
       " 1,\n",
       " 121,\n",
       " 1,\n",
       " [3, 4, 5, 6, 7, 8, 9],\n",
       " 2,\n",
       " 221,\n",
       " 23,\n",
       " 232,\n",
       " 232323,\n",
       " 4,\n",
       " 3,\n",
       " 434,\n",
       " 434]"
      ]
     },
     "execution_count": 105,
     "metadata": {},
     "output_type": "execute_result"
    }
   ],
   "source": [
    "l2"
   ]
  },
  {
   "cell_type": "code",
   "execution_count": 106,
   "id": "a7afc92f-96d8-4285-8752-fc85f33ac073",
   "metadata": {},
   "outputs": [
    {
     "data": {
      "text/plain": [
       "121"
      ]
     },
     "execution_count": 106,
     "metadata": {},
     "output_type": "execute_result"
    }
   ],
   "source": [
    "l2.pop(5)"
   ]
  },
  {
   "cell_type": "code",
   "execution_count": 107,
   "id": "8a1da1f2-3fd4-4431-bca7-e7a1dc6c323e",
   "metadata": {},
   "outputs": [
    {
     "data": {
      "text/plain": [
       "['asdfgh',\n",
       " 1,\n",
       " 2,\n",
       " 1,\n",
       " 1,\n",
       " 1,\n",
       " [3, 4, 5, 6, 7, 8, 9],\n",
       " 2,\n",
       " 221,\n",
       " 23,\n",
       " 232,\n",
       " 232323,\n",
       " 4,\n",
       " 3,\n",
       " 434,\n",
       " 434]"
      ]
     },
     "execution_count": 107,
     "metadata": {},
     "output_type": "execute_result"
    }
   ],
   "source": [
    "l2"
   ]
  },
  {
   "cell_type": "code",
   "execution_count": 108,
   "id": "cd87507c-def9-4f4b-8677-40d45b9a4d3f",
   "metadata": {},
   "outputs": [],
   "source": [
    "l2.remove([3,4,5,6,7,8,9])"
   ]
  },
  {
   "cell_type": "code",
   "execution_count": 109,
   "id": "8cc158d8-8885-471d-8eae-af826af96397",
   "metadata": {},
   "outputs": [
    {
     "data": {
      "text/plain": [
       "['asdfgh', 1, 2, 1, 1, 1, 2, 221, 23, 232, 232323, 4, 3, 434, 434]"
      ]
     },
     "execution_count": 109,
     "metadata": {},
     "output_type": "execute_result"
    }
   ],
   "source": [
    "l2"
   ]
  },
  {
   "cell_type": "code",
   "execution_count": 118,
   "id": "d5a47447-4965-4b74-a658-b2569c1d9c1e",
   "metadata": {},
   "outputs": [],
   "source": [
    "l3=[1,2,3,4,5,6,7,'priyanshu']"
   ]
  },
  {
   "cell_type": "code",
   "execution_count": 119,
   "id": "463eeca2-71e0-4136-8af7-9c0e992cb5c4",
   "metadata": {},
   "outputs": [],
   "source": [
    "l2.append(l3)"
   ]
  },
  {
   "cell_type": "code",
   "execution_count": 120,
   "id": "ec87a533-0f4b-4f8c-9395-0e50dcd15063",
   "metadata": {},
   "outputs": [
    {
     "name": "stdout",
     "output_type": "stream",
     "text": [
      "['asdfgh', 1, 2, 1, 1, 1, 2, 221, 23, 232, 232323, 4, 3, 434, 434, [1, 3, 4, 5, 6, 7], [1, 2, 3, 4, 5, 6, 7, 'priyanshu']]\n"
     ]
    }
   ],
   "source": [
    "print(l2)"
   ]
  },
  {
   "cell_type": "code",
   "execution_count": 121,
   "id": "8f9c1cb4-eb92-4e23-ae42-f5ec67cc4898",
   "metadata": {},
   "outputs": [],
   "source": [
    "l2[-1].remove(2)"
   ]
  },
  {
   "cell_type": "code",
   "execution_count": 122,
   "id": "b5f1df32-e99b-466d-8ca3-49a97232b3cb",
   "metadata": {},
   "outputs": [
    {
     "name": "stdout",
     "output_type": "stream",
     "text": [
      "['asdfgh', 1, 2, 1, 1, 1, 2, 221, 23, 232, 232323, 4, 3, 434, 434, [1, 3, 4, 5, 6, 7], [1, 3, 4, 5, 6, 7, 'priyanshu']]\n"
     ]
    }
   ],
   "source": [
    "print(l2)"
   ]
  },
  {
   "cell_type": "code",
   "execution_count": 124,
   "id": "5ef65926-1ace-4df0-9663-6366ea04c23e",
   "metadata": {},
   "outputs": [],
   "source": [
    "l2.reverse()"
   ]
  },
  {
   "cell_type": "code",
   "execution_count": 125,
   "id": "cb0c3bec-fe69-4714-8979-12ef46b6b60d",
   "metadata": {},
   "outputs": [
    {
     "data": {
      "text/plain": [
       "[[1, 3, 4, 5, 6, 7, 'priyanshu'],\n",
       " [1, 3, 4, 5, 6, 7],\n",
       " 434,\n",
       " 434,\n",
       " 3,\n",
       " 4,\n",
       " 232323,\n",
       " 232,\n",
       " 23,\n",
       " 221,\n",
       " 2,\n",
       " 1,\n",
       " 1,\n",
       " 1,\n",
       " 2,\n",
       " 1,\n",
       " 'asdfgh']"
      ]
     },
     "execution_count": 125,
     "metadata": {},
     "output_type": "execute_result"
    }
   ],
   "source": [
    "l2"
   ]
  },
  {
   "cell_type": "code",
   "execution_count": 126,
   "id": "3747a284-d5c6-4ff5-8080-187d2a87258f",
   "metadata": {},
   "outputs": [],
   "source": [
    "l4 = [2323,45465,5453,43,65,4545,1,2,3,4,663,4,6,7,8,743,3,56]"
   ]
  },
  {
   "cell_type": "code",
   "execution_count": 133,
   "id": "ac6b25a5-172a-445a-9086-29cfb424c27c",
   "metadata": {},
   "outputs": [],
   "source": [
    "l4.sort(reverse= True)"
   ]
  },
  {
   "cell_type": "code",
   "execution_count": 134,
   "id": "b4795195-7155-4f14-b815-f8a18ae4dd30",
   "metadata": {},
   "outputs": [
    {
     "data": {
      "text/plain": [
       "[45465, 5453, 4545, 2323, 743, 663, 65, 56, 43, 8, 7, 6, 4, 4, 3, 3, 2, 1]"
      ]
     },
     "execution_count": 134,
     "metadata": {},
     "output_type": "execute_result"
    }
   ],
   "source": [
    "l4"
   ]
  },
  {
   "cell_type": "code",
   "execution_count": 135,
   "id": "d35f5c36-2348-4ba8-9c45-bee40b0d1dfc",
   "metadata": {},
   "outputs": [],
   "source": [
    "l4.sort()"
   ]
  },
  {
   "cell_type": "code",
   "execution_count": 136,
   "id": "c748cf51-3677-4fad-bc94-0938763e24d6",
   "metadata": {},
   "outputs": [
    {
     "data": {
      "text/plain": [
       "[1, 2, 3, 3, 4, 4, 6, 7, 8, 43, 56, 65, 663, 743, 2323, 4545, 5453, 45465]"
      ]
     },
     "execution_count": 136,
     "metadata": {},
     "output_type": "execute_result"
    }
   ],
   "source": [
    "l4"
   ]
  },
  {
   "cell_type": "code",
   "execution_count": 138,
   "id": "f90dc08c-4919-4ab4-8f2b-d511c7bed1d4",
   "metadata": {},
   "outputs": [
    {
     "data": {
      "text/plain": [
       "10"
      ]
     },
     "execution_count": 138,
     "metadata": {},
     "output_type": "execute_result"
    }
   ],
   "source": [
    "l4.index(56)"
   ]
  },
  {
   "cell_type": "code",
   "execution_count": 139,
   "id": "5da8100f-4aed-4396-9067-40065a902345",
   "metadata": {},
   "outputs": [
    {
     "data": {
      "text/plain": [
       "2"
      ]
     },
     "execution_count": 139,
     "metadata": {},
     "output_type": "execute_result"
    }
   ],
   "source": [
    "l4.count(3)"
   ]
  },
  {
   "cell_type": "code",
   "execution_count": 140,
   "id": "f5695f4b-ba8d-416e-be87-3b121c34e60e",
   "metadata": {},
   "outputs": [],
   "source": [
    "l5=['sudh', 'priyanshi','rathod']"
   ]
  },
  {
   "cell_type": "code",
   "execution_count": 141,
   "id": "8df6d81c-77af-4a06-86c8-2cf5f0dcd8f8",
   "metadata": {},
   "outputs": [
    {
     "data": {
      "text/plain": [
       "[1, 2, 3, 3, 4, 4, 6, 7, 8, 43, 56, 65, 663, 743, 2323, 4545, 5453, 45465]"
      ]
     },
     "execution_count": 141,
     "metadata": {},
     "output_type": "execute_result"
    }
   ],
   "source": [
    "l4"
   ]
  },
  {
   "cell_type": "code",
   "execution_count": 144,
   "id": "6604df0c-7ded-4e9b-b258-48276baa7383",
   "metadata": {},
   "outputs": [],
   "source": [
    "l4[5]=3434334"
   ]
  },
  {
   "cell_type": "code",
   "execution_count": 180,
   "id": "1882479e-fe89-482d-b96f-a09fb4237200",
   "metadata": {},
   "outputs": [
    {
     "data": {
      "text/plain": [
       "{1, 2, 3, 4, 6, 7, 8, 43, 56, 65, 663, 743, 2323, 4545, 5453, 45465, 3434334}"
      ]
     },
     "execution_count": 180,
     "metadata": {},
     "output_type": "execute_result"
    }
   ],
   "source": [
    "set(l4)"
   ]
  },
  {
   "cell_type": "code",
   "execution_count": 179,
   "id": "3b67a60d-9282-4242-8c91-638d8a227faf",
   "metadata": {},
   "outputs": [
    {
     "data": {
      "text/plain": [
       "'pruyanshu'"
      ]
     },
     "execution_count": 179,
     "metadata": {},
     "output_type": "execute_result"
    }
   ],
   "source": [
    "l5[1].replace('i','u')"
   ]
  },
  {
   "cell_type": "code",
   "execution_count": null,
   "id": "8304e035-2bb8-4c75-bcd1-16703facf8ff",
   "metadata": {},
   "outputs": [
    {
     "data": {
      "text/plain": [
       "['sudh', 'priyanshi', 'rathod']"
      ]
     },
     "execution_count": 148,
     "metadata": {},
     "output_type": "execute_result"
    }
   ],
   "source": [
    "l5"
   ]
  },
  {
   "cell_type": "code",
   "execution_count": 164,
   "id": "22c943fc-e13b-46f5-952b-0148832c1216",
   "metadata": {},
   "outputs": [],
   "source": [
    "#tuple\n",
    "q= (1,2,3,23,2,333,343,'priyanefd','ddddf')"
   ]
  },
  {
   "cell_type": "code",
   "execution_count": 165,
   "id": "5f69ce58-8029-4d18-b7b6-37d0039e0fc8",
   "metadata": {},
   "outputs": [
    {
     "data": {
      "text/plain": [
       "tuple"
      ]
     },
     "execution_count": 165,
     "metadata": {},
     "output_type": "execute_result"
    }
   ],
   "source": [
    "type(q)"
   ]
  },
  {
   "cell_type": "code",
   "execution_count": 166,
   "id": "7f318796-d5fe-4917-af3b-8184731083cc",
   "metadata": {},
   "outputs": [
    {
     "data": {
      "text/plain": [
       "2"
      ]
     },
     "execution_count": 166,
     "metadata": {},
     "output_type": "execute_result"
    }
   ],
   "source": [
    "q.count(2)"
   ]
  },
  {
   "cell_type": "code",
   "execution_count": 167,
   "id": "fb10e42d-9ab6-4bc4-94ff-c7e043fd2b3f",
   "metadata": {},
   "outputs": [
    {
     "data": {
      "text/plain": [
       "3"
      ]
     },
     "execution_count": 167,
     "metadata": {},
     "output_type": "execute_result"
    }
   ],
   "source": [
    "q.index(23)"
   ]
  },
  {
   "cell_type": "code",
   "execution_count": 1,
   "id": "230315c8-129b-44ef-b244-903ea25a28a4",
   "metadata": {},
   "outputs": [],
   "source": [
    "#set\n",
    "s={1,1,5,5,5,9,7,7,7,7,7,5,5,5,5,4,4,46,4,4,4,4}"
   ]
  },
  {
   "cell_type": "code",
   "execution_count": 176,
   "id": "733d54e2-9333-4b54-a26b-320a06f0cda5",
   "metadata": {},
   "outputs": [
    {
     "data": {
      "text/plain": [
       "{1, 4, 5, 7, 9, 46}"
      ]
     },
     "execution_count": 176,
     "metadata": {},
     "output_type": "execute_result"
    }
   ],
   "source": [
    "s"
   ]
  },
  {
   "cell_type": "code",
   "execution_count": 187,
   "id": "0f31a72a-96d9-41a9-a8c7-fd52c94cd1c3",
   "metadata": {},
   "outputs": [],
   "source": [
    "l2 = list(set(l1))"
   ]
  },
  {
   "cell_type": "code",
   "execution_count": 188,
   "id": "00f459d9-64d8-486d-a6d4-74d872361aad",
   "metadata": {},
   "outputs": [
    {
     "data": {
      "text/plain": [
       "[897, 4, 45, 78, 989]"
      ]
     },
     "execution_count": 188,
     "metadata": {},
     "output_type": "execute_result"
    }
   ],
   "source": [
    "l2"
   ]
  },
  {
   "cell_type": "code",
   "execution_count": 189,
   "id": "3340d56b-51f4-4aa8-96cb-99956381a0f4",
   "metadata": {},
   "outputs": [],
   "source": [
    "s.add(2)"
   ]
  },
  {
   "cell_type": "code",
   "execution_count": 190,
   "id": "84fd1476-3461-404c-88bb-2c4afe5f92df",
   "metadata": {},
   "outputs": [
    {
     "data": {
      "text/plain": [
       "{1, 2, 4, 5, 7, 9, 46}"
      ]
     },
     "execution_count": 190,
     "metadata": {},
     "output_type": "execute_result"
    }
   ],
   "source": [
    "s"
   ]
  },
  {
   "cell_type": "code",
   "execution_count": 191,
   "id": "8b4d104a-3111-48b1-b92a-5f37a038e052",
   "metadata": {},
   "outputs": [],
   "source": [
    "s.add(2)"
   ]
  },
  {
   "cell_type": "code",
   "execution_count": 192,
   "id": "78398e8b-03b6-4d8b-948b-b437dec1141a",
   "metadata": {},
   "outputs": [
    {
     "data": {
      "text/plain": [
       "{1, 2, 4, 5, 7, 9, 46}"
      ]
     },
     "execution_count": 192,
     "metadata": {},
     "output_type": "execute_result"
    }
   ],
   "source": [
    "s"
   ]
  },
  {
   "cell_type": "code",
   "execution_count": 2,
   "id": "8678cbf5-9a74-4db4-8136-cdd86c6b1c51",
   "metadata": {},
   "outputs": [],
   "source": [
    "#dictionary \n",
    "d={'priyanshu':'rathod'}"
   ]
  },
  {
   "cell_type": "code",
   "execution_count": 13,
   "id": "e0b4954b-7709-4a06-9dd8-b33cf17526da",
   "metadata": {},
   "outputs": [],
   "source": [
    "d2 = {'name':'priyanshu','mail':'techrathee@gamil.com'}"
   ]
  },
  {
   "cell_type": "code",
   "execution_count": 5,
   "id": "f8b63ace-30f2-40f8-bc96-92876c6c20c2",
   "metadata": {},
   "outputs": [
    {
     "data": {
      "text/plain": [
       "{'name': 'priyanshu', 'mail': 'techrathee@gamil.com'}"
      ]
     },
     "execution_count": 5,
     "metadata": {},
     "output_type": "execute_result"
    }
   ],
   "source": [
    "d2"
   ]
  },
  {
   "cell_type": "code",
   "execution_count": 15,
   "id": "ee6550ce-6970-44a4-b5b5-40d11adddb73",
   "metadata": {},
   "outputs": [],
   "source": [
    "d3={True:'techrathee'}"
   ]
  },
  {
   "cell_type": "code",
   "execution_count": 16,
   "id": "d714baa9-95c3-4a30-949f-38aef1761100",
   "metadata": {},
   "outputs": [
    {
     "data": {
      "text/plain": [
       "'priyanshu'"
      ]
     },
     "execution_count": 16,
     "metadata": {},
     "output_type": "execute_result"
    }
   ],
   "source": [
    "d2['name']"
   ]
  },
  {
   "cell_type": "code",
   "execution_count": 18,
   "id": "61d88ac4-1eb7-46f5-ae57-c039e7725c34",
   "metadata": {},
   "outputs": [
    {
     "data": {
      "text/plain": [
       "'techrathee'"
      ]
     },
     "execution_count": 18,
     "metadata": {},
     "output_type": "execute_result"
    }
   ],
   "source": [
    "d3[1]"
   ]
  },
  {
   "cell_type": "code",
   "execution_count": 19,
   "id": "c733e75c-7b8a-4f6c-8a29-4ff3bc87f0e1",
   "metadata": {},
   "outputs": [],
   "source": [
    "d4 ={'name':'pryianshu','surnames':'rathod','name':'priyanshi' }"
   ]
  },
  {
   "cell_type": "code",
   "execution_count": 20,
   "id": "2b9bd1b9-89cf-4a5d-8d8b-f33039463256",
   "metadata": {},
   "outputs": [
    {
     "data": {
      "text/plain": [
       "'priyanshi'"
      ]
     },
     "execution_count": 20,
     "metadata": {},
     "output_type": "execute_result"
    }
   ],
   "source": [
    "d4['name']"
   ]
  },
  {
   "cell_type": "code",
   "execution_count": 22,
   "id": "63470a0f-fc3c-4a2a-a42f-0c03bd765a1a",
   "metadata": {},
   "outputs": [],
   "source": [
    "d5 = {'copmpay':'priyanshu','key':['priynashu','rathod','trustee',434343 ]}"
   ]
  },
  {
   "cell_type": "code",
   "execution_count": 23,
   "id": "75b5a941-691b-44f9-9909-acb543dc4dae",
   "metadata": {},
   "outputs": [
    {
     "data": {
      "text/plain": [
       "434343"
      ]
     },
     "execution_count": 23,
     "metadata": {},
     "output_type": "execute_result"
    }
   ],
   "source": [
    "d5['key'][-1]"
   ]
  },
  {
   "cell_type": "code",
   "execution_count": 25,
   "id": "4feddd09-9144-4ee9-ba59-fc791f3628a3",
   "metadata": {},
   "outputs": [],
   "source": [
    "d6 = {'acces':[1,2,5,7,8,9,99,6,6,554,45],'assignment':(1,2,5,55,8,8,7,1000,9,9,9)}"
   ]
  },
  {
   "cell_type": "code",
   "execution_count": 29,
   "id": "94111939-4b1b-4511-bdcb-5699e82ea707",
   "metadata": {},
   "outputs": [
    {
     "data": {
      "text/plain": [
       "9"
      ]
     },
     "execution_count": 29,
     "metadata": {},
     "output_type": "execute_result"
    }
   ],
   "source": [
    "d6['assignment'][-1]"
   ]
  },
  {
   "cell_type": "code",
   "execution_count": 34,
   "id": "f07c0a99-e18d-48e0-a594-b590e739d61e",
   "metadata": {},
   "outputs": [],
   "source": [
    "d7={'list':[7,8,9,4,5,6,1,23,'spend','wtf'],'tuple':(1121,33233,44,55,33,77,55,'qqwee'),'set':{1122,54545,'fgfgf'},'dic':{'qwqe':33,3434:'erer'}}"
   ]
  },
  {
   "cell_type": "code",
   "execution_count": 35,
   "id": "90757c45-b9ba-4785-a3df-5d1cec04c71f",
   "metadata": {},
   "outputs": [
    {
     "data": {
      "text/plain": [
       "dict_keys(['list', 'tuple', 'set', 'dic'])"
      ]
     },
     "execution_count": 35,
     "metadata": {},
     "output_type": "execute_result"
    }
   ],
   "source": [
    "d7.keys()"
   ]
  },
  {
   "cell_type": "code",
   "execution_count": 38,
   "id": "2537136f-96b5-4d85-8205-fcd57a7332af",
   "metadata": {},
   "outputs": [
    {
     "data": {
      "text/plain": [
       "{'qwqe': 33, 3434: 'erer'}"
      ]
     },
     "execution_count": 38,
     "metadata": {},
     "output_type": "execute_result"
    }
   ],
   "source": [
    "d7['dic']"
   ]
  },
  {
   "cell_type": "code",
   "execution_count": 39,
   "id": "c6ff8adb-d9ce-41ab-b849-3f7197c99152",
   "metadata": {},
   "outputs": [],
   "source": [
    "d7['lert'] = [3232323,323,2323,]"
   ]
  },
  {
   "cell_type": "code",
   "execution_count": 40,
   "id": "a2e9edc4-0ed7-4794-b304-3914ea90d592",
   "metadata": {},
   "outputs": [
    {
     "data": {
      "text/plain": [
       "{'list': [7, 8, 9, 4, 5, 6, 1, 23, 'spend', 'wtf'],\n",
       " 'tuple': (1121, 33233, 44, 55, 33, 77, 55, 'qqwee'),\n",
       " 'set': {1122, 54545, 'fgfgf'},\n",
       " 'dic': {'qwqe': 33, 3434: 'erer'},\n",
       " 'lert': [3232323, 323, 2323]}"
      ]
     },
     "execution_count": 40,
     "metadata": {},
     "output_type": "execute_result"
    }
   ],
   "source": [
    "d7"
   ]
  },
  {
   "cell_type": "code",
   "execution_count": 41,
   "id": "50a49d98-ddd9-4adf-8458-93298c8b5be8",
   "metadata": {},
   "outputs": [],
   "source": [
    "del d7['lert']"
   ]
  },
  {
   "cell_type": "code",
   "execution_count": 42,
   "id": "8fef399d-54b6-4231-a194-caf97e41c6ce",
   "metadata": {},
   "outputs": [
    {
     "data": {
      "text/plain": [
       "{'list': [7, 8, 9, 4, 5, 6, 1, 23, 'spend', 'wtf'],\n",
       " 'tuple': (1121, 33233, 44, 55, 33, 77, 55, 'qqwee'),\n",
       " 'set': {1122, 54545, 'fgfgf'},\n",
       " 'dic': {'qwqe': 33, 3434: 'erer'}}"
      ]
     },
     "execution_count": 42,
     "metadata": {},
     "output_type": "execute_result"
    }
   ],
   "source": [
    "d7"
   ]
  },
  {
   "cell_type": "code",
   "execution_count": 44,
   "id": "915b3273-c0a4-46f6-a19a-52770455a927",
   "metadata": {},
   "outputs": [
    {
     "data": {
      "text/plain": [
       "dict_keys(['list', 'tuple', 'set', 'dic'])"
      ]
     },
     "execution_count": 44,
     "metadata": {},
     "output_type": "execute_result"
    }
   ],
   "source": [
    "d7.keys()"
   ]
  },
  {
   "cell_type": "code",
   "execution_count": 47,
   "id": "1c9c7827-2a0d-44db-90ab-ab3f81f1bdfc",
   "metadata": {},
   "outputs": [
    {
     "data": {
      "text/plain": [
       "['list', 'tuple', 'set', 'dic']"
      ]
     },
     "execution_count": 47,
     "metadata": {},
     "output_type": "execute_result"
    }
   ],
   "source": [
    "list(d7.keys())"
   ]
  },
  {
   "cell_type": "code",
   "execution_count": 49,
   "id": "d7a6589d-0dc3-46f0-9c4d-9a5f9d39f1ea",
   "metadata": {},
   "outputs": [
    {
     "data": {
      "text/plain": [
       "dict_values([[7, 8, 9, 4, 5, 6, 1, 23, 'spend', 'wtf'], (1121, 33233, 44, 55, 33, 77, 55, 'qqwee'), {'fgfgf', 54545, 1122}, {'qwqe': 33, 3434: 'erer'}])"
      ]
     },
     "execution_count": 49,
     "metadata": {},
     "output_type": "execute_result"
    }
   ],
   "source": [
    "d7.values()"
   ]
  },
  {
   "cell_type": "code",
   "execution_count": 56,
   "id": "2a51f415-1b1b-41b2-a7b6-ad865a99ac5d",
   "metadata": {},
   "outputs": [
    {
     "data": {
      "text/plain": [
       "[('list', [7, 8, 9, 4, 5, 6, 1, 23, 'spend', 'wtf']),\n",
       " ('tuple', (1121, 33233, 44, 55, 33, 77, 55, 'qqwee')),\n",
       " ('set', {1122, 54545, 'fgfgf'}),\n",
       " ('dic', {'qwqe': 33, 3434: 'erer'})]"
      ]
     },
     "execution_count": 56,
     "metadata": {},
     "output_type": "execute_result"
    }
   ],
   "source": [
    "list(d7.items())"
   ]
  },
  {
   "cell_type": "code",
   "execution_count": 57,
   "id": "df9a5e00-1717-4ceb-a71c-8dbbf164ccb8",
   "metadata": {},
   "outputs": [
    {
     "data": {
      "text/plain": [
       "{1122, 54545, 'fgfgf'}"
      ]
     },
     "execution_count": 57,
     "metadata": {},
     "output_type": "execute_result"
    }
   ],
   "source": [
    "d7.pop('set')"
   ]
  },
  {
   "cell_type": "code",
   "execution_count": 58,
   "id": "cf6cf603-fbd2-43e6-b28a-9f3f7e24d9e5",
   "metadata": {},
   "outputs": [
    {
     "data": {
      "text/plain": [
       "{'list': [7, 8, 9, 4, 5, 6, 1, 23, 'spend', 'wtf'],\n",
       " 'tuple': (1121, 33233, 44, 55, 33, 77, 55, 'qqwee'),\n",
       " 'dic': {'qwqe': 33, 3434: 'erer'}}"
      ]
     },
     "execution_count": 58,
     "metadata": {},
     "output_type": "execute_result"
    }
   ],
   "source": [
    "d7"
   ]
  },
  {
   "cell_type": "code",
   "execution_count": 65,
   "id": "6f93dde3-7b8f-41d1-adb7-b333f37912fa",
   "metadata": {},
   "outputs": [
    {
     "name": "stdout",
     "output_type": "stream",
     "text": [
      "yo will be a part of A3 batch\n"
     ]
    }
   ],
   "source": [
    "#Conditional statement\n",
    "marks = 10\n",
    "if marks >= 80:\n",
    "              print('you will be a part of A0 batch')\n",
    "elif marks >=60 and marks < 80:\n",
    "    print('you will part a1 batch')\n",
    "elif marks >= 40 and marks < 60:\n",
    "    print('you will be a part of A2 batch')\n",
    "else :\n",
    "              print(\"yo will be a part of A3 batch\")"
   ]
  },
  {
   "cell_type": "code",
   "execution_count": 68,
   "id": "ef46dcdd-58da-4d0d-a08d-eda7a8cfafa4",
   "metadata": {},
   "outputs": [
    {
     "name": "stdin",
     "output_type": "stream",
     "text": [
      "ENter your marks 12\n"
     ]
    },
    {
     "name": "stdout",
     "output_type": "stream",
     "text": [
      "yo will be a part of A3 batch\n"
     ]
    }
   ],
   "source": [
    "marks = int(input('ENter your marks'))\n",
    "if marks >= 80:\n",
    "              print('you will be a part of A0 batch')\n",
    "elif marks >=60 and marks < 80:\n",
    "    print('you will part a1 batch')\n",
    "elif marks >= 40 and marks < 60:\n",
    "    print('you will be a part of A2 batch')\n",
    "else :\n",
    "              print(\"yo will be a part of A3 batch\")"
   ]
  },
  {
   "cell_type": "code",
   "execution_count": 70,
   "id": "387f2a17-7b6e-43d9-9e44-d19238fba428",
   "metadata": {},
   "outputs": [],
   "source": [
    "#loop\n",
    "l1=[]\n",
    "l=[1,2,3,4,5,6,7,8]\n",
    "for i in l:\n",
    "    l1.append(i+1)"
   ]
  },
  {
   "cell_type": "code",
   "execution_count": 71,
   "id": "919bc74e-1be3-45b2-819e-79317cb3587b",
   "metadata": {},
   "outputs": [
    {
     "data": {
      "text/plain": [
       "[2, 3, 4, 5, 6, 7, 8, 9]"
      ]
     },
     "execution_count": 71,
     "metadata": {},
     "output_type": "execute_result"
    }
   ],
   "source": [
    "l1"
   ]
  },
  {
   "cell_type": "code",
   "execution_count": 72,
   "id": "3a1cbee7-4280-4be0-98f5-6d4acf6fe6ec",
   "metadata": {},
   "outputs": [],
   "source": [
    "l3 = ['pryasnhu','rathod','tech','rathee']"
   ]
  },
  {
   "cell_type": "code",
   "execution_count": 83,
   "id": "cb60a2a1-3e2b-48d8-9a77-f12e55f89e00",
   "metadata": {},
   "outputs": [],
   "source": [
    "l4=[]\n",
    "for i in l3:\n",
    "    l4.append(i.upper())"
   ]
  },
  {
   "cell_type": "code",
   "execution_count": 84,
   "id": "89d2c565-9380-4549-93e2-e9b2e1d36c5c",
   "metadata": {},
   "outputs": [
    {
     "data": {
      "text/plain": [
       "['PRYASNHU', 'RATHOD', 'TECH', 'RATHEE']"
      ]
     },
     "execution_count": 84,
     "metadata": {},
     "output_type": "execute_result"
    }
   ],
   "source": [
    "l4"
   ]
  },
  {
   "cell_type": "code",
   "execution_count": 105,
   "id": "53643b25-f899-4030-b040-0a4ae1372f76",
   "metadata": {},
   "outputs": [],
   "source": [
    "#forloop\n",
    "l = [1,3,4,6.55,4,2,'pryianshu','tech',3,7,8,90.55,3,'rathee']"
   ]
  },
  {
   "cell_type": "code",
   "execution_count": 101,
   "id": "04a3f99f-114f-4298-9914-3f4a96a0670d",
   "metadata": {},
   "outputs": [],
   "source": [
    "l1_num=[]\n",
    "l2_str=[]\n",
    "for i in l :\n",
    "    if  type(i)== int or type(i)== float:\n",
    "        l1_num.append(i)\n",
    "    else:\n",
    "        l2_str.append(i)"
   ]
  },
  {
   "cell_type": "code",
   "execution_count": 104,
   "id": "0a878c2f-10f6-41e4-9938-587c4f8e2190",
   "metadata": {},
   "outputs": [
    {
     "name": "stdout",
     "output_type": "stream",
     "text": [
      "[1, 3, 4, 6.55, 4, 2, 3, 7, 8, 90.55, 3]\n",
      "['pryianshu', 'tech', 'rathee']\n"
     ]
    }
   ],
   "source": [
    "print(l1_num)\n",
    "print(l2_str)"
   ]
  },
  {
   "cell_type": "code",
   "execution_count": 119,
   "id": "2c1f3dd6-7813-436a-99f8-2d8550a91708",
   "metadata": {},
   "outputs": [],
   "source": [
    "l=[1,2,3,4,5,6,7,8,9,10]"
   ]
  },
  {
   "cell_type": "code",
   "execution_count": 126,
   "id": "276f9a7d-9733-40b3-9caa-dfe3e9ba1fc7",
   "metadata": {},
   "outputs": [
    {
     "name": "stdout",
     "output_type": "stream",
     "text": [
      "1\n",
      "2\n",
      "3\n"
     ]
    }
   ],
   "source": [
    "#break\n",
    "for i in l :\n",
    "    if i ==4:\n",
    "        break\n",
    "    print(i)"
   ]
  },
  {
   "cell_type": "code",
   "execution_count": 129,
   "id": "266c4b55-c325-4514-bd5c-a3aa2dc7b3d6",
   "metadata": {},
   "outputs": [
    {
     "name": "stdout",
     "output_type": "stream",
     "text": [
      "1\n",
      "2\n",
      "3\n",
      "4\n",
      "5\n",
      "7\n",
      "8\n",
      "9\n",
      "10\n"
     ]
    }
   ],
   "source": [
    "#continue\n",
    "for i  in l :\n",
    "    if i ==6:\n",
    "        continue\n",
    "    print(i)"
   ]
  },
  {
   "cell_type": "code",
   "execution_count": 139,
   "id": "d42f6aa9-97b0-45b0-a866-025c855ecf02",
   "metadata": {},
   "outputs": [
    {
     "data": {
      "text/plain": [
       "range(0, 50)"
      ]
     },
     "execution_count": 139,
     "metadata": {},
     "output_type": "execute_result"
    }
   ],
   "source": [
    "#range\n",
    "range(50)"
   ]
  },
  {
   "cell_type": "code",
   "execution_count": 143,
   "id": "8b64223a-ed90-40ad-bc24-9a5b20ab2812",
   "metadata": {},
   "outputs": [
    {
     "data": {
      "text/plain": [
       "[0, 2, 4, 6, 8]"
      ]
     },
     "execution_count": 143,
     "metadata": {},
     "output_type": "execute_result"
    }
   ],
   "source": [
    "list(range(0,9,2))"
   ]
  },
  {
   "cell_type": "code",
   "execution_count": 144,
   "id": "f5f8b941-88db-45f6-a8c8-2bf9ac383c84",
   "metadata": {},
   "outputs": [
    {
     "data": {
      "text/plain": [
       "[-10, -9, -8, -7, -6, -5, -4, -3, -2, -1]"
      ]
     },
     "execution_count": 144,
     "metadata": {},
     "output_type": "execute_result"
    }
   ],
   "source": [
    "list(range(-10,0))"
   ]
  },
  {
   "cell_type": "code",
   "execution_count": 159,
   "id": "a29839a3-1c82-4067-b2c5-2942ae7d6806",
   "metadata": {},
   "outputs": [
    {
     "data": {
      "text/plain": [
       "['pryasnhu', 'rathod', 'tech', 'rathee']"
      ]
     },
     "execution_count": 159,
     "metadata": {},
     "output_type": "execute_result"
    }
   ],
   "source": [
    "l3"
   ]
  },
  {
   "cell_type": "code",
   "execution_count": 149,
   "id": "ee6c8838-ff10-4d94-891b-6c46c20ea162",
   "metadata": {},
   "outputs": [
    {
     "data": {
      "text/plain": [
       "4"
      ]
     },
     "execution_count": 149,
     "metadata": {},
     "output_type": "execute_result"
    }
   ],
   "source": [
    "len(l3)"
   ]
  },
  {
   "cell_type": "code",
   "execution_count": 151,
   "id": "436764fa-1199-42cb-98cc-e829c9d059bd",
   "metadata": {},
   "outputs": [
    {
     "data": {
      "text/plain": [
       "[0, 1, 2, 3]"
      ]
     },
     "execution_count": 151,
     "metadata": {},
     "output_type": "execute_result"
    }
   ],
   "source": [
    "list(range(len(l3)))"
   ]
  },
  {
   "cell_type": "code",
   "execution_count": 153,
   "id": "01051bae-e25e-44a9-8be2-df83663d8aa0",
   "metadata": {},
   "outputs": [
    {
     "name": "stdout",
     "output_type": "stream",
     "text": [
      "pryasnhu\n",
      "rathod\n",
      "tech\n",
      "rathee\n"
     ]
    }
   ],
   "source": [
    "for i in range(len(l3)):\n",
    "    print(l3[i])"
   ]
  },
  {
   "cell_type": "code",
   "execution_count": 160,
   "id": "946e7d3e-6e03-4da8-9ba2-2e1a0c6be2e9",
   "metadata": {},
   "outputs": [
    {
     "ename": "IndexError",
     "evalue": "list index out of range",
     "output_type": "error",
     "traceback": [
      "\u001b[1;31m---------------------------------------------------------------------------\u001b[0m",
      "\u001b[1;31mIndexError\u001b[0m                                Traceback (most recent call last)",
      "\u001b[1;32m~\\AppData\\Local\\Temp\\ipykernel_6780\\2355291679.py\u001b[0m in \u001b[0;36m<module>\u001b[1;34m\u001b[0m\n\u001b[0;32m      1\u001b[0m \u001b[1;32mfor\u001b[0m \u001b[0mi\u001b[0m \u001b[1;32min\u001b[0m \u001b[0mrange\u001b[0m\u001b[1;33m(\u001b[0m\u001b[0mlen\u001b[0m\u001b[1;33m(\u001b[0m\u001b[0ml3\u001b[0m\u001b[1;33m)\u001b[0m\u001b[1;33m,\u001b[0m\u001b[1;36m0\u001b[0m\u001b[1;33m,\u001b[0m\u001b[1;33m-\u001b[0m\u001b[1;36m1\u001b[0m\u001b[1;33m)\u001b[0m\u001b[1;33m:\u001b[0m\u001b[1;33m\u001b[0m\u001b[1;33m\u001b[0m\u001b[0m\n\u001b[1;32m----> 2\u001b[1;33m     \u001b[0mprint\u001b[0m\u001b[1;33m(\u001b[0m\u001b[0ml3\u001b[0m\u001b[1;33m[\u001b[0m\u001b[0mi\u001b[0m\u001b[1;33m]\u001b[0m\u001b[1;33m)\u001b[0m\u001b[1;33m\u001b[0m\u001b[1;33m\u001b[0m\u001b[0m\n\u001b[0m",
      "\u001b[1;31mIndexError\u001b[0m: list index out of range"
     ]
    }
   ],
   "source": [
    "for i in range(len(l3),0,-1):\n",
    "    print(l3[i])"
   ]
  },
  {
   "cell_type": "code",
   "execution_count": 163,
   "id": "7b9dcf5d-aa5a-42cb-9fd7-3b8885d33b79",
   "metadata": {},
   "outputs": [
    {
     "data": {
      "text/plain": [
       "[3, 2, 1, 0]"
      ]
     },
     "execution_count": 163,
     "metadata": {},
     "output_type": "execute_result"
    }
   ],
   "source": [
    "list(range(len(l3)-1,-1,-1))"
   ]
  },
  {
   "cell_type": "code",
   "execution_count": 164,
   "id": "e6c216ac-3000-4f40-a843-9e1c56fbefce",
   "metadata": {},
   "outputs": [
    {
     "name": "stdout",
     "output_type": "stream",
     "text": [
      "rathee\n",
      "tech\n",
      "rathod\n",
      "pryasnhu\n"
     ]
    }
   ],
   "source": [
    "for i in range(len(l3)-1,-1,-1):\n",
    "    print(l3[i])"
   ]
  },
  {
   "cell_type": "code",
   "execution_count": 166,
   "id": "f2d12488-41d9-4e9a-b7f7-ef244704c1ef",
   "metadata": {},
   "outputs": [],
   "source": [
    "l2=[3434,343,4343,434,34,343,2,32,32,12,32,43,4,5,20,767,78,7,78,78,67,5,64,5,342,31]"
   ]
  },
  {
   "cell_type": "code",
   "execution_count": 168,
   "id": "ea0c976a-d657-4389-8886-174c40902529",
   "metadata": {},
   "outputs": [
    {
     "data": {
      "text/plain": [
       "[0, 2, 4, 6, 8, 10, 12, 14, 16, 18, 20, 22, 24]"
      ]
     },
     "execution_count": 168,
     "metadata": {},
     "output_type": "execute_result"
    }
   ],
   "source": [
    "list(range(0,len(l2),2))"
   ]
  },
  {
   "cell_type": "code",
   "execution_count": 170,
   "id": "97c7bf0f-5bb7-42f0-98e1-036d94345208",
   "metadata": {},
   "outputs": [
    {
     "name": "stdout",
     "output_type": "stream",
     "text": [
      "3434\n",
      "4343\n",
      "34\n",
      "2\n",
      "32\n",
      "32\n",
      "4\n",
      "20\n",
      "78\n",
      "78\n",
      "67\n",
      "64\n",
      "342\n"
     ]
    }
   ],
   "source": [
    "for i in range(0,len(l2),2):\n",
    "    print(l2[i])"
   ]
  },
  {
   "cell_type": "code",
   "execution_count": 174,
   "id": "be086095-0027-4c2d-85be-eb4f7078b0c5",
   "metadata": {},
   "outputs": [
    {
     "data": {
      "text/plain": [
       "10635"
      ]
     },
     "execution_count": 174,
     "metadata": {},
     "output_type": "execute_result"
    }
   ],
   "source": [
    "result = 0\n",
    "for i in l2:\n",
    "    result  =result+ i\n",
    "result"
   ]
  },
  {
   "cell_type": "code",
   "execution_count": 175,
   "id": "87f8824d-10ed-4d21-9374-78ca6a323b60",
   "metadata": {},
   "outputs": [],
   "source": [
    "t=(0,2,3,7,6,5,4,8,90,3,2,2,3)"
   ]
  },
  {
   "cell_type": "code",
   "execution_count": 176,
   "id": "e7ecef46-c307-4cdd-b985-11886ae5bab2",
   "metadata": {},
   "outputs": [
    {
     "data": {
      "text/plain": [
       "135"
      ]
     },
     "execution_count": 176,
     "metadata": {},
     "output_type": "execute_result"
    }
   ],
   "source": [
    "result = 0\n",
    "for i in t:\n",
    "    result  =result+ i\n",
    "result\n",
    "    "
   ]
  },
  {
   "cell_type": "code",
   "execution_count": 177,
   "id": "5cede4d9-d587-4b6b-9844-7cc0e1c5a558",
   "metadata": {},
   "outputs": [],
   "source": [
    "s ={121,34,5,66,7,7,'priyanshu','rrathe',2323,343,33}"
   ]
  },
  {
   "cell_type": "code",
   "execution_count": 178,
   "id": "7ef2dda6-7d70-47fe-97b6-4872cfe9f3a7",
   "metadata": {},
   "outputs": [
    {
     "name": "stdout",
     "output_type": "stream",
     "text": [
      "33\n",
      "34\n",
      "66\n",
      "rrathe\n",
      "5\n",
      "7\n",
      "priyanshu\n",
      "2323\n",
      "343\n",
      "121\n"
     ]
    }
   ],
   "source": [
    "for i in s:\n",
    "    print(i)"
   ]
  },
  {
   "cell_type": "code",
   "execution_count": 179,
   "id": "397d6503-4bf7-4ca9-bd2a-3e561db4ea14",
   "metadata": {},
   "outputs": [],
   "source": [
    "s1 = 'priyanshu'"
   ]
  },
  {
   "cell_type": "code",
   "execution_count": 183,
   "id": "4916580a-a9ae-4fef-b4e3-74ee80b486f2",
   "metadata": {},
   "outputs": [
    {
     "name": "stdout",
     "output_type": "stream",
     "text": [
      "u\n",
      "h\n",
      "s\n",
      "n\n",
      "a\n",
      "y\n",
      "i\n",
      "r\n",
      "p\n"
     ]
    }
   ],
   "source": [
    "for i in range(len(s1)-1,-1,-1):\n",
    "    print(s1[i])"
   ]
  },
  {
   "cell_type": "code",
   "execution_count": 186,
   "id": "793a1cd4-1251-4da6-8196-25a18db5af50",
   "metadata": {},
   "outputs": [],
   "source": [
    "d = { 'name':'priyanshu','surname':'rathod','tech':'rathee','gmail':'techrathee@gamil'}"
   ]
  },
  {
   "cell_type": "code",
   "execution_count": 191,
   "id": "903794c2-9b4c-47e0-b22e-83de3443e7cb",
   "metadata": {},
   "outputs": [
    {
     "name": "stdout",
     "output_type": "stream",
     "text": [
      "name\n",
      "surname\n",
      "tech\n",
      "gmail\n"
     ]
    }
   ],
   "source": [
    "for i in d.keys():\n",
    "    print(i)"
   ]
  },
  {
   "cell_type": "code",
   "execution_count": 189,
   "id": "ed10098a-7ea3-4ab2-a762-572402924cfb",
   "metadata": {},
   "outputs": [
    {
     "name": "stdout",
     "output_type": "stream",
     "text": [
      "priyanshu\n",
      "rathod\n",
      "rathee\n",
      "techrathee@gamil\n"
     ]
    }
   ],
   "source": [
    "for i in d.values():\n",
    "    print(i)"
   ]
  },
  {
   "cell_type": "code",
   "execution_count": 192,
   "id": "591090d3-fb39-427e-95e5-1c262a1bd20c",
   "metadata": {},
   "outputs": [
    {
     "name": "stdout",
     "output_type": "stream",
     "text": [
      "('name', 'priyanshu')\n",
      "('surname', 'rathod')\n",
      "('tech', 'rathee')\n",
      "('gmail', 'techrathee@gamil')\n"
     ]
    }
   ],
   "source": [
    "for i in d.items():\n",
    "    print(i)"
   ]
  },
  {
   "cell_type": "code",
   "execution_count": 1,
   "id": "0435df5c-13fc-4a60-baa4-ca9a50679715",
   "metadata": {},
   "outputs": [
    {
     "name": "stdout",
     "output_type": "stream",
     "text": [
      "1\n",
      "2\n",
      "3\n",
      "4\n",
      "5\n",
      "6\n",
      "7\n",
      "8\n",
      "9\n",
      "10\n"
     ]
    }
   ],
   "source": [
    "#While loop\n",
    "a = 1\n",
    "while a <=10:\n",
    "    print(a)\n",
    "    a+=1"
   ]
  },
  {
   "cell_type": "code",
   "execution_count": 5,
   "id": "52ef5c44-ee97-4dab-8c5e-a41dabbd7a70",
   "metadata": {},
   "outputs": [
    {
     "name": "stdin",
     "output_type": "stream",
     "text": [
      "enter yor limit 5\n"
     ]
    },
    {
     "data": {
      "text/plain": [
       "15"
      ]
     },
     "execution_count": 5,
     "metadata": {},
     "output_type": "execute_result"
    }
   ],
   "source": [
    "n = int(input(\"enter yor limit\"))\n",
    "s=0\n",
    "c = 1\n",
    "while c <= n:\n",
    "    s = s+c\n",
    "    c+=1\n",
    "s"
   ]
  },
  {
   "cell_type": "code",
   "execution_count": 7,
   "id": "b25feb32-89d4-4cb5-bda3-0b9a40e58950",
   "metadata": {},
   "outputs": [
    {
     "name": "stdin",
     "output_type": "stream",
     "text": [
      "enter your number 3\n"
     ]
    },
    {
     "data": {
      "text/plain": [
       "6"
      ]
     },
     "execution_count": 7,
     "metadata": {},
     "output_type": "execute_result"
    }
   ],
   "source": [
    "number = int(input('enter your number'))\n",
    "factorial = 1\n",
    "while number > 0:\n",
    "    factorial = factorial*number\n",
    "    number-=1\n",
    "factorial"
   ]
  },
  {
   "cell_type": "code",
   "execution_count": 10,
   "id": "16803153-9b47-4873-8a7b-2e0fc0c0a01c",
   "metadata": {},
   "outputs": [
    {
     "name": "stdin",
     "output_type": "stream",
     "text": [
      "enter the number of element you are looking for  5\n"
     ]
    },
    {
     "name": "stdout",
     "output_type": "stream",
     "text": [
      "0\n",
      "1\n",
      "1\n",
      "2\n",
      "3\n"
     ]
    }
   ],
   "source": [
    "# finonacci series\n",
    "n=int(input(\"enter the number of element you are looking for \"))\n",
    "a,b = 0,1\n",
    "counter = 0\n",
    "while counter < n:\n",
    "    print(a)\n",
    "    c = a+b\n",
    "    a = b\n",
    "    b = c\n",
    "    counter +=1"
   ]
  },
  {
   "cell_type": "code",
   "execution_count": 18,
   "id": "6a62c6aa-9a43-4009-ac46-ba0d0e804ccc",
   "metadata": {},
   "outputs": [
    {
     "name": "stdout",
     "output_type": "stream",
     "text": [
      "0\n",
      "1\n",
      "1\n",
      "2\n",
      "3\n",
      "5\n",
      "8\n",
      "13\n",
      "21\n",
      "34\n"
     ]
    }
   ],
   "source": [
    "a,b =0,1\n",
    "for i in range(10):\n",
    "    print(a)\n",
    "    c = a+b\n",
    "    a = b\n",
    "    b =c\n",
    "    "
   ]
  },
  {
   "cell_type": "code",
   "execution_count": 17,
   "id": "f326d96b-d6e5-4e94-8f4c-be246f30b39c",
   "metadata": {},
   "outputs": [
    {
     "name": "stdin",
     "output_type": "stream",
     "text": [
      "enter you string for reversal prinyanshu\n"
     ]
    },
    {
     "name": "stdout",
     "output_type": "stream",
     "text": [
      "uhsnaynirp\n"
     ]
    }
   ],
   "source": [
    "word = input(\"enter you string for reversal\")\n",
    "reverse=\"\"\n",
    "length = len(word)\n",
    "while length > 0:\n",
    "    reverse = reverse + word[length-1]\n",
    "    length = length-1\n",
    "print(reverse)"
   ]
  },
  {
   "cell_type": "code",
   "execution_count": 4,
   "id": "74c5a0c8-6db5-4408-8176-3c754f03531b",
   "metadata": {},
   "outputs": [
    {
     "name": "stdin",
     "output_type": "stream",
     "text": [
      "enter your number 20\n"
     ]
    },
    {
     "name": "stdout",
     "output_type": "stream",
     "text": [
      "20 * 1 = 20\n",
      "20 * 2 = 40\n",
      "20 * 3 = 60\n",
      "20 * 4 = 80\n",
      "20 * 5 = 100\n",
      "20 * 6 = 120\n",
      "20 * 7 = 140\n",
      "20 * 8 = 160\n",
      "20 * 9 = 180\n",
      "20 * 10 = 200\n"
     ]
    }
   ],
   "source": [
    "# table \n",
    "n = int(input('enter your number'))\n",
    "i = 1\n",
    "while i <=10:\n",
    "              result = n*i\n",
    "              print(n,\"*\",i, \"=\",result)\n",
    "              i+=1"
   ]
  },
  {
   "cell_type": "code",
   "execution_count": 5,
   "id": "83b2687f-177b-46d6-9d70-b7d5a4528372",
   "metadata": {},
   "outputs": [
    {
     "name": "stdout",
     "output_type": "stream",
     "text": [
      "1\n",
      "2\n",
      "3\n",
      "4\n"
     ]
    }
   ],
   "source": [
    "n =5\n",
    "i = 1\n",
    "while i < n:\n",
    "    print(i)\n",
    "    i+=1"
   ]
  },
  {
   "cell_type": "code",
   "execution_count": 7,
   "id": "1e6762b9-36bd-400c-9f1f-33a9b09fc7a0",
   "metadata": {},
   "outputs": [
    {
     "data": {
      "text/plain": [
       "[1, 4, 9, 16, 25, 49, 5929, 4356]"
      ]
     },
     "execution_count": 7,
     "metadata": {},
     "output_type": "execute_result"
    }
   ],
   "source": [
    "#comprehension\n",
    "l=[1,2,3,4,5,7,77,66]\n",
    "\n",
    "[i**2 for i in l]"
   ]
  },
  {
   "cell_type": "code",
   "execution_count": 10,
   "id": "af6af024-ed3d-4cb2-9066-908476270435",
   "metadata": {},
   "outputs": [
    {
     "data": {
      "text/plain": [
       "[2, 4, 66]"
      ]
     },
     "execution_count": 10,
     "metadata": {},
     "output_type": "execute_result"
    }
   ],
   "source": [
    "[i for i in l if i%2 ==0]"
   ]
  },
  {
   "cell_type": "code",
   "execution_count": 11,
   "id": "f6a2b54c-7a44-4806-ae46-e75b0d3fbfe1",
   "metadata": {},
   "outputs": [],
   "source": [
    "l1 =['suhb ','priyanshu','rathod','techrathee']"
   ]
  },
  {
   "cell_type": "code",
   "execution_count": 12,
   "id": "cb8098c0-0df3-4202-a632-c755f323d90f",
   "metadata": {},
   "outputs": [
    {
     "data": {
      "text/plain": [
       "['SUHB ', 'PRIYANSHU', 'RATHOD', 'TECHRATHEE']"
      ]
     },
     "execution_count": 12,
     "metadata": {},
     "output_type": "execute_result"
    }
   ],
   "source": [
    "[i.upper() for i in l1]"
   ]
  },
  {
   "cell_type": "code",
   "execution_count": 13,
   "id": "d63fc37e-c3dd-404f-8fd5-d0ff38aeec12",
   "metadata": {},
   "outputs": [
    {
     "data": {
      "text/plain": [
       "[1, 2, 3, 4, 5, 7, 77, 66]"
      ]
     },
     "execution_count": 13,
     "metadata": {},
     "output_type": "execute_result"
    }
   ],
   "source": [
    "l"
   ]
  },
  {
   "cell_type": "code",
   "execution_count": 16,
   "id": "c21d8f13-03b8-4c02-aef8-f5becb303465",
   "metadata": {},
   "outputs": [
    {
     "data": {
      "text/plain": [
       "[1, 4, 9, 16, 25, 49, 5929, 4356]"
      ]
     },
     "execution_count": 16,
     "metadata": {},
     "output_type": "execute_result"
    }
   ],
   "source": [
    "list(i**2 for i in l)"
   ]
  },
  {
   "cell_type": "code",
   "execution_count": 21,
   "id": "212e9507-5242-4a15-b8d6-95d9fd786dd3",
   "metadata": {},
   "outputs": [],
   "source": [
    "d ={'key1':1 ,'key2':2,'key3':3,'key4':4}"
   ]
  },
  {
   "cell_type": "code",
   "execution_count": 19,
   "id": "73aa1a15-8412-4278-a1b6-39713c607b16",
   "metadata": {},
   "outputs": [
    {
     "data": {
      "text/plain": [
       "{'key1': 1, 'key2': 4, 'key3': 9, 'key4': 16}"
      ]
     },
     "execution_count": 19,
     "metadata": {},
     "output_type": "execute_result"
    }
   ],
   "source": [
    "{k:v**2 for k , v in d.items()}"
   ]
  },
  {
   "cell_type": "code",
   "execution_count": 24,
   "id": "a3143d25-f04d-49c0-8577-03076a41801c",
   "metadata": {},
   "outputs": [
    {
     "data": {
      "text/plain": [
       "{'key2': 2, 'key3': 3, 'key4': 4}"
      ]
     },
     "execution_count": 24,
     "metadata": {},
     "output_type": "execute_result"
    }
   ],
   "source": [
    "{k:v for k ,v in d.items() if v>1}"
   ]
  },
  {
   "cell_type": "code",
   "execution_count": 26,
   "id": "2d585bdf-caa4-4c1c-b259-fe5acd9b047a",
   "metadata": {},
   "outputs": [],
   "source": [
    "#functions\n",
    "def test():\n",
    "        print ('priyanshu')"
   ]
  },
  {
   "cell_type": "code",
   "execution_count": 28,
   "id": "b6dab43e-74a0-442e-87ca-9f089452dd1c",
   "metadata": {},
   "outputs": [
    {
     "name": "stdout",
     "output_type": "stream",
     "text": [
      "priyanshu\n"
     ]
    }
   ],
   "source": [
    "test()"
   ]
  },
  {
   "cell_type": "code",
   "execution_count": 37,
   "id": "577ddb98-782c-498f-8120-f5ceabb90760",
   "metadata": {},
   "outputs": [],
   "source": [
    "def test1():\n",
    "    return ('priyanshu ')"
   ]
  },
  {
   "cell_type": "code",
   "execution_count": 38,
   "id": "8455c44f-0127-4db6-bbc6-d22e89fc2509",
   "metadata": {},
   "outputs": [
    {
     "data": {
      "text/plain": [
       "'priyanshu rathod'"
      ]
     },
     "execution_count": 38,
     "metadata": {},
     "output_type": "execute_result"
    }
   ],
   "source": [
    "test1() + \"rathod\""
   ]
  },
  {
   "cell_type": "code",
   "execution_count": 39,
   "id": "097e39e9-8a0f-4341-8f88-8f9f6f22e65e",
   "metadata": {},
   "outputs": [],
   "source": [
    "def test3():\n",
    "    return( 1521,35,'prianshu','reerer',34343.43)"
   ]
  },
  {
   "cell_type": "code",
   "execution_count": 40,
   "id": "e58952df-96a2-463f-b881-b9005c680e7b",
   "metadata": {},
   "outputs": [
    {
     "data": {
      "text/plain": [
       "(1521, 35, 'prianshu', 'reerer', 34343.43)"
      ]
     },
     "execution_count": 40,
     "metadata": {},
     "output_type": "execute_result"
    }
   ],
   "source": [
    "test3()"
   ]
  },
  {
   "cell_type": "code",
   "execution_count": 41,
   "id": "20b5ff3d-fe57-4750-8daa-73d5b30288b8",
   "metadata": {},
   "outputs": [],
   "source": [
    "a,b,c,d,e = test3()"
   ]
  },
  {
   "cell_type": "code",
   "execution_count": 42,
   "id": "63fa06f1-5e08-4e60-ba7e-a0bf78783009",
   "metadata": {},
   "outputs": [
    {
     "data": {
      "text/plain": [
       "1521"
      ]
     },
     "execution_count": 42,
     "metadata": {},
     "output_type": "execute_result"
    }
   ],
   "source": [
    "a"
   ]
  },
  {
   "cell_type": "code",
   "execution_count": 43,
   "id": "8abd3c5a-755a-47c9-8f66-71a61a0628b2",
   "metadata": {},
   "outputs": [
    {
     "data": {
      "text/plain": [
       "34343.43"
      ]
     },
     "execution_count": 43,
     "metadata": {},
     "output_type": "execute_result"
    }
   ],
   "source": [
    "e"
   ]
  },
  {
   "cell_type": "code",
   "execution_count": 44,
   "id": "fb91d354-3bc4-4868-b5ec-0c48ea579099",
   "metadata": {},
   "outputs": [
    {
     "data": {
      "text/plain": [
       "(1521, 35)"
      ]
     },
     "execution_count": 44,
     "metadata": {},
     "output_type": "execute_result"
    }
   ],
   "source": [
    "a,b "
   ]
  },
  {
   "cell_type": "code",
   "execution_count": 45,
   "id": "fe77e06e-a830-4452-839b-c097ee2b84ab",
   "metadata": {},
   "outputs": [],
   "source": [
    "def test5(a,b,c):\n",
    "    d = a+b-c\n",
    "    return d"
   ]
  },
  {
   "cell_type": "code",
   "execution_count": 47,
   "id": "0d174350-43c7-4c74-855d-005bf764cc20",
   "metadata": {},
   "outputs": [
    {
     "data": {
      "text/plain": [
       "6"
      ]
     },
     "execution_count": 47,
     "metadata": {},
     "output_type": "execute_result"
    }
   ],
   "source": [
    "test5(7,7,8)"
   ]
  },
  {
   "cell_type": "code",
   "execution_count": 51,
   "id": "48b518f7-467f-474f-b32d-4c1fab724a71",
   "metadata": {},
   "outputs": [],
   "source": [
    "def test6(a,b):\n",
    "    return a+b"
   ]
  },
  {
   "cell_type": "code",
   "execution_count": 52,
   "id": "c938b5bb-27a4-4b05-85e6-bdaacb89fefd",
   "metadata": {},
   "outputs": [
    {
     "data": {
      "text/plain": [
       "'priyanshu rathod'"
      ]
     },
     "execution_count": 52,
     "metadata": {},
     "output_type": "execute_result"
    }
   ],
   "source": [
    "test6('priyanshu ','rathod')"
   ]
  },
  {
   "cell_type": "code",
   "execution_count": 60,
   "id": "62460735-8d02-4823-b3c0-05d6599ae84b",
   "metadata": {},
   "outputs": [],
   "source": [
    "def list_1(l):\n",
    "    l1=[]\n",
    "    for i in l:\n",
    "        if type(i) == int or type(i)== float :\n",
    "            l1.append(i)\n",
    "    return l1"
   ]
  },
  {
   "cell_type": "code",
   "execution_count": 65,
   "id": "48ff415c-a38b-4345-aa07-ea869d5ceb2a",
   "metadata": {},
   "outputs": [],
   "source": [
    "l= [1212112,3232.323,\"sufdh\",'ererer','ffdff',343,[1,2,3,3,4,4,343.434]]"
   ]
  },
  {
   "cell_type": "code",
   "execution_count": 66,
   "id": "c49fd12c-a328-4b20-a744-f8920c556041",
   "metadata": {},
   "outputs": [
    {
     "data": {
      "text/plain": [
       "[1212112, 3232.323, 343]"
      ]
     },
     "execution_count": 66,
     "metadata": {},
     "output_type": "execute_result"
    }
   ],
   "source": [
    "list_1(l)"
   ]
  },
  {
   "cell_type": "code",
   "execution_count": 69,
   "id": "14492da0-14dc-405b-a461-0d373b0b04af",
   "metadata": {},
   "outputs": [
    {
     "data": {
      "text/plain": [
       "[1212112,\n",
       " 3232.323,\n",
       " 'sufdh',\n",
       " 'ererer',\n",
       " 'ffdff',\n",
       " 343,\n",
       " [1, 2, 3, 3, 4, 4, 343.434]]"
      ]
     },
     "execution_count": 69,
     "metadata": {},
     "output_type": "execute_result"
    }
   ],
   "source": [
    "l"
   ]
  },
  {
   "cell_type": "code",
   "execution_count": 67,
   "id": "7868fa3c-0eea-4aa2-b942-ae5fc554d5e8",
   "metadata": {},
   "outputs": [],
   "source": [
    "def test7(a):\n",
    "    l=[]\n",
    "    for i in a :\n",
    "        if type(i)==list:\n",
    "            for j in i :\n",
    "                l.append(j)\n",
    "        else:\n",
    "            if type(i)== int or type (i)==float:\n",
    "                l.append(i)\n",
    "    return l"
   ]
  },
  {
   "cell_type": "code",
   "execution_count": 68,
   "id": "d2a4f6a6-7e2e-4cb7-a620-c2d765015929",
   "metadata": {},
   "outputs": [
    {
     "data": {
      "text/plain": [
       "[1212112, 3232.323, 343, 1, 2, 3, 3, 4, 4, 343.434]"
      ]
     },
     "execution_count": 68,
     "metadata": {},
     "output_type": "execute_result"
    }
   ],
   "source": [
    "test7(l)"
   ]
  },
  {
   "cell_type": "code",
   "execution_count": 1,
   "id": "ef9e708d-3199-49b2-996b-5a0ac471ebe2",
   "metadata": {},
   "outputs": [],
   "source": [
    "def test8(a):\n",
    "    \"\"\"this is my first function\"\"\"\n",
    "    l=[]\n",
    "    for i in a :\n",
    "        if type(i)==list:\n",
    "            for j in i :\n",
    "                l.append(j)\n",
    "        else:\n",
    "            if type(i)== int or type (i)==float:\n",
    "                l.append(i)\n",
    "    return l"
   ]
  },
  {
   "cell_type": "code",
   "execution_count": 7,
   "id": "58001515-e6a3-4bdf-92ef-3f28c7b25740",
   "metadata": {},
   "outputs": [],
   "source": [
    "#args\n",
    "def test9(*args):\n",
    "    return args"
   ]
  },
  {
   "cell_type": "code",
   "execution_count": 8,
   "id": "ccb95c0f-5130-4e08-aa5e-4d95e2bab943",
   "metadata": {},
   "outputs": [
    {
     "data": {
      "text/plain": [
       "(1, 12, 323, 3, 434, 'rdfdf', 'dfdf')"
      ]
     },
     "execution_count": 8,
     "metadata": {},
     "output_type": "execute_result"
    }
   ],
   "source": [
    "test9(1,12,323,3,434,'rdfdf','dfdf')"
   ]
  },
  {
   "cell_type": "code",
   "execution_count": 10,
   "id": "2dd777ee-abd9-4039-b6a5-ed9054f9f79c",
   "metadata": {},
   "outputs": [],
   "source": [
    "def test10(c,d,a=12,b=12):\n",
    "    return a,b,c,d"
   ]
  },
  {
   "cell_type": "code",
   "execution_count": 11,
   "id": "1a6da265-9360-4e88-87c3-bf4d6b342a7b",
   "metadata": {},
   "outputs": [
    {
     "data": {
      "text/plain": [
       "(12, 12, 13, 54)"
      ]
     },
     "execution_count": 11,
     "metadata": {},
     "output_type": "execute_result"
    }
   ],
   "source": [
    "test10(13,54)"
   ]
  },
  {
   "cell_type": "code",
   "execution_count": 12,
   "id": "3e42e9bc-0f22-4b21-979d-207e8f7eb6b1",
   "metadata": {},
   "outputs": [
    {
     "data": {
      "text/plain": [
       "(990, 12, 13, 54)"
      ]
     },
     "execution_count": 12,
     "metadata": {},
     "output_type": "execute_result"
    }
   ],
   "source": [
    "test10(13,54,a=990)"
   ]
  },
  {
   "cell_type": "code",
   "execution_count": 14,
   "id": "0f460e87-26d5-45f6-a6e7-105732a61fea",
   "metadata": {},
   "outputs": [],
   "source": [
    "def test11(**a):\n",
    "    return a"
   ]
  },
  {
   "cell_type": "code",
   "execution_count": 17,
   "id": "6a8f3227-ca8f-4863-8efd-04c3ca01d324",
   "metadata": {},
   "outputs": [
    {
     "data": {
      "text/plain": [
       "{'a': 1, 'b': 4, 'c': 'rere'}"
      ]
     },
     "execution_count": 17,
     "metadata": {},
     "output_type": "execute_result"
    }
   ],
   "source": [
    "test11(a=1,b=4,c='rere')"
   ]
  },
  {
   "cell_type": "code",
   "execution_count": 1,
   "id": "524ef56d-9448-456e-afc4-5a719df62ba8",
   "metadata": {},
   "outputs": [],
   "source": [
    "#Generator Functions\n",
    "def test_fin(n):\n",
    "    a,b = 0,1\n",
    "    for i in range(n):\n",
    "        yield a\n",
    "        a,b = b , a+b"
   ]
  },
  {
   "cell_type": "code",
   "execution_count": 3,
   "id": "2eed9bed-07af-4cfd-9da2-85f534075292",
   "metadata": {},
   "outputs": [
    {
     "data": {
      "text/plain": [
       "<function __main__.test_fin(n)>"
      ]
     },
     "execution_count": 3,
     "metadata": {},
     "output_type": "execute_result"
    }
   ],
   "source": [
    "test_fin"
   ]
  },
  {
   "cell_type": "code",
   "execution_count": 4,
   "id": "0091141a-dbb9-4571-aa01-b27a8820f3a6",
   "metadata": {},
   "outputs": [
    {
     "name": "stdout",
     "output_type": "stream",
     "text": [
      "0\n",
      "1\n",
      "1\n",
      "2\n",
      "3\n",
      "5\n",
      "8\n",
      "13\n",
      "21\n",
      "34\n"
     ]
    }
   ],
   "source": [
    "for i in test_fin(10):\n",
    "    print(i)"
   ]
  },
  {
   "cell_type": "code",
   "execution_count": 5,
   "id": "af57312b-1549-4599-a556-16b994a31448",
   "metadata": {},
   "outputs": [],
   "source": [
    "def test_fin1():\n",
    "    a,b = 0,1\n",
    "    while True:\n",
    "        yield a \n",
    "        a,b = b,a+b"
   ]
  },
  {
   "cell_type": "code",
   "execution_count": 6,
   "id": "c1ab23a8-2813-4c62-b14a-98ca6e751b02",
   "metadata": {},
   "outputs": [],
   "source": [
    "fib = test_fin1()"
   ]
  },
  {
   "cell_type": "code",
   "execution_count": 9,
   "id": "f02ae32b-0b41-4cd0-8211-0463223e07cd",
   "metadata": {},
   "outputs": [
    {
     "name": "stdout",
     "output_type": "stream",
     "text": [
      "0\n",
      "1\n",
      "1\n",
      "2\n",
      "3\n",
      "5\n",
      "8\n",
      "13\n",
      "21\n",
      "34\n"
     ]
    }
   ],
   "source": [
    "for i in range(10):\n",
    "    print(next(fib))"
   ]
  },
  {
   "cell_type": "code",
   "execution_count": 11,
   "id": "70b52718-0140-433b-bf06-f8749e85d60f",
   "metadata": {},
   "outputs": [
    {
     "data": {
      "text/plain": [
       "generator"
      ]
     },
     "execution_count": 11,
     "metadata": {},
     "output_type": "execute_result"
    }
   ],
   "source": [
    "type(fib)"
   ]
  },
  {
   "cell_type": "code",
   "execution_count": 12,
   "id": "31a17836-69e5-41c9-b2a7-94cdce9733e1",
   "metadata": {},
   "outputs": [],
   "source": [
    "s = 'priyanshu'"
   ]
  },
  {
   "cell_type": "code",
   "execution_count": 13,
   "id": "ee088dd2-18b7-4f63-8292-d9a074203150",
   "metadata": {},
   "outputs": [
    {
     "ename": "TypeError",
     "evalue": "'str' object is not an iterator",
     "output_type": "error",
     "traceback": [
      "\u001b[1;31m---------------------------------------------------------------------------\u001b[0m",
      "\u001b[1;31mTypeError\u001b[0m                                 Traceback (most recent call last)",
      "\u001b[1;32m~\\AppData\\Local\\Temp\\ipykernel_6692\\1977886155.py\u001b[0m in \u001b[0;36m<module>\u001b[1;34m\u001b[0m\n\u001b[1;32m----> 1\u001b[1;33m \u001b[0mnext\u001b[0m\u001b[1;33m(\u001b[0m\u001b[0ms\u001b[0m\u001b[1;33m)\u001b[0m\u001b[1;33m\u001b[0m\u001b[1;33m\u001b[0m\u001b[0m\n\u001b[0m",
      "\u001b[1;31mTypeError\u001b[0m: 'str' object is not an iterator"
     ]
    }
   ],
   "source": [
    "next(s)"
   ]
  },
  {
   "cell_type": "code",
   "execution_count": 27,
   "id": "24d7f55c-4ad9-44ed-af84-43f0fce6f7b7",
   "metadata": {},
   "outputs": [],
   "source": [
    "s2=iter(s)"
   ]
  },
  {
   "cell_type": "code",
   "execution_count": 28,
   "id": "1f63e5e6-fe6d-45b2-ad66-0f215204e603",
   "metadata": {},
   "outputs": [
    {
     "data": {
      "text/plain": [
       "'p'"
      ]
     },
     "execution_count": 28,
     "metadata": {},
     "output_type": "execute_result"
    }
   ],
   "source": [
    "next(s2)"
   ]
  },
  {
   "cell_type": "code",
   "execution_count": 29,
   "id": "355a52cb-1b7f-4665-9e16-f910cf311efc",
   "metadata": {},
   "outputs": [
    {
     "data": {
      "text/plain": [
       "'r'"
      ]
     },
     "execution_count": 29,
     "metadata": {},
     "output_type": "execute_result"
    }
   ],
   "source": [
    "next(s2)"
   ]
  },
  {
   "cell_type": "code",
   "execution_count": 39,
   "id": "4c10f475-7b67-41d7-adea-cd384f957115",
   "metadata": {},
   "outputs": [],
   "source": [
    "def count_test(n):\n",
    "    count =1\n",
    "    while count <= n:\n",
    "        yield count\n",
    "        count+=2"
   ]
  },
  {
   "cell_type": "code",
   "execution_count": 40,
   "id": "17256ff1-872a-40f0-a556-24576e97b218",
   "metadata": {},
   "outputs": [],
   "source": [
    "q = count_test(5)"
   ]
  },
  {
   "cell_type": "code",
   "execution_count": 41,
   "id": "7949e004-6c7d-42a1-a6a3-ba90c59a55f3",
   "metadata": {},
   "outputs": [
    {
     "name": "stdout",
     "output_type": "stream",
     "text": [
      "1\n",
      "3\n",
      "5\n"
     ]
    }
   ],
   "source": [
    "for i in q:\n",
    "    print(i)"
   ]
  },
  {
   "cell_type": "code",
   "execution_count": 43,
   "id": "a5837e2d-2eb6-4e8b-b6f3-2d6cc9eb8212",
   "metadata": {},
   "outputs": [],
   "source": [
    "# lambda function\n",
    "a =lambda n,p :n**p"
   ]
  },
  {
   "cell_type": "code",
   "execution_count": 45,
   "id": "a45b5013-2d46-4f74-98a8-747b68873659",
   "metadata": {},
   "outputs": [
    {
     "data": {
      "text/plain": [
       "9"
      ]
     },
     "execution_count": 45,
     "metadata": {},
     "output_type": "execute_result"
    }
   ],
   "source": [
    "a(3,2)"
   ]
  },
  {
   "cell_type": "code",
   "execution_count": 47,
   "id": "a0533491-3c2a-426f-9caf-35982108f06d",
   "metadata": {},
   "outputs": [],
   "source": [
    "b = lambda x,y : x+y"
   ]
  },
  {
   "cell_type": "code",
   "execution_count": 48,
   "id": "f2596162-2ebb-4617-9a27-8a0949d1886f",
   "metadata": {},
   "outputs": [
    {
     "data": {
      "text/plain": [
       "10"
      ]
     },
     "execution_count": 48,
     "metadata": {},
     "output_type": "execute_result"
    }
   ],
   "source": [
    "b(4,6)"
   ]
  },
  {
   "cell_type": "code",
   "execution_count": 51,
   "id": "f69c4eaf-0c55-402a-8208-5488cd896119",
   "metadata": {},
   "outputs": [],
   "source": [
    "c= lambda q,r : q-r"
   ]
  },
  {
   "cell_type": "code",
   "execution_count": 52,
   "id": "71e53851-b1b2-442c-9f92-273c553215dc",
   "metadata": {},
   "outputs": [
    {
     "data": {
      "text/plain": [
       "-2"
      ]
     },
     "execution_count": 52,
     "metadata": {},
     "output_type": "execute_result"
    }
   ],
   "source": [
    "c(4,6)"
   ]
  },
  {
   "cell_type": "code",
   "execution_count": 53,
   "id": "bda1eb87-25e1-437c-84dd-cf69d98c4bb5",
   "metadata": {},
   "outputs": [],
   "source": [
    "c_to_f =  lambda c :(9/5)*c + 32"
   ]
  },
  {
   "cell_type": "code",
   "execution_count": 54,
   "id": "3abe4114-c4ef-460b-83d4-1fa2768298f6",
   "metadata": {},
   "outputs": [
    {
     "data": {
      "text/plain": [
       "109.4"
      ]
     },
     "execution_count": 54,
     "metadata": {},
     "output_type": "execute_result"
    }
   ],
   "source": [
    "c_to_f(43)"
   ]
  },
  {
   "cell_type": "code",
   "execution_count": 55,
   "id": "92577529-eb41-423f-a320-2f044b025b74",
   "metadata": {},
   "outputs": [],
   "source": [
    "finding_max = lambda x,y : x if x>y else y"
   ]
  },
  {
   "cell_type": "code",
   "execution_count": 56,
   "id": "38fb63b9-dade-4388-99d3-b021c58dc89b",
   "metadata": {},
   "outputs": [
    {
     "data": {
      "text/plain": [
       "5"
      ]
     },
     "execution_count": 56,
     "metadata": {},
     "output_type": "execute_result"
    }
   ],
   "source": [
    "finding_max(2,5)"
   ]
  },
  {
   "cell_type": "code",
   "execution_count": 57,
   "id": "09140969-8825-410e-9c59-590a934cc8b9",
   "metadata": {},
   "outputs": [],
   "source": [
    "s ='priyanshu'\n"
   ]
  },
  {
   "cell_type": "code",
   "execution_count": 58,
   "id": "122e29aa-bdd8-4f43-94ed-c9c503a9dd03",
   "metadata": {},
   "outputs": [],
   "source": [
    "find_len= lambda s: len(s)"
   ]
  },
  {
   "cell_type": "code",
   "execution_count": 59,
   "id": "8df7e35a-012d-43c9-a122-c2d8e7c15b62",
   "metadata": {},
   "outputs": [
    {
     "data": {
      "text/plain": [
       "9"
      ]
     },
     "execution_count": 59,
     "metadata": {},
     "output_type": "execute_result"
    }
   ],
   "source": [
    "find_len(s)"
   ]
  },
  {
   "cell_type": "code",
   "execution_count": 75,
   "id": "602539b3-2cd0-4686-96d8-a981b4c4cc8a",
   "metadata": {},
   "outputs": [],
   "source": [
    "float1 = lambda s: float(s)"
   ]
  },
  {
   "cell_type": "code",
   "execution_count": 77,
   "id": "11d4b8ea-f4c2-4026-918e-3a96ab23dbcb",
   "metadata": {},
   "outputs": [
    {
     "data": {
      "text/plain": [
       "23.0"
      ]
     },
     "execution_count": 77,
     "metadata": {},
     "output_type": "execute_result"
    }
   ],
   "source": [
    "float1(23)"
   ]
  },
  {
   "cell_type": "code",
   "execution_count": 78,
   "id": "060505f9-59a4-445f-9100-5f8ec5531768",
   "metadata": {},
   "outputs": [],
   "source": [
    "#map "
   ]
  },
  {
   "cell_type": "code",
   "execution_count": 79,
   "id": "9ba8ca58-e23f-471c-a762-b5e2ce9582a3",
   "metadata": {},
   "outputs": [],
   "source": [
    "l = [2,3,4,5,6,7,8,9,10]"
   ]
  },
  {
   "cell_type": "code",
   "execution_count": 85,
   "id": "f5d683c9-2e18-4769-9536-1e1decff4bb1",
   "metadata": {},
   "outputs": [],
   "source": [
    "def test(l):\n",
    "    l1=[]\n",
    "    for i in l:\n",
    "        l1.append(i**2)\n",
    "    return l1"
   ]
  },
  {
   "cell_type": "code",
   "execution_count": 87,
   "id": "8425dc94-920a-4ff0-932d-431b330cb08b",
   "metadata": {},
   "outputs": [
    {
     "data": {
      "text/plain": [
       "[4, 9, 16, 25, 36, 49, 64, 81, 100]"
      ]
     },
     "execution_count": 87,
     "metadata": {},
     "output_type": "execute_result"
    }
   ],
   "source": [
    "test(l)"
   ]
  },
  {
   "cell_type": "code",
   "execution_count": 93,
   "id": "31acf02f-09b4-4d0c-a98f-24e483583dc8",
   "metadata": {},
   "outputs": [
    {
     "data": {
      "text/plain": [
       "[2, 3, 4, 5, 6, 7, 8, 9, 10]"
      ]
     },
     "execution_count": 93,
     "metadata": {},
     "output_type": "execute_result"
    }
   ],
   "source": [
    "l"
   ]
  },
  {
   "cell_type": "code",
   "execution_count": 88,
   "id": "7b0ffdc2-107f-41ff-ac61-e44d35c365be",
   "metadata": {},
   "outputs": [],
   "source": [
    "def sq(x):\n",
    "    return x**2"
   ]
  },
  {
   "cell_type": "code",
   "execution_count": 94,
   "id": "7255508d-1988-4d07-aad1-8f4dce6c398a",
   "metadata": {},
   "outputs": [
    {
     "data": {
      "text/plain": [
       "[4, 16, 36, 64, 100]"
      ]
     },
     "execution_count": 94,
     "metadata": {},
     "output_type": "execute_result"
    }
   ],
   "source": [
    "list(map(sq,l[::2]))"
   ]
  },
  {
   "cell_type": "code",
   "execution_count": 95,
   "id": "614e148c-3ad9-45dd-afb9-cee678580a49",
   "metadata": {},
   "outputs": [
    {
     "data": {
      "text/plain": [
       "[4, 9, 16, 25, 36, 49, 64, 81, 100]"
      ]
     },
     "execution_count": 95,
     "metadata": {},
     "output_type": "execute_result"
    }
   ],
   "source": [
    "list(map(lambda x : x**2,l))"
   ]
  },
  {
   "cell_type": "code",
   "execution_count": 96,
   "id": "da9ba040-6d1b-41df-8f02-8b1dc4babaad",
   "metadata": {},
   "outputs": [],
   "source": [
    "l1=[1,2,3,4,5,6,7,8,9,10]\n",
    "l2=[11,12,13,14,15,16,17,18,19,20]"
   ]
  },
  {
   "cell_type": "code",
   "execution_count": 99,
   "id": "30616241-0d8c-42e1-bfba-e2e8f0610196",
   "metadata": {},
   "outputs": [
    {
     "data": {
      "text/plain": [
       "[12, 14, 16, 18, 20, 22, 24, 26, 28, 30]"
      ]
     },
     "execution_count": 99,
     "metadata": {},
     "output_type": "execute_result"
    }
   ],
   "source": [
    "list(map(lambda x ,y : x+y ,l1,l2))"
   ]
  },
  {
   "cell_type": "code",
   "execution_count": 100,
   "id": "c42f8b49-ec4e-4b03-9920-6431512f6881",
   "metadata": {},
   "outputs": [],
   "source": [
    "def ad(x,y):\n",
    "    return x+y"
   ]
  },
  {
   "cell_type": "code",
   "execution_count": 101,
   "id": "34b95ab5-4e37-46c0-b871-a8c292048806",
   "metadata": {},
   "outputs": [
    {
     "data": {
      "text/plain": [
       "[12, 14, 16, 18, 20, 22, 24, 26, 28, 30]"
      ]
     },
     "execution_count": 101,
     "metadata": {},
     "output_type": "execute_result"
    }
   ],
   "source": [
    "list(map(ad,l1,l2))"
   ]
  },
  {
   "cell_type": "code",
   "execution_count": 103,
   "id": "35a62451-bf12-4227-8ae3-6dc7eb833fc8",
   "metadata": {},
   "outputs": [
    {
     "data": {
      "text/plain": [
       "['P', 'R', 'I', 'Y', 'A', 'N', 'S', 'H', 'U']"
      ]
     },
     "execution_count": 103,
     "metadata": {},
     "output_type": "execute_result"
    }
   ],
   "source": [
    "s = 'priyanshu'\n",
    "list(map(lambda s : s.upper(),s))"
   ]
  },
  {
   "cell_type": "code",
   "execution_count": 104,
   "id": "94f209fb-fc24-4c7f-9152-dcec84c5130e",
   "metadata": {},
   "outputs": [],
   "source": [
    "#reduce\n",
    "from functools import reduce"
   ]
  },
  {
   "cell_type": "code",
   "execution_count": 107,
   "id": "c571e87c-0888-4c9e-8e79-44e102b10998",
   "metadata": {},
   "outputs": [],
   "source": [
    "l2 =[1,2,3,4,5]"
   ]
  },
  {
   "cell_type": "code",
   "execution_count": 108,
   "id": "ea11daec-f7a3-4ae1-abcd-f2d5fb0e318a",
   "metadata": {},
   "outputs": [
    {
     "data": {
      "text/plain": [
       "15"
      ]
     },
     "execution_count": 108,
     "metadata": {},
     "output_type": "execute_result"
    }
   ],
   "source": [
    "reduce(lambda x,y : x+y,l2)"
   ]
  },
  {
   "cell_type": "code",
   "execution_count": 110,
   "id": "ba9061c6-e470-4ef3-b162-802a482ba6a2",
   "metadata": {},
   "outputs": [],
   "source": [
    "l3=[1,4,57,8,9,631,64,46,34,63,43,45]"
   ]
  },
  {
   "cell_type": "code",
   "execution_count": 111,
   "id": "93dfb17f-2eff-46c5-866c-e90cf2cda28c",
   "metadata": {},
   "outputs": [
    {
     "data": {
      "text/plain": [
       "631"
      ]
     },
     "execution_count": 111,
     "metadata": {},
     "output_type": "execute_result"
    }
   ],
   "source": [
    "reduce(lambda x,y,: x if x> y else y ,l3)"
   ]
  },
  {
   "cell_type": "code",
   "execution_count": 113,
   "id": "4b777131-9a94-4425-9b03-1df0644b13cf",
   "metadata": {},
   "outputs": [
    {
     "data": {
      "text/plain": [
       "[3, 5, 7, 9]"
      ]
     },
     "execution_count": 113,
     "metadata": {},
     "output_type": "execute_result"
    }
   ],
   "source": [
    "#filter\n",
    "list(filter(lambda x: x%2!=0,l))"
   ]
  },
  {
   "cell_type": "code",
   "execution_count": 114,
   "id": "5d23a58d-38f7-4aff-9305-247546fc7a85",
   "metadata": {},
   "outputs": [],
   "source": [
    "l1=[-3,-5,55,-4,54,-55]"
   ]
  },
  {
   "cell_type": "code",
   "execution_count": 116,
   "id": "3dc69bf7-916c-4434-baca-e1135596798d",
   "metadata": {},
   "outputs": [
    {
     "data": {
      "text/plain": [
       "(55, 54)"
      ]
     },
     "execution_count": 116,
     "metadata": {},
     "output_type": "execute_result"
    }
   ],
   "source": [
    "tuple(filter(lambda x : x>0,l1))"
   ]
  },
  {
   "cell_type": "code",
   "execution_count": 117,
   "id": "8d1bb8d0-cc6f-4438-b44f-1ccc62201a78",
   "metadata": {},
   "outputs": [],
   "source": [
    "l2 =['such','print','rathee','priynashu']"
   ]
  },
  {
   "cell_type": "code",
   "execution_count": 119,
   "id": "828c9ce4-1def-4642-903f-d0d066cc9def",
   "metadata": {},
   "outputs": [
    {
     "data": {
      "text/plain": [
       "['such', 'print']"
      ]
     },
     "execution_count": 119,
     "metadata": {},
     "output_type": "execute_result"
    }
   ],
   "source": [
    "list(filter(lambda x : len(x)<6,l2))"
   ]
  },
  {
   "cell_type": "code",
   "execution_count": 5,
   "id": "231a1654-c6ed-4630-8d80-ab8008726288",
   "metadata": {},
   "outputs": [],
   "source": [
    "#oops\n",
    "class pwskills:\n",
    "    def welocme_meg(self):\n",
    "        print('welcome to pwskill')"
   ]
  },
  {
   "cell_type": "code",
   "execution_count": 6,
   "id": "e0fea3e9-aa30-47da-8ec0-6fed42ff9a57",
   "metadata": {},
   "outputs": [],
   "source": [
    "r = pwskills()"
   ]
  },
  {
   "cell_type": "code",
   "execution_count": 8,
   "id": "01509c27-acab-4417-9119-e001b90961e7",
   "metadata": {},
   "outputs": [
    {
     "name": "stdout",
     "output_type": "stream",
     "text": [
      "welcome to pwskill\n"
     ]
    }
   ],
   "source": [
    "r.welocme_meg()"
   ]
  },
  {
   "cell_type": "code",
   "execution_count": 11,
   "id": "2b4409fe-1c83-41be-86f1-1c881aaedb79",
   "metadata": {},
   "outputs": [],
   "source": [
    "p =pwskills()"
   ]
  },
  {
   "cell_type": "code",
   "execution_count": 13,
   "id": "6c906e6e-cc15-4274-b4de-115ba01cbd7a",
   "metadata": {},
   "outputs": [
    {
     "name": "stdout",
     "output_type": "stream",
     "text": [
      "welcome to pwskill\n"
     ]
    }
   ],
   "source": [
    "p.welocme_meg()"
   ]
  },
  {
   "cell_type": "code",
   "execution_count": 15,
   "id": "7cb8753e-fee3-461a-95b4-6fc2c3b879d9",
   "metadata": {},
   "outputs": [],
   "source": [
    "class priyanshu1:\n",
    "    def __init__(self,phone_number,email_id,student_id):\n",
    "        self.phone_number =phone_number\n",
    "        self.email_id =email_id\n",
    "        self.student_id =student_id\n",
    "    def return_student_detaials(self):\n",
    "        return self.student_id,self.phone_number,self.email_id\n",
    "    "
   ]
  },
  {
   "cell_type": "code",
   "execution_count": 16,
   "id": "b7d44c29-5eaf-4d72-a45e-5b1f2ff6659a",
   "metadata": {},
   "outputs": [],
   "source": [
    "p =priyanshu1(7389862911,'techrathee@gmail.com',305)"
   ]
  },
  {
   "cell_type": "code",
   "execution_count": 17,
   "id": "1cc98c14-1e22-45f6-9c5d-7878f6005148",
   "metadata": {},
   "outputs": [
    {
     "data": {
      "text/plain": [
       "'techrathee@gmail.com'"
      ]
     },
     "execution_count": 17,
     "metadata": {},
     "output_type": "execute_result"
    }
   ],
   "source": [
    "p.email_id"
   ]
  },
  {
   "cell_type": "code",
   "execution_count": 18,
   "id": "37c2704a-2fcd-4e1c-9f4d-36022cef4886",
   "metadata": {},
   "outputs": [
    {
     "data": {
      "text/plain": [
       "305"
      ]
     },
     "execution_count": 18,
     "metadata": {},
     "output_type": "execute_result"
    }
   ],
   "source": [
    "p.student_id"
   ]
  },
  {
   "cell_type": "code",
   "execution_count": 19,
   "id": "2ce850f9-02dc-4012-874d-a183258f82a1",
   "metadata": {},
   "outputs": [
    {
     "data": {
      "text/plain": [
       "7389862911"
      ]
     },
     "execution_count": 19,
     "metadata": {},
     "output_type": "execute_result"
    }
   ],
   "source": [
    "p.phone_number"
   ]
  },
  {
   "cell_type": "code",
   "execution_count": 21,
   "id": "94fdb90c-8a0c-4b00-bc7b-50eace5f140b",
   "metadata": {},
   "outputs": [
    {
     "data": {
      "text/plain": [
       "(305, 7389862911, 'techrathee@gmail.com')"
      ]
     },
     "execution_count": 21,
     "metadata": {},
     "output_type": "execute_result"
    }
   ],
   "source": [
    "p.return_student_detaials()"
   ]
  },
  {
   "cell_type": "code",
   "execution_count": 23,
   "id": "7352898e-7388-41d3-b739-5b26e469d663",
   "metadata": {},
   "outputs": [],
   "source": [
    "class priyanshu12:\n",
    "    def __init__(s,phone_number,email_id,student_id):\n",
    "        s.phone_number =phone_number\n",
    "        s.email_id =email_id\n",
    "        s.student_id =student_id\n",
    "    def return_student_detaials(s):\n",
    "        return s.student_id,s.phone_number,s.email_id"
   ]
  },
  {
   "cell_type": "code",
   "execution_count": 25,
   "id": "ec23a48a-bf7f-484f-9843-13570ffadbe4",
   "metadata": {},
   "outputs": [],
   "source": [
    "p1 = priyanshu12('sdsdsd',3434343,3434)"
   ]
  },
  {
   "cell_type": "code",
   "execution_count": 27,
   "id": "c896ae44-d0d6-4034-97fb-9d8c2f99b46f",
   "metadata": {},
   "outputs": [
    {
     "data": {
      "text/plain": [
       "'sdsdsd'"
      ]
     },
     "execution_count": 27,
     "metadata": {},
     "output_type": "execute_result"
    }
   ],
   "source": [
    "p1.phone_number"
   ]
  },
  {
   "cell_type": "code",
   "execution_count": 28,
   "id": "bbdf1be5-ea10-4ccc-ab47-f5f82c091526",
   "metadata": {},
   "outputs": [
    {
     "data": {
      "text/plain": [
       "3434"
      ]
     },
     "execution_count": 28,
     "metadata": {},
     "output_type": "execute_result"
    }
   ],
   "source": [
    "p1.student_id"
   ]
  },
  {
   "cell_type": "code",
   "execution_count": 30,
   "id": "1b59c0fb-8cc1-4426-8dc6-65f92aab6414",
   "metadata": {},
   "outputs": [
    {
     "data": {
      "text/plain": [
       "3434343"
      ]
     },
     "execution_count": 30,
     "metadata": {},
     "output_type": "execute_result"
    }
   ],
   "source": [
    "p1.email_id"
   ]
  },
  {
   "cell_type": "code",
   "execution_count": 32,
   "id": "a78e4d0f-1321-461c-9f8b-b5f01d270f60",
   "metadata": {},
   "outputs": [
    {
     "data": {
      "text/plain": [
       "(3434, 'sdsdsd', 3434343)"
      ]
     },
     "execution_count": 32,
     "metadata": {},
     "output_type": "execute_result"
    }
   ],
   "source": [
    "p1.return_student_detaials()"
   ]
  },
  {
   "cell_type": "code",
   "execution_count": 1,
   "id": "0feb8f69-c6ca-439a-a53d-1386e6cb7dfb",
   "metadata": {},
   "outputs": [],
   "source": [
    "#Polymorphism\n",
    "def test(a,b):\n",
    "    return a+b\n"
   ]
  },
  {
   "cell_type": "code",
   "execution_count": 2,
   "id": "e4c5a793-9d04-48e5-bb32-1f06949dc624",
   "metadata": {},
   "outputs": [
    {
     "data": {
      "text/plain": [
       "7"
      ]
     },
     "execution_count": 2,
     "metadata": {},
     "output_type": "execute_result"
    }
   ],
   "source": [
    "test(3,4)"
   ]
  },
  {
   "cell_type": "code",
   "execution_count": 4,
   "id": "74afaa5a-2d5e-405c-b9cf-a5e133dd5451",
   "metadata": {},
   "outputs": [
    {
     "data": {
      "text/plain": [
       "'priyanshu rarhod'"
      ]
     },
     "execution_count": 4,
     "metadata": {},
     "output_type": "execute_result"
    }
   ],
   "source": [
    "test('priyanshu ','rarhod')"
   ]
  },
  {
   "cell_type": "code",
   "execution_count": 8,
   "id": "4778d28d-cc9b-41a1-8938-c738f8fadcdf",
   "metadata": {},
   "outputs": [
    {
     "data": {
      "text/plain": [
       "[3, 4, 5, 6, 7, 45, 78, 9465, 46]"
      ]
     },
     "execution_count": 8,
     "metadata": {},
     "output_type": "execute_result"
    }
   ],
   "source": [
    "test([3,4,5,6,7],[45,78,9465,46])"
   ]
  },
  {
   "cell_type": "code",
   "execution_count": 24,
   "id": "9e6a6fb6-4908-4b78-abfd-486f19d69c3d",
   "metadata": {},
   "outputs": [],
   "source": [
    "class data_science:\n",
    "    def syllabus(self):\n",
    "        print('this is my syllabus for data science masters')"
   ]
  },
  {
   "cell_type": "code",
   "execution_count": 17,
   "id": "6ca1a5cd-36f5-4af4-ab3a-35e4caf2f3c5",
   "metadata": {},
   "outputs": [],
   "source": [
    "class web_dev:\n",
    "    def syllabus(self):\n",
    "        print(\"this is my syllabus for wed dev\")"
   ]
  },
  {
   "cell_type": "code",
   "execution_count": 18,
   "id": "7c606d74-b352-49c6-ba86-3d3a5c79f92a",
   "metadata": {},
   "outputs": [],
   "source": [
    "def class_parcer(class_obj):\n",
    "    for i in class_obj:\n",
    "        i.syllabus()"
   ]
  },
  {
   "cell_type": "code",
   "execution_count": 25,
   "id": "115e67e1-f950-4682-9282-663e33c556f1",
   "metadata": {},
   "outputs": [],
   "source": [
    "data_science = data_science()"
   ]
  },
  {
   "cell_type": "code",
   "execution_count": 21,
   "id": "b87247d6-d896-4bac-ba3e-3dc0143335dc",
   "metadata": {},
   "outputs": [],
   "source": [
    "web_dev = web_dev()"
   ]
  },
  {
   "cell_type": "code",
   "execution_count": 22,
   "id": "0efbbc4e-56f7-4399-9868-481b7822a1e4",
   "metadata": {},
   "outputs": [],
   "source": [
    "class_obj =[data_science,web_dev]"
   ]
  },
  {
   "cell_type": "code",
   "execution_count": 27,
   "id": "7ebde7d2-9d77-4166-a62b-5ad520146b11",
   "metadata": {},
   "outputs": [
    {
     "name": "stdout",
     "output_type": "stream",
     "text": [
      "this is my syllabus for data science masters\n",
      "this is my syllabus for wed dev\n"
     ]
    }
   ],
   "source": [
    "class_parcer(class_obj)"
   ]
  },
  {
   "cell_type": "code",
   "execution_count": 45,
   "id": "a384f328-0572-43ca-aba0-188463465362",
   "metadata": {},
   "outputs": [],
   "source": [
    "#Encapsulation\n",
    "class car:\n",
    "    \n",
    "    def __init__(self,year ,make ,model ,speed):\n",
    "        self.__year =year\n",
    "        self.__make = make\n",
    "        self.__model = model\n",
    "        self.__speed = 0\n",
    "        \n",
    "    def set_speed(self,speed):\n",
    "        self.__speed = 0 if speed <0 else speed\n",
    "        \n",
    "    def get_speed(self):\n",
    "        return self.__speed"
   ]
  },
  {
   "cell_type": "code",
   "execution_count": 46,
   "id": "4a0a01cc-098f-4555-9158-7c04c78eb6de",
   "metadata": {},
   "outputs": [],
   "source": [
    "c = car(2011,\"toyata\",\"innvoa\",12)"
   ]
  },
  {
   "cell_type": "code",
   "execution_count": 47,
   "id": "529ca771-29f9-4602-9949-7eaebc53ec76",
   "metadata": {},
   "outputs": [
    {
     "data": {
      "text/plain": [
       "2011"
      ]
     },
     "execution_count": 47,
     "metadata": {},
     "output_type": "execute_result"
    }
   ],
   "source": [
    "c._car__year"
   ]
  },
  {
   "cell_type": "code",
   "execution_count": 48,
   "id": "09a96a80-a7da-4a26-8ce7-dedcee324fc7",
   "metadata": {},
   "outputs": [],
   "source": [
    "c.set_speed(1230)"
   ]
  },
  {
   "cell_type": "code",
   "execution_count": 49,
   "id": "6164f76a-4ef6-429b-8f1e-74269a24fb4d",
   "metadata": {},
   "outputs": [
    {
     "data": {
      "text/plain": [
       "1230"
      ]
     },
     "execution_count": 49,
     "metadata": {},
     "output_type": "execute_result"
    }
   ],
   "source": [
    "c.get_speed()"
   ]
  },
  {
   "cell_type": "code",
   "execution_count": 50,
   "id": "ed883415-80b4-407a-93af-a6e1d226f065",
   "metadata": {},
   "outputs": [],
   "source": [
    "#bank account\n",
    "class bank_account:\n",
    "    def __init__(self,balance):\n",
    "        self.__balance = balance\n",
    "        \n",
    "    def deposit(self,amount):\n",
    "        self.__balance = self.__balance + amount\n",
    "        \n",
    "    def withdraw(self,amount):\n",
    "        if self.__balance>= amount:\n",
    "            self.__balance = self.__balance - amount\n",
    "            return True\n",
    "        else:\n",
    "            return False\n",
    "    def get_balance(self):\n",
    "        return self.__balance"
   ]
  },
  {
   "cell_type": "code",
   "execution_count": 52,
   "id": "ab8884bd-2a73-4eac-a7ea-68731c6292f9",
   "metadata": {},
   "outputs": [],
   "source": [
    "priyanshu = bank_account(1000)"
   ]
  },
  {
   "cell_type": "code",
   "execution_count": 53,
   "id": "d451a19f-b9c1-45d8-8ec9-e98b773c3f44",
   "metadata": {},
   "outputs": [],
   "source": [
    "priyanshu.deposit(1000)"
   ]
  },
  {
   "cell_type": "code",
   "execution_count": 54,
   "id": "9b2b6b2b-4a83-47e3-ab48-4cace1578bba",
   "metadata": {},
   "outputs": [
    {
     "data": {
      "text/plain": [
       "2000"
      ]
     },
     "execution_count": 54,
     "metadata": {},
     "output_type": "execute_result"
    }
   ],
   "source": [
    "priyanshu.get_balance()"
   ]
  },
  {
   "cell_type": "code",
   "execution_count": 55,
   "id": "abcc7a81-9f05-4b4f-afc7-ac57e5f84088",
   "metadata": {},
   "outputs": [
    {
     "data": {
      "text/plain": [
       "True"
      ]
     },
     "execution_count": 55,
     "metadata": {},
     "output_type": "execute_result"
    }
   ],
   "source": [
    "priyanshu.withdraw(2000)"
   ]
  },
  {
   "cell_type": "code",
   "execution_count": 56,
   "id": "7bc741ec-b706-433c-92d4-4f1a4e44d94d",
   "metadata": {},
   "outputs": [
    {
     "data": {
      "text/plain": [
       "0"
      ]
     },
     "execution_count": 56,
     "metadata": {},
     "output_type": "execute_result"
    }
   ],
   "source": [
    "priyanshu.get_balance()"
   ]
  },
  {
   "cell_type": "code",
   "execution_count": 1,
   "id": "d966d437-146c-44a7-8d1c-c139010d6ea3",
   "metadata": {},
   "outputs": [],
   "source": [
    "# Inheritance\n",
    "class test:\n",
    "    def test_meth(self):\n",
    "        return\"this is my first class\""
   ]
  },
  {
   "cell_type": "code",
   "execution_count": 2,
   "id": "bffa5f20-1e49-488c-bf56-2ebc7b4a5467",
   "metadata": {},
   "outputs": [],
   "source": [
    "class child_test(test):\n",
    "    pass"
   ]
  },
  {
   "cell_type": "code",
   "execution_count": 3,
   "id": "766c68d9-81f9-4c37-8056-300abd3a8ce6",
   "metadata": {},
   "outputs": [],
   "source": [
    "child_test_obj = child_test()"
   ]
  },
  {
   "cell_type": "code",
   "execution_count": 7,
   "id": "d7350544-fd1b-4385-8514-5649993d2004",
   "metadata": {},
   "outputs": [
    {
     "data": {
      "text/plain": [
       "'this is my first class'"
      ]
     },
     "execution_count": 7,
     "metadata": {},
     "output_type": "execute_result"
    }
   ],
   "source": [
    "child_test_obj.test_meth()"
   ]
  },
  {
   "cell_type": "code",
   "execution_count": 8,
   "id": "c6a2f1ad-25ab-44ca-86d5-b7c44c87a69c",
   "metadata": {},
   "outputs": [],
   "source": [
    "#multilevel inheritance \n",
    "class class1:\n",
    "    \n",
    "    def test_class1(self):\n",
    "        return\"this is a metn form class1\""
   ]
  },
  {
   "cell_type": "code",
   "execution_count": 9,
   "id": "c31f065c-0918-4d2d-916c-771c4e93685f",
   "metadata": {},
   "outputs": [],
   "source": [
    "class class2(class1):\n",
    "    def test_class2(self):\n",
    "        return \"this is meth form class 2\""
   ]
  },
  {
   "cell_type": "code",
   "execution_count": 10,
   "id": "c338ba51-6358-4507-8b73-5975ffdd28fd",
   "metadata": {},
   "outputs": [],
   "source": [
    "class class3 (class2):\n",
    "    pass"
   ]
  },
  {
   "cell_type": "code",
   "execution_count": 11,
   "id": "afcdda90-2f3d-4579-af7a-13f6d30b74d2",
   "metadata": {},
   "outputs": [],
   "source": [
    "obj_class3 = class3()"
   ]
  },
  {
   "cell_type": "code",
   "execution_count": 12,
   "id": "0ed43c44-607c-43a6-858c-409be5660907",
   "metadata": {},
   "outputs": [
    {
     "data": {
      "text/plain": [
       "'this is a metn form class1'"
      ]
     },
     "execution_count": 12,
     "metadata": {},
     "output_type": "execute_result"
    }
   ],
   "source": [
    "obj_class3.test_class1()"
   ]
  },
  {
   "cell_type": "code",
   "execution_count": 13,
   "id": "6e534ae5-5e16-485e-bb43-420987686cee",
   "metadata": {},
   "outputs": [
    {
     "data": {
      "text/plain": [
       "'this is meth form class 2'"
      ]
     },
     "execution_count": 13,
     "metadata": {},
     "output_type": "execute_result"
    }
   ],
   "source": [
    "obj_class3.test_class2()"
   ]
  },
  {
   "cell_type": "code",
   "execution_count": 14,
   "id": "a0b22765-94bf-4f28-83ba-74d97dc5816e",
   "metadata": {},
   "outputs": [],
   "source": [
    "#multi inheritance\n",
    "class class1:\n",
    "    def test_class1(self):\n",
    "        return \"this is a class1\""
   ]
  },
  {
   "cell_type": "code",
   "execution_count": 18,
   "id": "afa400c8-b369-41b8-a92a-8b780abed7dc",
   "metadata": {},
   "outputs": [],
   "source": [
    "class class2:\n",
    "    def test_class2(self):\n",
    "        return \"this is class2\""
   ]
  },
  {
   "cell_type": "code",
   "execution_count": 19,
   "id": "7bcf80cb-44d9-418f-ae66-92df78a543c0",
   "metadata": {},
   "outputs": [],
   "source": [
    "class class3(class1,class2):\n",
    "    pass"
   ]
  },
  {
   "cell_type": "code",
   "execution_count": 22,
   "id": "88d928bd-8815-403c-b230-ec1fb8214d1b",
   "metadata": {},
   "outputs": [],
   "source": [
    "obj_class3 = class3()"
   ]
  },
  {
   "cell_type": "code",
   "execution_count": 23,
   "id": "b2a80bd6-c1d2-4325-af99-9a7ff7093944",
   "metadata": {},
   "outputs": [
    {
     "data": {
      "text/plain": [
       "'this is a class1'"
      ]
     },
     "execution_count": 23,
     "metadata": {},
     "output_type": "execute_result"
    }
   ],
   "source": [
    "obj_class3.test_class1()"
   ]
  },
  {
   "cell_type": "code",
   "execution_count": 24,
   "id": "4dce4bb5-006b-430c-a5d1-6b76357c012d",
   "metadata": {},
   "outputs": [
    {
     "data": {
      "text/plain": [
       "'this is class2'"
      ]
     },
     "execution_count": 24,
     "metadata": {},
     "output_type": "execute_result"
    }
   ],
   "source": [
    "obj_class3.test_class2()"
   ]
  },
  {
   "cell_type": "code",
   "execution_count": 27,
   "id": "166355c3-1218-4fc3-a3d9-dd72eea205c1",
   "metadata": {},
   "outputs": [],
   "source": [
    "import abc"
   ]
  },
  {
   "cell_type": "code",
   "execution_count": 30,
   "id": "4d1dc424-1454-4f7d-9031-0929ad25ea00",
   "metadata": {},
   "outputs": [],
   "source": [
    "# abstraction\n",
    "class pwskills:\n",
    "    @abc.abstractmethod\n",
    "    def students_detaials(self):\n",
    "        pass\n",
    "    @abc.abstractmethod\n",
    "    def student_assignment(self):\n",
    "        pass\n",
    "    @abc.abstractmethod\n",
    "    def student_marks(self):\n",
    "        pass"
   ]
  },
  {
   "cell_type": "code",
   "execution_count": 34,
   "id": "ca5b340a-5de5-4423-9ab6-57c529e52033",
   "metadata": {},
   "outputs": [],
   "source": [
    "class student_detils(pwskills):\n",
    "    def student_detaials(self):\n",
    "        return\"this is meth for taking student detaails\"\n",
    "    def student_assignment(self):\n",
    "        return \" this is meth for taking student assignment\"\n",
    "    def student_marks(self):\n",
    "        return \" this is taking about stundet marks\"\n",
    "    "
   ]
  },
  {
   "cell_type": "code",
   "execution_count": 35,
   "id": "027fdeb0-a344-4be4-86cc-56ca19959f7b",
   "metadata": {},
   "outputs": [],
   "source": [
    "class data_science(pwskills):\n",
    "    def student_detaials(self):\n",
    "        return \"this is dc\"\n",
    "    def student_assignment(self):\n",
    "        return \" this is dc1\"\n",
    "    def student_marks (self):\n",
    "        return \" this is dc2\""
   ]
  },
  {
   "cell_type": "code",
   "execution_count": 36,
   "id": "f0cb5f39-53d1-4044-8dcf-d6dc6a5c1e81",
   "metadata": {},
   "outputs": [],
   "source": [
    "ds= data_science()"
   ]
  },
  {
   "cell_type": "code",
   "execution_count": 37,
   "id": "8fb45bd9-7fa7-4063-ac27-e64bdfddf1af",
   "metadata": {},
   "outputs": [
    {
     "data": {
      "text/plain": [
       "'this is dc'"
      ]
     },
     "execution_count": 37,
     "metadata": {},
     "output_type": "execute_result"
    }
   ],
   "source": [
    "ds.student_detaials()"
   ]
  },
  {
   "cell_type": "code",
   "execution_count": 38,
   "id": "ab6c9f91-f461-4228-8e89-049b19a4c92f",
   "metadata": {},
   "outputs": [],
   "source": [
    "sd = student_detils()"
   ]
  },
  {
   "cell_type": "code",
   "execution_count": 39,
   "id": "58a39dc4-5077-449f-b8ca-f13939d132ca",
   "metadata": {},
   "outputs": [
    {
     "data": {
      "text/plain": [
       "' this is taking about stundet marks'"
      ]
     },
     "execution_count": 39,
     "metadata": {},
     "output_type": "execute_result"
    }
   ],
   "source": [
    "sd.student_marks()"
   ]
  },
  {
   "cell_type": "code",
   "execution_count": 14,
   "id": "db35b170-d11f-431a-9a27-f3fef13b80fc",
   "metadata": {},
   "outputs": [],
   "source": [
    "#decorators\n",
    "def deco(func):\n",
    "    def inner_dec():\n",
    "        print(\"this is the start of my fun\")\n",
    "        func()\n",
    "        print(\"this is the end of func\")\n",
    "    return inner_dec"
   ]
  },
  {
   "cell_type": "code",
   "execution_count": 1,
   "id": "bbaad2e9-56e7-4bc1-b2b9-44642ac767c1",
   "metadata": {},
   "outputs": [
    {
     "ename": "NameError",
     "evalue": "name 'deco' is not defined",
     "output_type": "error",
     "traceback": [
      "\u001b[1;31m---------------------------------------------------------------------------\u001b[0m",
      "\u001b[1;31mNameError\u001b[0m                                 Traceback (most recent call last)",
      "\u001b[1;32m~\\AppData\\Local\\Temp\\ipykernel_2820\\3085822271.py\u001b[0m in \u001b[0;36m<module>\u001b[1;34m\u001b[0m\n\u001b[1;32m----> 1\u001b[1;33m \u001b[1;33m@\u001b[0m\u001b[0mdeco\u001b[0m\u001b[1;33m\u001b[0m\u001b[1;33m\u001b[0m\u001b[0m\n\u001b[0m\u001b[0;32m      2\u001b[0m \u001b[1;32mdef\u001b[0m \u001b[0mtest\u001b[0m\u001b[1;33m(\u001b[0m\u001b[1;33m)\u001b[0m\u001b[1;33m:\u001b[0m\u001b[1;33m\u001b[0m\u001b[1;33m\u001b[0m\u001b[0m\n\u001b[0;32m      3\u001b[0m     \u001b[0mprint\u001b[0m\u001b[1;33m(\u001b[0m\u001b[1;36m4444\u001b[0m\u001b[1;33m+\u001b[0m\u001b[1;36m5555\u001b[0m\u001b[1;33m)\u001b[0m\u001b[1;33m\u001b[0m\u001b[1;33m\u001b[0m\u001b[0m\n",
      "\u001b[1;31mNameError\u001b[0m: name 'deco' is not defined"
     ]
    }
   ],
   "source": [
    "@deco\n",
    "def test():\n",
    "    print(4444+5555)"
   ]
  },
  {
   "cell_type": "code",
   "execution_count": null,
   "id": "b23bd286-513b-432a-b0fc-4f2c912a47cb",
   "metadata": {},
   "outputs": [],
   "source": [
    "test()"
   ]
  },
  {
   "cell_type": "code",
   "execution_count": 5,
   "id": "f6fc89b6-c7cc-4cdd-a356-d7bb82ed34a9",
   "metadata": {},
   "outputs": [],
   "source": [
    "import time"
   ]
  },
  {
   "cell_type": "code",
   "execution_count": 6,
   "id": "ad11fe8e-ca32-490b-8fdd-5dc8c67d0d87",
   "metadata": {},
   "outputs": [],
   "source": [
    "\n",
    "def time_test(func):\n",
    "    def timer_test_inner():\n",
    "        start = time.time()\n",
    "        func()\n",
    "        end = time.time()\n",
    "        print(end-start)\n",
    "    return timer_test_inner"
   ]
  },
  {
   "cell_type": "code",
   "execution_count": 7,
   "id": "2e157267-d286-424e-9f34-31bb357a2555",
   "metadata": {},
   "outputs": [],
   "source": [
    "@time_test\n",
    "def test2():\n",
    "    print(44+-33)"
   ]
  },
  {
   "cell_type": "code",
   "execution_count": 8,
   "id": "38633437-24c6-4afe-bbbe-7f6528f253e2",
   "metadata": {},
   "outputs": [
    {
     "name": "stdout",
     "output_type": "stream",
     "text": [
      "11\n",
      "0.0\n"
     ]
    }
   ],
   "source": [
    "test2()"
   ]
  },
  {
   "cell_type": "code",
   "execution_count": 9,
   "id": "026e4e88-006d-4f0b-a4f9-3260ac58b7c8",
   "metadata": {},
   "outputs": [],
   "source": [
    "@time_test\n",
    "def test12():\n",
    "    for i in range(999999):\n",
    "        pass"
   ]
  },
  {
   "cell_type": "code",
   "execution_count": 10,
   "id": "5d4b90c8-84ba-48f0-a81d-6981fcfbd27d",
   "metadata": {},
   "outputs": [
    {
     "name": "stdout",
     "output_type": "stream",
     "text": [
      "0.020999908447265625\n"
     ]
    }
   ],
   "source": [
    "test12()"
   ]
  },
  {
   "cell_type": "code",
   "execution_count": 17,
   "id": "8d42e4c4-2f6f-4488-86b0-5837dc63f9db",
   "metadata": {},
   "outputs": [],
   "source": [
    "#class methods\n",
    "class pwskills:\n",
    "    def __init__(self,name,email):\n",
    "        self.name=name\n",
    "        self.email= email\n",
    "    @classmethod\n",
    "    def details(cls,name,email):\n",
    "        return cls(name,email)\n",
    "        \n",
    "    def students_details(self):\n",
    "        print(self.name,self.email)"
   ]
  },
  {
   "cell_type": "code",
   "execution_count": null,
   "id": "34d40532-64c9-4c88-a658-caa5b7c19f33",
   "metadata": {},
   "outputs": [],
   "source": [
    "p"
   ]
  },
  {
   "cell_type": "code",
   "execution_count": 25,
   "id": "0d761b99-c76a-41b6-82c8-9232d599e269",
   "metadata": {},
   "outputs": [],
   "source": [
    "pw=pwskills.details(\"priyanshu\",\"techrathod\")"
   ]
  },
  {
   "cell_type": "code",
   "execution_count": 26,
   "id": "0e107025-68d8-476d-809a-771de8971c00",
   "metadata": {},
   "outputs": [
    {
     "data": {
      "text/plain": [
       "'techrathod'"
      ]
     },
     "execution_count": 26,
     "metadata": {},
     "output_type": "execute_result"
    }
   ],
   "source": [
    "pw.email"
   ]
  },
  {
   "cell_type": "code",
   "execution_count": 29,
   "id": "3155c291-2387-40e7-8f91-0bc242872298",
   "metadata": {},
   "outputs": [
    {
     "name": "stdout",
     "output_type": "stream",
     "text": [
      "priyanshu techrathod\n"
     ]
    }
   ],
   "source": [
    "pw.students_details()"
   ]
  },
  {
   "cell_type": "code",
   "execution_count": 42,
   "id": "568b5693-5124-4e1c-bfb1-38e52b6fbfb3",
   "metadata": {},
   "outputs": [],
   "source": [
    "class pwskills:\n",
    "    mobile_num=7389865291\n",
    "    def __init__(self,name,email):\n",
    "        self.name=name\n",
    "        self.email= email\n",
    "    @classmethod\n",
    "    def change_number(cls,mobile):\n",
    "        pwskills.mobile_num = mobile\n",
    "    \n",
    "    \n",
    "    @classmethod\n",
    "    def details(cls,name,email):\n",
    "        return cls(name,email)\n",
    "        \n",
    "    def students_details(self):\n",
    "        print(self.name,self.email,pwskills.mobile_num)"
   ]
  },
  {
   "cell_type": "code",
   "execution_count": 43,
   "id": "c53e201c-f3ac-43b6-86bd-1488041bb15d",
   "metadata": {},
   "outputs": [
    {
     "data": {
      "text/plain": [
       "7389865291"
      ]
     },
     "execution_count": 43,
     "metadata": {},
     "output_type": "execute_result"
    }
   ],
   "source": [
    "pwskills.mobile_num"
   ]
  },
  {
   "cell_type": "code",
   "execution_count": 44,
   "id": "55aa964d-6d76-4779-9838-8cde57b6de54",
   "metadata": {},
   "outputs": [],
   "source": [
    "pwskills.change_number(1323232323)"
   ]
  },
  {
   "cell_type": "code",
   "execution_count": 45,
   "id": "834fe218-6cd5-40ff-ba6c-27ac33002c48",
   "metadata": {},
   "outputs": [
    {
     "data": {
      "text/plain": [
       "1323232323"
      ]
     },
     "execution_count": 45,
     "metadata": {},
     "output_type": "execute_result"
    }
   ],
   "source": [
    "pwskills.mobile_num"
   ]
  },
  {
   "cell_type": "code",
   "execution_count": 47,
   "id": "cc5f299e-633f-4165-8101-29589a45dd40",
   "metadata": {},
   "outputs": [],
   "source": [
    "pw_obj = pwskills(\"fgf\",\"dfd\")"
   ]
  },
  {
   "cell_type": "code",
   "execution_count": 50,
   "id": "a31bd755-fd6c-4b83-84ed-3f35977eade8",
   "metadata": {},
   "outputs": [
    {
     "name": "stdout",
     "output_type": "stream",
     "text": [
      "fgf dfd 1323232323\n"
     ]
    }
   ],
   "source": [
    "pw_obj.students_details()"
   ]
  },
  {
   "cell_type": "code",
   "execution_count": 51,
   "id": "b716ca7a-4364-488e-a5ba-797f67988cde",
   "metadata": {},
   "outputs": [],
   "source": [
    "def course_details (cls,course_name):\n",
    "    print(\"course name is \",course_name)"
   ]
  },
  {
   "cell_type": "code",
   "execution_count": 52,
   "id": "c1a5baff-accc-4e26-84fc-4944954ad42f",
   "metadata": {},
   "outputs": [],
   "source": [
    "pwskills.course_details = classmethod(course_details)"
   ]
  },
  {
   "cell_type": "code",
   "execution_count": 54,
   "id": "5733cef7-6636-49c0-8ae7-855716945a21",
   "metadata": {},
   "outputs": [
    {
     "name": "stdout",
     "output_type": "stream",
     "text": [
      "course name is  data sciece\n"
     ]
    }
   ],
   "source": [
    "pwskills.course_details(\"data sciece\")"
   ]
  },
  {
   "cell_type": "code",
   "execution_count": null,
   "id": "1c4d148b-58e7-42b7-9de1-bb38d892c754",
   "metadata": {},
   "outputs": [],
   "source": [
    "#Static MEthod"
   ]
  },
  {
   "cell_type": "code",
   "execution_count": 1,
   "id": "980b394c-60c4-4603-937a-d3e39abcebf5",
   "metadata": {},
   "outputs": [],
   "source": [
    "class pwskills:\n",
    "    def student_details(self, name ,mail_id,number):\n",
    "        print( name , mail_id,number )\n",
    "        \n",
    "    @staticmethod\n",
    "    def mentor_class(list_mentor):\n",
    "        print(list_mentor)"
   ]
  },
  {
   "cell_type": "code",
   "execution_count": 4,
   "id": "257bf166-7d1d-4bde-8e6d-e23d6fab487e",
   "metadata": {},
   "outputs": [
    {
     "name": "stdout",
     "output_type": "stream",
     "text": [
      "['subh', 'rathod', 351231]\n"
     ]
    }
   ],
   "source": [
    "pwskills.mentor_class([\"subh\",\"rathod\",351231])"
   ]
  },
  {
   "cell_type": "code",
   "execution_count": 9,
   "id": "d767c84b-c401-46af-a0dd-e704b0445c72",
   "metadata": {},
   "outputs": [],
   "source": [
    "class pwskills:\n",
    "    def student_details(self, name ,mail_id,number):\n",
    "        print( name , mail_id,number )\n",
    "        \n",
    "    @staticmethod\n",
    "    def mentor_mail_id(mail_id_mentor):\n",
    "        print(mail_id_mentor)\n",
    "        \n",
    "       \n",
    "        \n",
    "    \n",
    "    @staticmethod\n",
    "    def mentor_class(list_mentor):\n",
    "        pwskills.mentor_mail_id(['subh@gmail.com','priyanshu'])\n",
    "        print(list_mentor)\n",
    "        \n",
    "    @classmethod\n",
    "    def class_name(cls):\n",
    "        cls.mentor_class([\"subh\",\"prianshu\"])\n",
    "        \n",
    "    def mentor(self, mentor_list):\n",
    "        print(mentor_list)"
   ]
  },
  {
   "cell_type": "code",
   "execution_count": 8,
   "id": "d30f0ed2-81fd-49f9-b942-c392c90f6894",
   "metadata": {},
   "outputs": [
    {
     "name": "stdout",
     "output_type": "stream",
     "text": [
      "ddfd\n"
     ]
    }
   ],
   "source": [
    "pwskills.mentor_class('ddfd')"
   ]
  },
  {
   "cell_type": "code",
   "execution_count": 10,
   "id": "887e966d-a7a0-46df-a580-0272c89815ec",
   "metadata": {},
   "outputs": [
    {
     "name": "stdout",
     "output_type": "stream",
     "text": [
      "['subh@gmail.com', 'priyanshu']\n",
      "['qqqq', 'www']\n"
     ]
    }
   ],
   "source": [
    "pwskills.mentor_class(['qqqq','www'])"
   ]
  },
  {
   "cell_type": "code",
   "execution_count": 13,
   "id": "8cec9292-7c26-49e7-956b-117689b4c80a",
   "metadata": {},
   "outputs": [
    {
     "name": "stdout",
     "output_type": "stream",
     "text": [
      "['subh@gmail.com', 'priyanshu']\n",
      "['subh', 'prianshu']\n"
     ]
    }
   ],
   "source": [
    "pwskills.class_name()"
   ]
  },
  {
   "cell_type": "code",
   "execution_count": 39,
   "id": "d7a71507-b620-462e-a1de-920d3ea6d0a7",
   "metadata": {},
   "outputs": [],
   "source": [
    "class pwskills3:\n",
    "    def student_detials(self , name , mail_id, number):\n",
    "        print(name ,mail_id ,number)\n",
    "        \n",
    "    @staticmethod\n",
    "    def mentor_mail_id(mail_id_mentor):\n",
    "        print(maild_id_mentor)\n",
    "        \n",
    "    @staticmethod\n",
    "    def mentor_class(list_mentor):\n",
    "        pwskills3.mentor_mail_id(['priyasnshu@gmail.com',\"techrathee@gmail.com\"])\n",
    "        print(list_mentor)\n",
    "        \n",
    "        \n",
    "    @classmethod\n",
    "    def class_name(cls):\n",
    "        cls.mentor_class(['SUBH','techrathee'])\n",
    "        \n",
    "    def mentor(self,mentor_list):\n",
    "        print(mentor_list)\n",
    "        self.mentor_class(['techtathee','priyanshu'])"
   ]
  },
  {
   "cell_type": "code",
   "execution_count": 44,
   "id": "ff03b3ae-5790-4679-bc70-a8255da8fc9e",
   "metadata": {},
   "outputs": [
    {
     "ename": "TypeError",
     "evalue": "student_detials() missing 1 required positional argument: 'number'",
     "output_type": "error",
     "traceback": [
      "\u001b[1;31m---------------------------------------------------------------------------\u001b[0m",
      "\u001b[1;31mTypeError\u001b[0m                                 Traceback (most recent call last)",
      "\u001b[1;32m~\\AppData\\Local\\Temp\\ipykernel_15912\\2310192277.py\u001b[0m in \u001b[0;36m<module>\u001b[1;34m\u001b[0m\n\u001b[1;32m----> 1\u001b[1;33m \u001b[0mpwskills3\u001b[0m\u001b[1;33m.\u001b[0m\u001b[0mstudent_detials\u001b[0m\u001b[1;33m(\u001b[0m\u001b[1;34m'techrathee'\u001b[0m\u001b[1;33m,\u001b[0m\u001b[1;34m'techrathee@gmail.com'\u001b[0m\u001b[1;33m,\u001b[0m\u001b[1;36m754852145\u001b[0m\u001b[1;33m)\u001b[0m\u001b[1;33m\u001b[0m\u001b[1;33m\u001b[0m\u001b[0m\n\u001b[0m",
      "\u001b[1;31mTypeError\u001b[0m: student_detials() missing 1 required positional argument: 'number'"
     ]
    }
   ],
   "source": [
    "pwskills3.student_detials('techrathee','techrathee@gmail.com',754852145)"
   ]
  },
  {
   "cell_type": "code",
   "execution_count": 27,
   "id": "3ceb0110-1088-4968-807e-7f5726c57594",
   "metadata": {},
   "outputs": [
    {
     "name": "stdout",
     "output_type": "stream",
     "text": [
      "tech\n"
     ]
    },
    {
     "ename": "NameError",
     "evalue": "name 'maild_id_mentor' is not defined",
     "output_type": "error",
     "traceback": [
      "\u001b[1;31m---------------------------------------------------------------------------\u001b[0m",
      "\u001b[1;31mNameError\u001b[0m                                 Traceback (most recent call last)",
      "\u001b[1;32m~\\AppData\\Local\\Temp\\ipykernel_15912\\1336113633.py\u001b[0m in \u001b[0;36m<module>\u001b[1;34m\u001b[0m\n\u001b[1;32m----> 1\u001b[1;33m \u001b[0mpw\u001b[0m\u001b[1;33m.\u001b[0m\u001b[0mmentor\u001b[0m\u001b[1;33m(\u001b[0m\u001b[1;34m'tech'\u001b[0m\u001b[1;33m)\u001b[0m\u001b[1;33m\u001b[0m\u001b[1;33m\u001b[0m\u001b[0m\n\u001b[0m",
      "\u001b[1;32m~\\AppData\\Local\\Temp\\ipykernel_15912\\3133004052.py\u001b[0m in \u001b[0;36mmentor\u001b[1;34m(self, mentor_list)\u001b[0m\n\u001b[0;32m     18\u001b[0m     \u001b[1;32mdef\u001b[0m \u001b[0mmentor\u001b[0m\u001b[1;33m(\u001b[0m\u001b[0mself\u001b[0m\u001b[1;33m,\u001b[0m\u001b[0mmentor_list\u001b[0m\u001b[1;33m)\u001b[0m\u001b[1;33m:\u001b[0m\u001b[1;33m\u001b[0m\u001b[1;33m\u001b[0m\u001b[0m\n\u001b[0;32m     19\u001b[0m         \u001b[0mprint\u001b[0m\u001b[1;33m(\u001b[0m\u001b[0mmentor_list\u001b[0m\u001b[1;33m)\u001b[0m\u001b[1;33m\u001b[0m\u001b[1;33m\u001b[0m\u001b[0m\n\u001b[1;32m---> 20\u001b[1;33m         \u001b[0mself\u001b[0m\u001b[1;33m.\u001b[0m\u001b[0mmentor_class\u001b[0m\u001b[1;33m(\u001b[0m\u001b[1;33m[\u001b[0m\u001b[1;34m'techtathee'\u001b[0m\u001b[1;33m,\u001b[0m\u001b[1;34m'priyanshu'\u001b[0m\u001b[1;33m]\u001b[0m\u001b[1;33m)\u001b[0m\u001b[1;33m\u001b[0m\u001b[1;33m\u001b[0m\u001b[0m\n\u001b[0m",
      "\u001b[1;32m~\\AppData\\Local\\Temp\\ipykernel_15912\\3133004052.py\u001b[0m in \u001b[0;36mmentor_class\u001b[1;34m(list_mentor)\u001b[0m\n\u001b[0;32m      8\u001b[0m     \u001b[1;33m@\u001b[0m\u001b[0mstaticmethod\u001b[0m\u001b[1;33m\u001b[0m\u001b[1;33m\u001b[0m\u001b[0m\n\u001b[0;32m      9\u001b[0m     \u001b[1;32mdef\u001b[0m \u001b[0mmentor_class\u001b[0m\u001b[1;33m(\u001b[0m\u001b[0mlist_mentor\u001b[0m\u001b[1;33m)\u001b[0m\u001b[1;33m:\u001b[0m\u001b[1;33m\u001b[0m\u001b[1;33m\u001b[0m\u001b[0m\n\u001b[1;32m---> 10\u001b[1;33m         \u001b[0mpwskills3\u001b[0m\u001b[1;33m.\u001b[0m\u001b[0mmentor_mail_id\u001b[0m\u001b[1;33m(\u001b[0m\u001b[1;33m[\u001b[0m\u001b[1;34m'priyasnshu@gmail.com'\u001b[0m\u001b[1;33m,\u001b[0m\u001b[1;34m\"techrathee@gmail.com\"\u001b[0m\u001b[1;33m]\u001b[0m\u001b[1;33m)\u001b[0m\u001b[1;33m\u001b[0m\u001b[1;33m\u001b[0m\u001b[0m\n\u001b[0m\u001b[0;32m     11\u001b[0m         \u001b[0mprint\u001b[0m\u001b[1;33m(\u001b[0m\u001b[0mlist_mentor\u001b[0m\u001b[1;33m)\u001b[0m\u001b[1;33m\u001b[0m\u001b[1;33m\u001b[0m\u001b[0m\n\u001b[0;32m     12\u001b[0m \u001b[1;33m\u001b[0m\u001b[0m\n",
      "\u001b[1;32m~\\AppData\\Local\\Temp\\ipykernel_15912\\3133004052.py\u001b[0m in \u001b[0;36mmentor_mail_id\u001b[1;34m(mail_id_mentor)\u001b[0m\n\u001b[0;32m      4\u001b[0m     \u001b[1;33m@\u001b[0m\u001b[0mstaticmethod\u001b[0m\u001b[1;33m\u001b[0m\u001b[1;33m\u001b[0m\u001b[0m\n\u001b[0;32m      5\u001b[0m     \u001b[1;32mdef\u001b[0m \u001b[0mmentor_mail_id\u001b[0m\u001b[1;33m(\u001b[0m\u001b[0mmail_id_mentor\u001b[0m\u001b[1;33m)\u001b[0m\u001b[1;33m:\u001b[0m\u001b[1;33m\u001b[0m\u001b[1;33m\u001b[0m\u001b[0m\n\u001b[1;32m----> 6\u001b[1;33m         \u001b[0mprint\u001b[0m\u001b[1;33m(\u001b[0m\u001b[0mmaild_id_mentor\u001b[0m\u001b[1;33m)\u001b[0m\u001b[1;33m\u001b[0m\u001b[1;33m\u001b[0m\u001b[0m\n\u001b[0m\u001b[0;32m      7\u001b[0m \u001b[1;33m\u001b[0m\u001b[0m\n\u001b[0;32m      8\u001b[0m     \u001b[1;33m@\u001b[0m\u001b[0mstaticmethod\u001b[0m\u001b[1;33m\u001b[0m\u001b[1;33m\u001b[0m\u001b[0m\n",
      "\u001b[1;31mNameError\u001b[0m: name 'maild_id_mentor' is not defined"
     ]
    }
   ],
   "source": [
    "pw.mentor('tech')"
   ]
  },
  {
   "cell_type": "code",
   "execution_count": 45,
   "id": "600e1af3-b7a9-4a4f-9a60-57efc6f0f7b5",
   "metadata": {},
   "outputs": [],
   "source": [
    "#special(magic dunder)methods"
   ]
  },
  {
   "cell_type": "code",
   "execution_count": 46,
   "id": "2f236c34-5dd9-43e4-908b-12b19a69a2cc",
   "metadata": {},
   "outputs": [
    {
     "data": {
      "text/plain": [
       "['__abs__',\n",
       " '__add__',\n",
       " '__and__',\n",
       " '__bool__',\n",
       " '__ceil__',\n",
       " '__class__',\n",
       " '__delattr__',\n",
       " '__dir__',\n",
       " '__divmod__',\n",
       " '__doc__',\n",
       " '__eq__',\n",
       " '__float__',\n",
       " '__floor__',\n",
       " '__floordiv__',\n",
       " '__format__',\n",
       " '__ge__',\n",
       " '__getattribute__',\n",
       " '__getnewargs__',\n",
       " '__gt__',\n",
       " '__hash__',\n",
       " '__index__',\n",
       " '__init__',\n",
       " '__init_subclass__',\n",
       " '__int__',\n",
       " '__invert__',\n",
       " '__le__',\n",
       " '__lshift__',\n",
       " '__lt__',\n",
       " '__mod__',\n",
       " '__mul__',\n",
       " '__ne__',\n",
       " '__neg__',\n",
       " '__new__',\n",
       " '__or__',\n",
       " '__pos__',\n",
       " '__pow__',\n",
       " '__radd__',\n",
       " '__rand__',\n",
       " '__rdivmod__',\n",
       " '__reduce__',\n",
       " '__reduce_ex__',\n",
       " '__repr__',\n",
       " '__rfloordiv__',\n",
       " '__rlshift__',\n",
       " '__rmod__',\n",
       " '__rmul__',\n",
       " '__ror__',\n",
       " '__round__',\n",
       " '__rpow__',\n",
       " '__rrshift__',\n",
       " '__rshift__',\n",
       " '__rsub__',\n",
       " '__rtruediv__',\n",
       " '__rxor__',\n",
       " '__setattr__',\n",
       " '__sizeof__',\n",
       " '__str__',\n",
       " '__sub__',\n",
       " '__subclasshook__',\n",
       " '__truediv__',\n",
       " '__trunc__',\n",
       " '__xor__',\n",
       " 'as_integer_ratio',\n",
       " 'bit_length',\n",
       " 'conjugate',\n",
       " 'denominator',\n",
       " 'from_bytes',\n",
       " 'imag',\n",
       " 'numerator',\n",
       " 'real',\n",
       " 'to_bytes']"
      ]
     },
     "execution_count": 46,
     "metadata": {},
     "output_type": "execute_result"
    }
   ],
   "source": [
    "dir(int)"
   ]
  },
  {
   "cell_type": "code",
   "execution_count": 47,
   "id": "03d1f17c-f078-4092-8e68-644603582162",
   "metadata": {},
   "outputs": [
    {
     "data": {
      "text/plain": [
       "['__add__',\n",
       " '__class__',\n",
       " '__contains__',\n",
       " '__delattr__',\n",
       " '__dir__',\n",
       " '__doc__',\n",
       " '__eq__',\n",
       " '__format__',\n",
       " '__ge__',\n",
       " '__getattribute__',\n",
       " '__getitem__',\n",
       " '__getnewargs__',\n",
       " '__gt__',\n",
       " '__hash__',\n",
       " '__init__',\n",
       " '__init_subclass__',\n",
       " '__iter__',\n",
       " '__le__',\n",
       " '__len__',\n",
       " '__lt__',\n",
       " '__mod__',\n",
       " '__mul__',\n",
       " '__ne__',\n",
       " '__new__',\n",
       " '__reduce__',\n",
       " '__reduce_ex__',\n",
       " '__repr__',\n",
       " '__rmod__',\n",
       " '__rmul__',\n",
       " '__setattr__',\n",
       " '__sizeof__',\n",
       " '__str__',\n",
       " '__subclasshook__',\n",
       " 'capitalize',\n",
       " 'casefold',\n",
       " 'center',\n",
       " 'count',\n",
       " 'encode',\n",
       " 'endswith',\n",
       " 'expandtabs',\n",
       " 'find',\n",
       " 'format',\n",
       " 'format_map',\n",
       " 'index',\n",
       " 'isalnum',\n",
       " 'isalpha',\n",
       " 'isascii',\n",
       " 'isdecimal',\n",
       " 'isdigit',\n",
       " 'isidentifier',\n",
       " 'islower',\n",
       " 'isnumeric',\n",
       " 'isprintable',\n",
       " 'isspace',\n",
       " 'istitle',\n",
       " 'isupper',\n",
       " 'join',\n",
       " 'ljust',\n",
       " 'lower',\n",
       " 'lstrip',\n",
       " 'maketrans',\n",
       " 'partition',\n",
       " 'removeprefix',\n",
       " 'removesuffix',\n",
       " 'replace',\n",
       " 'rfind',\n",
       " 'rindex',\n",
       " 'rjust',\n",
       " 'rpartition',\n",
       " 'rsplit',\n",
       " 'rstrip',\n",
       " 'split',\n",
       " 'splitlines',\n",
       " 'startswith',\n",
       " 'strip',\n",
       " 'swapcase',\n",
       " 'title',\n",
       " 'translate',\n",
       " 'upper',\n",
       " 'zfill']"
      ]
     },
     "execution_count": 47,
     "metadata": {},
     "output_type": "execute_result"
    }
   ],
   "source": [
    "dir(str)"
   ]
  },
  {
   "cell_type": "code",
   "execution_count": 48,
   "id": "4ec2bfa2-67f8-4f42-9ea6-62e037633420",
   "metadata": {},
   "outputs": [],
   "source": [
    "a=1000"
   ]
  },
  {
   "cell_type": "code",
   "execution_count": 49,
   "id": "9b8906ae-4063-4f45-a6ef-0e7f441be919",
   "metadata": {},
   "outputs": [
    {
     "data": {
      "text/plain": [
       "1005"
      ]
     },
     "execution_count": 49,
     "metadata": {},
     "output_type": "execute_result"
    }
   ],
   "source": [
    "a.__add__(5)"
   ]
  },
  {
   "cell_type": "code",
   "execution_count": 53,
   "id": "dfb58220-2fe0-419c-b3e5-49be405ed751",
   "metadata": {},
   "outputs": [],
   "source": [
    "class techrathee:\n",
    "    def __new__(cls):\n",
    "        print('this is new')\n",
    "        \n",
    "    def __init__(self):\n",
    "        print('tihs is my init')\n",
    "        \n",
    "        \n",
    "        self.mobile_number = 5436.5454\n",
    "    "
   ]
  },
  {
   "cell_type": "code",
   "execution_count": 54,
   "id": "a4a0e58a-916b-4cef-9117-021dc126abfc",
   "metadata": {},
   "outputs": [
    {
     "name": "stdout",
     "output_type": "stream",
     "text": [
      "this is new\n"
     ]
    }
   ],
   "source": [
    "pw = techrathee()"
   ]
  },
  {
   "cell_type": "code",
   "execution_count": 63,
   "id": "7f93a62a-6d75-4550-83b5-4a0dd7ef685a",
   "metadata": {},
   "outputs": [],
   "source": [
    "class tech:\n",
    "    def __init__(self):\n",
    "        \n",
    "        self.mobile_number = 456876897\n",
    "        \n",
    "    def __str__(self):\n",
    "        return \"this is my techrathee\""
   ]
  },
  {
   "cell_type": "code",
   "execution_count": 64,
   "id": "6db7964a-ccd6-4971-9ae6-fc89879615f5",
   "metadata": {},
   "outputs": [],
   "source": [
    "tc = tech()"
   ]
  },
  {
   "cell_type": "code",
   "execution_count": 65,
   "id": "5ef972f2-499a-49b4-97b8-d0b184882652",
   "metadata": {},
   "outputs": [
    {
     "name": "stdout",
     "output_type": "stream",
     "text": [
      "this is my techrathee\n"
     ]
    }
   ],
   "source": [
    "print(tc)"
   ]
  },
  {
   "cell_type": "code",
   "execution_count": 66,
   "id": "4c6e2081-1d4b-41c0-8476-c7c232c7dc9d",
   "metadata": {},
   "outputs": [],
   "source": [
    "#Property Decorators"
   ]
  },
  {
   "cell_type": "code",
   "execution_count": 80,
   "id": "5cbd83ad-8450-4612-8467-b1723a14c5b5",
   "metadata": {},
   "outputs": [],
   "source": [
    "class pw:\n",
    "    def __init__ (self,course_price , course_name):\n",
    "        self.__course_price = course_price\n",
    "        self.__course_name = course_name\n",
    "        \n",
    "    @property\n",
    "    def course_price_access(self):\n",
    "        return self.__course_price\n",
    "    \n",
    "    @course_price_access.setter\n",
    "    def course_price_set(self,price):\n",
    "        if price <= 3500:\n",
    "            pass\n",
    "        \n",
    "        else:\n",
    "            self.__course_price = price\n",
    "            \n",
    "    @course_price_access.deleter\n",
    "    def delete_couse_price(self):\n",
    "        del self.__couse_price"
   ]
  },
  {
   "cell_type": "code",
   "execution_count": 81,
   "id": "471eb5c4-25b5-4e1f-8596-ecd859f8f47d",
   "metadata": {},
   "outputs": [],
   "source": [
    "pw1 = pw(3500 , 'data sciece master')"
   ]
  },
  {
   "cell_type": "code",
   "execution_count": 82,
   "id": "8137c11f-f7be-4908-a660-beb2ec3ffb6b",
   "metadata": {},
   "outputs": [
    {
     "data": {
      "text/plain": [
       "3500"
      ]
     },
     "execution_count": 82,
     "metadata": {},
     "output_type": "execute_result"
    }
   ],
   "source": [
    "pw1.course_price_access"
   ]
  },
  {
   "cell_type": "code",
   "execution_count": 83,
   "id": "c011f1fc-616b-4c10-8896-2281a6712c3a",
   "metadata": {},
   "outputs": [],
   "source": [
    "pw1.course_price_set = 55500"
   ]
  },
  {
   "cell_type": "code",
   "execution_count": 84,
   "id": "468c01d1-4554-4980-b72d-519139f63662",
   "metadata": {},
   "outputs": [
    {
     "data": {
      "text/plain": [
       "55500"
      ]
     },
     "execution_count": 84,
     "metadata": {},
     "output_type": "execute_result"
    }
   ],
   "source": [
    "pw1.course_price_access"
   ]
  },
  {
   "cell_type": "code",
   "execution_count": 87,
   "id": "5ce2681b-f97b-47ca-b293-ffe942c87ac8",
   "metadata": {},
   "outputs": [],
   "source": [
    "del pw.delete_couse_price"
   ]
  },
  {
   "cell_type": "code",
   "execution_count": 90,
   "id": "8ba2f80b-97f2-4e04-aeb0-62549f3b9b99",
   "metadata": {},
   "outputs": [
    {
     "data": {
      "text/plain": [
       "<property at 0x20c34a46360>"
      ]
     },
     "execution_count": 90,
     "metadata": {},
     "output_type": "execute_result"
    }
   ],
   "source": [
    "pw.course_price_access"
   ]
  },
  {
   "cell_type": "code",
   "execution_count": 91,
   "id": "c37f8874-7c1d-4137-bd7b-3fb5eb13bf4c",
   "metadata": {},
   "outputs": [],
   "source": [
    "pw.course_price_set =2500"
   ]
  },
  {
   "cell_type": "code",
   "execution_count": 92,
   "id": "72358a18-2080-45e9-8ade-e11878f6fa39",
   "metadata": {},
   "outputs": [
    {
     "data": {
      "text/plain": [
       "<property at 0x20c34a46360>"
      ]
     },
     "execution_count": 92,
     "metadata": {},
     "output_type": "execute_result"
    }
   ],
   "source": [
    "pw.course_price_access"
   ]
  },
  {
   "cell_type": "code",
   "execution_count": 93,
   "id": "90faf28d-3c4f-4d51-ab54-a7859afe3efe",
   "metadata": {},
   "outputs": [],
   "source": [
    "pw.course_price_access=8888"
   ]
  },
  {
   "cell_type": "code",
   "execution_count": 94,
   "id": "bab41533-8a3e-4462-a2f8-b2c39b2155d6",
   "metadata": {},
   "outputs": [
    {
     "data": {
      "text/plain": [
       "8888"
      ]
     },
     "execution_count": 94,
     "metadata": {},
     "output_type": "execute_result"
    }
   ],
   "source": [
    "pw.course_price_access"
   ]
  },
  {
   "cell_type": "code",
   "execution_count": 1,
   "id": "27805995-7555-41ac-9bc3-8736434e34dc",
   "metadata": {},
   "outputs": [],
   "source": [
    "#Working with files"
   ]
  },
  {
   "cell_type": "code",
   "execution_count": 7,
   "id": "ed7e5bf8-cc34-4797-b237-59f802e69937",
   "metadata": {},
   "outputs": [],
   "source": [
    "f = open(\"text.txt\",\"w\")"
   ]
  },
  {
   "cell_type": "code",
   "execution_count": 4,
   "id": "f64668ed-dd78-4196-84b8-2c9f7d2699eb",
   "metadata": {},
   "outputs": [
    {
     "data": {
      "text/plain": [
       "'C:\\\\Users\\\\techr\\\\Untitled Folder'"
      ]
     },
     "execution_count": 4,
     "metadata": {},
     "output_type": "execute_result"
    }
   ],
   "source": [
    "pwd"
   ]
  },
  {
   "cell_type": "code",
   "execution_count": 5,
   "id": "fd3bdc71-c4e8-449a-a9d9-484f2ab5efb9",
   "metadata": {},
   "outputs": [
    {
     "name": "stdout",
     "output_type": "stream",
     "text": [
      " Volume in drive C is Windows\n",
      " Volume Serial Number is EE53-B585\n",
      "\n",
      " Directory of C:\\Users\\techr\\Untitled Folder\n",
      "\n",
      "27-03-2023  03:56 PM            10,298  Python Task 1.ipynb\n",
      "29-03-2023  07:19 PM             7,366  Python Task 2.ipynb\n",
      "08-05-2023  12:07 PM    <DIR>          .\n",
      "06-05-2023  06:48 PM    <DIR>          ..\n",
      "24-04-2023  09:58 AM    <DIR>          .ipynb_checkpoints\n",
      "30-03-2023  12:16 PM            14,354 Assessment 09 feb.ipynb\n",
      "25-03-2023  09:27 PM            22,929 Assessment 29jan.ipynb\n",
      "27-03-2023  02:00 PM            11,711 Assessment 30jan.ipynb\n",
      "22-03-2023  09:49 AM            10,232 Assignment 02 feb.ipynb\n",
      "22-03-2023  09:49 AM            15,614 Assignment 03 feb.ipynb\n",
      "25-03-2023  01:46 PM             7,417 Assignment 04 feb.ipynb\n",
      "25-03-2023  02:45 PM            13,120 Assignment 05feb.ipynb\n",
      "30-03-2023  11:31 AM            17,691 Assignment 08feb.ipynb\n",
      "22-04-2023  10:38 AM             2,246 bank projects.ipynb\n",
      "31-03-2023  06:18 PM            91,599 PW Python Basic.ipynb\n",
      "08-05-2023  12:07 PM           141,143 python 22apr2023.ipynb\n",
      "22-04-2023  10:56 AM           193,737 self-python.ipynb\n",
      "08-05-2023  12:07 PM                 0 text.txt\n",
      "              15 File(s)        559,457 bytes\n",
      "               3 Dir(s)  231,903,834,112 bytes free\n"
     ]
    }
   ],
   "source": [
    "ls"
   ]
  },
  {
   "cell_type": "code",
   "execution_count": 6,
   "id": "a0bd1ba0-2382-4592-9918-1f341771076c",
   "metadata": {},
   "outputs": [
    {
     "name": "stdout",
     "output_type": "stream",
     "text": [
      "[WinError 2] The system cannot find the file specified: 'work'\n",
      "C:\\Users\\techr\\Untitled Folder\n"
     ]
    }
   ],
   "source": [
    "cd work"
   ]
  },
  {
   "cell_type": "code",
   "execution_count": 8,
   "id": "2945dd26-2d79-4f3e-b568-98e373858339",
   "metadata": {},
   "outputs": [
    {
     "data": {
      "text/plain": [
       "25"
      ]
     },
     "execution_count": 8,
     "metadata": {},
     "output_type": "execute_result"
    }
   ],
   "source": [
    "f.write(\"this is my first to write\")"
   ]
  },
  {
   "cell_type": "code",
   "execution_count": 9,
   "id": "6798b7d2-99d7-4e12-a78b-d11f82ea168c",
   "metadata": {},
   "outputs": [],
   "source": [
    "f.close()"
   ]
  },
  {
   "cell_type": "code",
   "execution_count": 10,
   "id": "b3b0d395-c7ae-4f63-9dee-95e23568e4c9",
   "metadata": {},
   "outputs": [],
   "source": [
    "f = open(\"text.txt\",\"w\")"
   ]
  },
  {
   "cell_type": "code",
   "execution_count": 11,
   "id": "d8bb80f7-dcf1-4938-bc47-16ec42318b91",
   "metadata": {},
   "outputs": [
    {
     "data": {
      "text/plain": [
       "13"
      ]
     },
     "execution_count": 11,
     "metadata": {},
     "output_type": "execute_result"
    }
   ],
   "source": [
    "f.write(\"this is files\")"
   ]
  },
  {
   "cell_type": "code",
   "execution_count": 13,
   "id": "e7457b65-1b1f-49ec-9316-dd157de6a3a0",
   "metadata": {},
   "outputs": [],
   "source": [
    "f.close()"
   ]
  },
  {
   "cell_type": "code",
   "execution_count": 17,
   "id": "9097f563-168a-458a-992e-c91855a65346",
   "metadata": {},
   "outputs": [],
   "source": [
    "f = open(\"test.txt\",'a')"
   ]
  },
  {
   "cell_type": "code",
   "execution_count": 19,
   "id": "d221e6ab-933e-40ba-bd7f-95d55f6e3d16",
   "metadata": {},
   "outputs": [
    {
     "data": {
      "text/plain": [
       "16"
      ]
     },
     "execution_count": 19,
     "metadata": {},
     "output_type": "execute_result"
    }
   ],
   "source": [
    "f.write(\"this is iswewewe\")"
   ]
  },
  {
   "cell_type": "code",
   "execution_count": 33,
   "id": "7c7beadb-3842-49a3-8525-fbab3c388c95",
   "metadata": {},
   "outputs": [],
   "source": [
    "f.close()"
   ]
  },
  {
   "cell_type": "code",
   "execution_count": 28,
   "id": "15d122dc-d445-4605-a525-af7103dd51e3",
   "metadata": {},
   "outputs": [],
   "source": [
    "f = open (\"test.txt\",'r')"
   ]
  },
  {
   "cell_type": "code",
   "execution_count": 29,
   "id": "0b31dd52-55d2-4b0f-bfc6-0dfc28f72ac2",
   "metadata": {},
   "outputs": [
    {
     "data": {
      "text/plain": [
       "'this is iswewewe'"
      ]
     },
     "execution_count": 29,
     "metadata": {},
     "output_type": "execute_result"
    }
   ],
   "source": [
    "f.read()"
   ]
  },
  {
   "cell_type": "code",
   "execution_count": 1,
   "id": "23d4e6fc-779a-4233-8b12-baac1fcfab1d",
   "metadata": {},
   "outputs": [],
   "source": [
    "import os"
   ]
  },
  {
   "cell_type": "code",
   "execution_count": 31,
   "id": "77570523-e431-4355-bd49-477843412ae3",
   "metadata": {},
   "outputs": [
    {
     "data": {
      "text/plain": [
       "16"
      ]
     },
     "execution_count": 31,
     "metadata": {},
     "output_type": "execute_result"
    }
   ],
   "source": [
    "os.path.getsize(\"test.txt\")"
   ]
  },
  {
   "cell_type": "code",
   "execution_count": 37,
   "id": "3e224070-7711-49a2-a5c7-8897268e759d",
   "metadata": {},
   "outputs": [],
   "source": [
    "os.remove(\"test1.img\")"
   ]
  },
  {
   "cell_type": "code",
   "execution_count": 2,
   "id": "0e6e2d9a-13e0-43ca-b5aa-1176aae4e702",
   "metadata": {},
   "outputs": [],
   "source": [
    "t = open(\"test1.txt\",'w')"
   ]
  },
  {
   "cell_type": "code",
   "execution_count": 3,
   "id": "e451afdf-86a5-452b-8536-007b9251294a",
   "metadata": {},
   "outputs": [
    {
     "data": {
      "text/plain": [
       "339"
      ]
     },
     "execution_count": 3,
     "metadata": {},
     "output_type": "execute_result"
    }
   ],
   "source": [
    "t.write(\"What is file in Python with example? A file is some information or data which stays in the computer storage devices. You already know about different kinds of file , like your music files, video files, text files. Python gives you easy ways to manipulate these files. Generally we divide files in two categories, text file and binary file.\")"
   ]
  },
  {
   "cell_type": "code",
   "execution_count": 4,
   "id": "67411e02-e147-4f26-8abc-c56d4683e3b9",
   "metadata": {},
   "outputs": [],
   "source": [
    "t.close()"
   ]
  },
  {
   "cell_type": "code",
   "execution_count": 5,
   "id": "a81fd56f-c53c-4ff8-853f-d4ea96e324e2",
   "metadata": {},
   "outputs": [
    {
     "name": "stdout",
     "output_type": "stream",
     "text": [
      " Volume in drive C is Windows\n",
      " Volume Serial Number is EE53-B585\n",
      "\n",
      " Directory of C:\\Users\\techr\\Untitled Folder\n",
      "\n",
      "27-03-2023  03:56 PM            10,298  Python Task 1.ipynb\n",
      "29-03-2023  07:19 PM             7,366  Python Task 2.ipynb\n",
      "08-05-2023  01:42 PM    <DIR>          .\n",
      "06-05-2023  06:48 PM    <DIR>          ..\n",
      "08-05-2023  12:37 PM    <DIR>          .ipynb_checkpoints\n",
      "30-03-2023  12:16 PM            14,354 Assessment 09 feb.ipynb\n",
      "25-03-2023  09:27 PM            22,929 Assessment 29jan.ipynb\n",
      "27-03-2023  02:00 PM            11,711 Assessment 30jan.ipynb\n",
      "22-03-2023  09:49 AM            10,232 Assignment 02 feb.ipynb\n",
      "22-03-2023  09:49 AM            15,614 Assignment 03 feb.ipynb\n",
      "25-03-2023  01:46 PM             7,417 Assignment 04 feb.ipynb\n",
      "25-03-2023  02:45 PM            13,120 Assignment 05feb.ipynb\n",
      "30-03-2023  11:31 AM            17,691 Assignment 08feb.ipynb\n",
      "22-04-2023  10:38 AM             2,246 bank projects.ipynb\n",
      "31-03-2023  06:18 PM            91,599 PW Python Basic.ipynb\n",
      "08-05-2023  01:42 PM           148,620 python 22apr2023.ipynb\n",
      "22-04-2023  10:56 AM           193,737 self-python.ipynb\n",
      "08-05-2023  12:36 PM                 3 test1.img\n",
      "08-05-2023  01:41 PM               339 test1.txt\n",
      "              16 File(s)        567,276 bytes\n",
      "               3 Dir(s)  231,279,104,000 bytes free\n"
     ]
    }
   ],
   "source": [
    "ls"
   ]
  },
  {
   "cell_type": "code",
   "execution_count": 4,
   "id": "0d234858-23af-414b-a8bc-e62d9a9da28a",
   "metadata": {},
   "outputs": [],
   "source": [
    "f = open(\"priyanshu\",'w')"
   ]
  },
  {
   "cell_type": "code",
   "execution_count": 5,
   "id": "4a417683-187a-4abc-838a-2f4901bf454e",
   "metadata": {},
   "outputs": [
    {
     "data": {
      "text/plain": [
       "23"
      ]
     },
     "execution_count": 5,
     "metadata": {},
     "output_type": "execute_result"
    }
   ],
   "source": [
    "f.write(\"this is my first files \")"
   ]
  },
  {
   "cell_type": "code",
   "execution_count": 6,
   "id": "6c27e3be-6069-4a8d-831f-93204f101a40",
   "metadata": {},
   "outputs": [],
   "source": [
    "f.close ()"
   ]
  },
  {
   "cell_type": "code",
   "execution_count": 8,
   "id": "87312d02-d131-431f-ac26-963f49cb8ac7",
   "metadata": {},
   "outputs": [
    {
     "data": {
      "text/plain": [
       "'C:\\\\Users\\\\techr\\\\Untitled Folder'"
      ]
     },
     "execution_count": 8,
     "metadata": {},
     "output_type": "execute_result"
    }
   ],
   "source": [
    "pwd"
   ]
  },
  {
   "cell_type": "code",
   "execution_count": 9,
   "id": "16a43e3f-d80e-4acd-aa02-2ab9eb83999a",
   "metadata": {},
   "outputs": [
    {
     "name": "stdout",
     "output_type": "stream",
     "text": [
      " Volume in drive C is Windows\n",
      " Volume Serial Number is EE53-B585\n",
      "\n",
      " Directory of C:\\Users\\techr\\Untitled Folder\n",
      "\n",
      "27-03-2023  03:56 PM            10,298  Python Task 1.ipynb\n",
      "29-03-2023  07:19 PM             7,366  Python Task 2.ipynb\n",
      "09-05-2023  11:08 AM    <DIR>          .\n",
      "09-05-2023  10:06 AM    <DIR>          ..\n",
      "09-05-2023  11:08 AM    <DIR>          .ipynb_checkpoints\n",
      "30-03-2023  12:16 PM            14,354 Assessment 09 feb.ipynb\n",
      "25-03-2023  09:27 PM            22,929 Assessment 29jan.ipynb\n",
      "27-03-2023  02:00 PM            11,711 Assessment 30jan.ipynb\n",
      "22-03-2023  09:49 AM            10,232 Assignment 02 feb.ipynb\n",
      "22-03-2023  09:49 AM            15,614 Assignment 03 feb.ipynb\n",
      "25-03-2023  01:46 PM             7,417 Assignment 04 feb.ipynb\n",
      "25-03-2023  02:45 PM            13,120 Assignment 05feb.ipynb\n",
      "30-03-2023  11:31 AM            17,691 Assignment 08feb.ipynb\n",
      "22-04-2023  10:38 AM             2,246 bank projects.ipynb\n",
      "09-05-2023  11:07 AM                23 priyanshu\n",
      "31-03-2023  06:18 PM            91,599 PW Python Basic.ipynb\n",
      "09-05-2023  11:08 AM           150,579 python 22apr2023.ipynb\n",
      "22-04-2023  10:56 AM           193,737 self-python.ipynb\n",
      "              15 File(s)        568,916 bytes\n",
      "               3 Dir(s)  231,263,232,000 bytes free\n"
     ]
    }
   ],
   "source": [
    "ls"
   ]
  },
  {
   "cell_type": "code",
   "execution_count": 10,
   "id": "23e74d11-69cb-41cf-8021-e6819aba4728",
   "metadata": {},
   "outputs": [],
   "source": [
    "f = open(\"priyanshu\",'w')"
   ]
  },
  {
   "cell_type": "code",
   "execution_count": 11,
   "id": "31e49967-5e43-43e5-b42b-fe44f637abd7",
   "metadata": {},
   "outputs": [
    {
     "data": {
      "text/plain": [
       "20"
      ]
     },
     "execution_count": 11,
     "metadata": {},
     "output_type": "execute_result"
    }
   ],
   "source": [
    "f.write(\"this is second files\")"
   ]
  },
  {
   "cell_type": "code",
   "execution_count": 12,
   "id": "2de93e6d-4e21-415b-9c9d-862c585cafcf",
   "metadata": {},
   "outputs": [],
   "source": [
    "f.close()"
   ]
  },
  {
   "cell_type": "code",
   "execution_count": 13,
   "id": "dec035fe-3e41-4b39-97a2-8af0d3863119",
   "metadata": {},
   "outputs": [],
   "source": [
    "f = open(\"priyanshu\",'a')"
   ]
  },
  {
   "cell_type": "code",
   "execution_count": 14,
   "id": "85493a4d-2208-44cb-bb6d-beed4d64981b",
   "metadata": {},
   "outputs": [
    {
     "data": {
      "text/plain": [
       "22"
      ]
     },
     "execution_count": 14,
     "metadata": {},
     "output_type": "execute_result"
    }
   ],
   "source": [
    "f.write(\"this is my third files\")"
   ]
  },
  {
   "cell_type": "code",
   "execution_count": 15,
   "id": "0bd3927b-cf52-4993-ab9f-8d2e50c5570c",
   "metadata": {},
   "outputs": [],
   "source": [
    "f.close()"
   ]
  },
  {
   "cell_type": "code",
   "execution_count": 17,
   "id": "7a283f53-5de6-4cdc-89d3-0665f94b2a9d",
   "metadata": {},
   "outputs": [],
   "source": [
    "f = open(\"priyanshu\",'r')"
   ]
  },
  {
   "cell_type": "code",
   "execution_count": 18,
   "id": "504c7157-46a5-45ba-b740-5e2b6c64c705",
   "metadata": {},
   "outputs": [
    {
     "data": {
      "text/plain": [
       "'this is second filesthis is my third files'"
      ]
     },
     "execution_count": 18,
     "metadata": {},
     "output_type": "execute_result"
    }
   ],
   "source": [
    "f.read()"
   ]
  },
  {
   "cell_type": "code",
   "execution_count": 20,
   "id": "7bf187fb-15c9-4bd1-b993-460a5d0a051b",
   "metadata": {},
   "outputs": [
    {
     "data": {
      "text/plain": [
       "''"
      ]
     },
     "execution_count": 20,
     "metadata": {},
     "output_type": "execute_result"
    }
   ],
   "source": [
    "f.readline()"
   ]
  },
  {
   "cell_type": "code",
   "execution_count": 21,
   "id": "a6662efc-b9f3-4f59-8fb2-50e0ca4836b5",
   "metadata": {},
   "outputs": [
    {
     "data": {
      "text/plain": [
       "0"
      ]
     },
     "execution_count": 21,
     "metadata": {},
     "output_type": "execute_result"
    }
   ],
   "source": [
    "f.seek(0)"
   ]
  },
  {
   "cell_type": "code",
   "execution_count": 22,
   "id": "9af53eb1-e5d9-4e5a-ba83-4f67bb49e16e",
   "metadata": {},
   "outputs": [
    {
     "data": {
      "text/plain": [
       "'this is second filesthis is my third files'"
      ]
     },
     "execution_count": 22,
     "metadata": {},
     "output_type": "execute_result"
    }
   ],
   "source": [
    "f.readline()"
   ]
  },
  {
   "cell_type": "code",
   "execution_count": 23,
   "id": "d95cecf4-3a20-4e41-8d10-3328eaf751b4",
   "metadata": {},
   "outputs": [
    {
     "data": {
      "text/plain": [
       "''"
      ]
     },
     "execution_count": 23,
     "metadata": {},
     "output_type": "execute_result"
    }
   ],
   "source": [
    "f.readline()"
   ]
  },
  {
   "cell_type": "code",
   "execution_count": 24,
   "id": "db99aa1a-6ab3-499e-97ff-3d5a9e6e5697",
   "metadata": {},
   "outputs": [
    {
     "data": {
      "text/plain": [
       "5"
      ]
     },
     "execution_count": 24,
     "metadata": {},
     "output_type": "execute_result"
    }
   ],
   "source": [
    "f.seek(5)"
   ]
  },
  {
   "cell_type": "code",
   "execution_count": 25,
   "id": "936efea5-05bb-4c92-9d39-4527210fed9d",
   "metadata": {},
   "outputs": [
    {
     "data": {
      "text/plain": [
       "'is second filesthis is my third files'"
      ]
     },
     "execution_count": 25,
     "metadata": {},
     "output_type": "execute_result"
    }
   ],
   "source": [
    "f.readline()"
   ]
  },
  {
   "cell_type": "code",
   "execution_count": 26,
   "id": "b93674e1-6bd1-43d8-b79d-faa7a5ba7023",
   "metadata": {},
   "outputs": [],
   "source": [
    "f1 = open(\"priyanshu\",'r')"
   ]
  },
  {
   "cell_type": "code",
   "execution_count": 27,
   "id": "8240a797-52d4-4a72-bd52-13395c0899ab",
   "metadata": {},
   "outputs": [
    {
     "name": "stdout",
     "output_type": "stream",
     "text": [
      "this is second filesthis is my third files\n"
     ]
    }
   ],
   "source": [
    "for i in f1:\n",
    "    print(i)"
   ]
  },
  {
   "cell_type": "code",
   "execution_count": 28,
   "id": "2972d31b-adcd-4bb6-a257-b94e7e3b0229",
   "metadata": {},
   "outputs": [],
   "source": [
    "import os "
   ]
  },
  {
   "cell_type": "code",
   "execution_count": 30,
   "id": "a551eede-0830-4c8a-94cb-ef8a0614ed61",
   "metadata": {},
   "outputs": [
    {
     "data": {
      "text/plain": [
       "42"
      ]
     },
     "execution_count": 30,
     "metadata": {},
     "output_type": "execute_result"
    }
   ],
   "source": [
    "os.path.getsize(\"priyanshu\")"
   ]
  },
  {
   "cell_type": "code",
   "execution_count": 35,
   "id": "87d35aa5-6975-4a4e-a9d4-ead968e6ec4b",
   "metadata": {},
   "outputs": [],
   "source": [
    "f1.close()"
   ]
  },
  {
   "cell_type": "code",
   "execution_count": 36,
   "id": "7aebcb4e-b325-449d-8974-6568fd5dfd61",
   "metadata": {},
   "outputs": [],
   "source": [
    "os.remove(\"priyanshu\")"
   ]
  },
  {
   "cell_type": "code",
   "execution_count": 38,
   "id": "5ab347e8-f6e3-44b9-93e5-7a2de4326ab2",
   "metadata": {},
   "outputs": [],
   "source": [
    "p = open(\"priyanshu1\",'w')"
   ]
  },
  {
   "cell_type": "code",
   "execution_count": 49,
   "id": "ba912319-e071-4f73-84cf-9d40edc84e8c",
   "metadata": {},
   "outputs": [],
   "source": [
    "p.close()"
   ]
  },
  {
   "cell_type": "code",
   "execution_count": 51,
   "id": "b562f34b-2005-464f-a830-f5dfa2022017",
   "metadata": {},
   "outputs": [],
   "source": [
    "os.rename(\"priyanshu12.txt\",\"priyanshu.txt\")"
   ]
  },
  {
   "cell_type": "code",
   "execution_count": 52,
   "id": "91ad6fca-5a61-4e5b-b5e3-e11e77a86edc",
   "metadata": {},
   "outputs": [],
   "source": [
    "import shutil"
   ]
  },
  {
   "cell_type": "code",
   "execution_count": 53,
   "id": "30de29d8-715b-45e9-ac9e-5608c1ca23c4",
   "metadata": {},
   "outputs": [
    {
     "data": {
      "text/plain": [
       "'cope_priyanshu.txt'"
      ]
     },
     "execution_count": 53,
     "metadata": {},
     "output_type": "execute_result"
    }
   ],
   "source": [
    "shutil.copy(\"priyanshu.txt\",\"cope_priyanshu.txt\")"
   ]
  },
  {
   "cell_type": "code",
   "execution_count": 58,
   "id": "f1070fe3-8e75-4109-b957-766401bbf69e",
   "metadata": {},
   "outputs": [],
   "source": [
    "f = open(\"priyanshu.txt\",'w')"
   ]
  },
  {
   "cell_type": "code",
   "execution_count": 59,
   "id": "125951bc-51b2-40aa-982b-113ad3e732d7",
   "metadata": {},
   "outputs": [
    {
     "data": {
      "text/plain": [
       "317"
      ]
     },
     "execution_count": 59,
     "metadata": {},
     "output_type": "execute_result"
    }
   ],
   "source": [
    "f.write(\"A paragraph is defined as “a group of sentences or a single sentence that forms a unit” (Lunsford and Connors 116). Length and appearance do not determine whether a section in a paper is a paragraph. For instance, in some styles of writing, particularly journalistic styles, a paragraph can be just one sentence long.\")"
   ]
  },
  {
   "cell_type": "code",
   "execution_count": 60,
   "id": "6a03c820-ec4c-4714-928c-469b27c05dfb",
   "metadata": {},
   "outputs": [],
   "source": [
    "f.close()"
   ]
  },
  {
   "cell_type": "code",
   "execution_count": 61,
   "id": "9cf97853-9a59-4fc3-a4ca-944db1774bb0",
   "metadata": {},
   "outputs": [
    {
     "name": "stdout",
     "output_type": "stream",
     "text": [
      "A paragraph is defined as “a group of sentences or a single sentence that forms a unit” (Lunsford and Connors 116). Length and appearance do not determine whether a section in a paper is a paragraph. For instance, in some styles of writing, particularly journalistic styles, a paragraph can be just one sentence long.\n"
     ]
    }
   ],
   "source": [
    "with open(\"priyanshu.txt\",'r') as f:\n",
    "    print(f.read())"
   ]
  },
  {
   "cell_type": "code",
   "execution_count": 62,
   "id": "9129c9d8-e0fb-47be-b8da-9e775fbf2d6b",
   "metadata": {},
   "outputs": [],
   "source": [
    "#reading and writing files"
   ]
  },
  {
   "cell_type": "code",
   "execution_count": 64,
   "id": "04e0feea-e5a2-4008-840a-b4c1ebfdf5b5",
   "metadata": {},
   "outputs": [],
   "source": [
    "data= {\"name\":\"priynashu\",\n",
    "       \"mail_id\": \"priynashu@gmail.com\",\n",
    "       \"phone_number\": 789646787,\n",
    "    \"subject\":[\"data science\",\"big data\",\"data analytic\"]}"
   ]
  },
  {
   "cell_type": "code",
   "execution_count": 65,
   "id": "e7eb5744-a090-4758-9a2b-95d55439cfd3",
   "metadata": {},
   "outputs": [],
   "source": [
    "import json"
   ]
  },
  {
   "cell_type": "code",
   "execution_count": 66,
   "id": "c89f5cc7-bac2-44eb-90fa-6e176687314b",
   "metadata": {},
   "outputs": [],
   "source": [
    "with open(\"data.json\",'w')as f :\n",
    "    json.dump(data,f)\n",
    "    "
   ]
  },
  {
   "cell_type": "code",
   "execution_count": 68,
   "id": "00e3df8f-ec2a-4220-89be-4e68dda8db49",
   "metadata": {},
   "outputs": [],
   "source": [
    "with open(\"data.json\",'r')as f:\n",
    "    data1=json.load(f)"
   ]
  },
  {
   "cell_type": "code",
   "execution_count": 69,
   "id": "46c100cb-0b24-41e7-84ca-b3f9df1466b9",
   "metadata": {},
   "outputs": [
    {
     "data": {
      "text/plain": [
       "{'name': 'priynashu',\n",
       " 'mail_id': 'priynashu@gmail.com',\n",
       " 'phone_number': 789646787,\n",
       " 'subject': ['data science', 'big data', 'data analytic']}"
      ]
     },
     "execution_count": 69,
     "metadata": {},
     "output_type": "execute_result"
    }
   ],
   "source": [
    "data1"
   ]
  },
  {
   "cell_type": "code",
   "execution_count": 71,
   "id": "a40018b5-a7e4-4ffa-bf6c-ecea1346619c",
   "metadata": {},
   "outputs": [
    {
     "data": {
      "text/plain": [
       "'big data'"
      ]
     },
     "execution_count": 71,
     "metadata": {},
     "output_type": "execute_result"
    }
   ],
   "source": [
    "data1['subject'][1]"
   ]
  },
  {
   "cell_type": "code",
   "execution_count": 1,
   "id": "87b1dcb9-fe57-4ed5-a149-88c0fd5f06e6",
   "metadata": {},
   "outputs": [],
   "source": [
    "import csv"
   ]
  },
  {
   "cell_type": "code",
   "execution_count": 9,
   "id": "6d04bece-ce5d-4056-ad3d-d8d02c4e2eca",
   "metadata": {},
   "outputs": [],
   "source": [
    "data =[['name', 'email_id','phone_number'],\n",
    "       [\"priyanshu\",\"priyanshu@gmail.com\",5646465546],\n",
    "       ['techrathee','techrathee@gmail.com',78576637483]\n",
    "]"
   ]
  },
  {
   "cell_type": "code",
   "execution_count": 10,
   "id": "b1ba0432-7aec-4f2e-b2f5-6c15f0968759",
   "metadata": {},
   "outputs": [],
   "source": [
    "with open(\"data.csv\",'w') as f:\n",
    "    write = csv.writer(f)\n",
    "    \n",
    "    for i in data:\n",
    "        write.writerow(i)"
   ]
  },
  {
   "cell_type": "code",
   "execution_count": 11,
   "id": "5b4639ee-2e26-4a07-adb6-f989111a9519",
   "metadata": {},
   "outputs": [
    {
     "name": "stdout",
     "output_type": "stream",
     "text": [
      "['name', 'email_id', 'phone_number']\n",
      "[]\n",
      "['priyanshu', 'priyanshu@gmail.com', '5646465546']\n",
      "[]\n",
      "['techrathee', 'techrathee@gmail.com', '78576637483']\n",
      "[]\n"
     ]
    }
   ],
   "source": [
    "with open ('data.csv','r') as f:\n",
    "    read_data= csv.reader(f)\n",
    "    \n",
    "    for i in read_data:\n",
    "        print(i)"
   ]
  },
  {
   "cell_type": "code",
   "execution_count": 5,
   "id": "5b672bca-1416-4332-946b-943fb758f1a7",
   "metadata": {},
   "outputs": [],
   "source": [
    "with open(\"test.bin\",\"wb\")as f :\n",
    "    f.write(b\"\\x01\\x02\\x03\\x65464\")"
   ]
  },
  {
   "cell_type": "code",
   "execution_count": 1,
   "id": "8fcbf387-96b3-401b-a5df-e14fa230b754",
   "metadata": {},
   "outputs": [
    {
     "name": "stdout",
     "output_type": "stream",
     "text": [
      "b'\\x01\\x02\\x03e464'\n"
     ]
    }
   ],
   "source": [
    "with open(\"test.bin\",\"rb\") as f:\n",
    "    print(f.read())"
   ]
  },
  {
   "cell_type": "code",
   "execution_count": 2,
   "id": "fa8fc141",
   "metadata": {},
   "outputs": [],
   "source": [
    "#Buffered read and write other files method"
   ]
  },
  {
   "cell_type": "code",
   "execution_count": 12,
   "id": "7733da35",
   "metadata": {},
   "outputs": [],
   "source": [
    "import io"
   ]
  },
  {
   "cell_type": "code",
   "execution_count": 13,
   "id": "0d3017cb-adbe-4535-920e-d82d7f06cfc5",
   "metadata": {},
   "outputs": [],
   "source": [
    "with open(\"test12.txt\",\"wb\")as f :\n",
    "    file =io.BufferedWriter(f)\n",
    "    \n",
    "    file.write(b\"this my my first line\\n\")\n",
    "    file.write(b\"this my my sceond line\")\n",
    "    file.flush()\n",
    "    "
   ]
  },
  {
   "cell_type": "code",
   "execution_count": 18,
   "id": "2b590cba-fa94-4237-8854-8b998319cf34",
   "metadata": {},
   "outputs": [
    {
     "name": "stdout",
     "output_type": "stream",
     "text": [
      "b'this my my first line\\nthis my my sceond line'\n"
     ]
    }
   ],
   "source": [
    "with open(\"test12.txt\", \"rb\") as f:\n",
    "    file = io.BufferedReader(f)\n",
    "    data = file.read()\n",
    "    print(data)"
   ]
  },
  {
   "cell_type": "code",
   "execution_count": 19,
   "id": "dfacc77b-b802-4068-96ea-611d9ed96af2",
   "metadata": {},
   "outputs": [
    {
     "name": "stdout",
     "output_type": "stream",
     "text": [
      "b'this '\n"
     ]
    }
   ],
   "source": [
    "with open(\"test12.txt\", \"rb\") as f:\n",
    "    file = io.BufferedReader(f)\n",
    "    data = file.read(5)\n",
    "    print(data)"
   ]
  },
  {
   "cell_type": "code",
   "execution_count": 20,
   "id": "ef35d6ce-b382-4a1c-a27a-4f9ecadb267f",
   "metadata": {},
   "outputs": [],
   "source": [
    "#logging Bubugger"
   ]
  },
  {
   "cell_type": "code",
   "execution_count": 3,
   "id": "f9cbf801-929b-4c31-a6e1-7c2cfc2ea97f",
   "metadata": {},
   "outputs": [],
   "source": [
    "import logging"
   ]
  },
  {
   "cell_type": "code",
   "execution_count": 22,
   "id": "67b8a527-d343-43c1-aa68-739448c518ef",
   "metadata": {},
   "outputs": [],
   "source": [
    "logging.basicConfig(filename = \"test.log\",level = logging.INFO)"
   ]
  },
  {
   "cell_type": "code",
   "execution_count": 24,
   "id": "23eb9003-2be7-42f5-91ea-958313d5f905",
   "metadata": {},
   "outputs": [],
   "source": [
    "logging.info(\"log this this line excutation\")"
   ]
  },
  {
   "cell_type": "code",
   "execution_count": 25,
   "id": "bea051ec-a5ed-457e-a88a-64d131883a14",
   "metadata": {},
   "outputs": [],
   "source": [
    "logging.info(\"this is my print\")"
   ]
  },
  {
   "cell_type": "code",
   "execution_count": 33,
   "id": "4f7d371d-4ff4-42e8-8f91-79009ad0cff7",
   "metadata": {},
   "outputs": [],
   "source": [
    "logging.warning(\"this is my mess\")"
   ]
  },
  {
   "cell_type": "code",
   "execution_count": 34,
   "id": "e4533a6c-3735-4304-95dd-6de90b0ff331",
   "metadata": {},
   "outputs": [],
   "source": [
    "logging.error(\"this is my error\")"
   ]
  },
  {
   "cell_type": "code",
   "execution_count": 35,
   "id": "1114c1cd-929d-4f04-9a05-db5534b2944b",
   "metadata": {},
   "outputs": [],
   "source": [
    "logging.critical(\"this is my critacal\")"
   ]
  },
  {
   "cell_type": "code",
   "execution_count": 6,
   "id": "36d7efc7-d3a4-4d1d-aa7a-e4254c0cd335",
   "metadata": {},
   "outputs": [],
   "source": [
    "logging.shutdown()"
   ]
  },
  {
   "cell_type": "code",
   "execution_count": 26,
   "id": "24b350bc-caad-45b2-b57c-772fdb2e81fc",
   "metadata": {},
   "outputs": [
    {
     "ename": "SyntaxError",
     "evalue": "invalid syntax (1592865365.py, line 1)",
     "output_type": "error",
     "traceback": [
      "\u001b[1;36m  File \u001b[1;32m\"C:\\Users\\techr\\AppData\\Local\\Temp\\ipykernel_13192\\1592865365.py\"\u001b[1;36m, line \u001b[1;32m1\u001b[0m\n\u001b[1;33m    1. NOTSET\u001b[0m\n\u001b[1;37m       ^\u001b[0m\n\u001b[1;31mSyntaxError\u001b[0m\u001b[1;31m:\u001b[0m invalid syntax\n"
     ]
    }
   ],
   "source": [
    "1. NOTSET\n",
    "2. DEBUG\n",
    "3. INOF\n",
    "4. WARNING\n",
    "5. ERROR\n",
    "6. CRITICAL"
   ]
  },
  {
   "cell_type": "code",
   "execution_count": 7,
   "id": "f8ee7b03-7ce9-4065-9179-b3becdb5564d",
   "metadata": {},
   "outputs": [],
   "source": [
    "logging.basicConfig(fliename = \"tests.log\",level = logging.DEBUG, format = '%(asctime)s %(message)s')"
   ]
  },
  {
   "cell_type": "code",
   "execution_count": 8,
   "id": "8e8b00c7-bd76-4cef-91a8-ec07a8deacbe",
   "metadata": {},
   "outputs": [
    {
     "name": "stderr",
     "output_type": "stream",
     "text": [
      "2023-05-10 10:10:44,643 this is my info logging\n",
      "2023-05-10 10:10:44,644 this is my error Logging\n",
      "2023-05-10 10:10:44,645 this is my pc\n"
     ]
    }
   ],
   "source": [
    "logging.info(\"this is my info logging\")\n",
    "logging.error(\"this is my error Logging\")\n",
    "logging.critical(\"this is my pc\")"
   ]
  },
  {
   "cell_type": "code",
   "execution_count": 18,
   "id": "70e70402-d181-40c1-a117-fda7909c5977",
   "metadata": {},
   "outputs": [],
   "source": [
    "logging.shutdown()"
   ]
  },
  {
   "cell_type": "code",
   "execution_count": 4,
   "id": "f35d281d-fde0-43da-a9c9-5d14500d708c",
   "metadata": {},
   "outputs": [],
   "source": [
    "logging.basicConfig(filename = \"priyanshu.log\",level = logging.NOTSET, format = ('%(asctime)s %(name)s %(levelname)s %(message)s'))"
   ]
  },
  {
   "cell_type": "code",
   "execution_count": 5,
   "id": "e6a33f7d-6132-4eee-b491-fb0b17fcf7ae",
   "metadata": {},
   "outputs": [],
   "source": [
    "logging.info(\"this is my info logging\")\n",
    "logging.error(\"this is my error Logging\")\n",
    "logging.critical(\"this is my pc\")"
   ]
  },
  {
   "cell_type": "code",
   "execution_count": 6,
   "id": "cc984249-3dc5-4ad3-897b-caa403c23895",
   "metadata": {},
   "outputs": [],
   "source": [
    "l = [1,2,2,34,454,5454,[332,334,4],\"priyanshu\",\"techathee\"]"
   ]
  },
  {
   "cell_type": "code",
   "execution_count": 7,
   "id": "ab94e541-dc4c-48d2-b16e-e799a80b3f18",
   "metadata": {},
   "outputs": [],
   "source": [
    "l1_int =[]\n",
    "l2_str =[]\n",
    "for i in l :\n",
    "    if type(i) == list:\n",
    "        for j in i :\n",
    "            if type(j) == int:\n",
    "                l1_int.append(j)\n",
    "    elif type(i)==int:\n",
    "        l1_int.append(i)\n",
    "        \n",
    "    else:\n",
    "        if type(i)==str:\n",
    "            l2_str.append(i)"
   ]
  },
  {
   "cell_type": "code",
   "execution_count": 8,
   "id": "6a9b1bf3-a433-4ff8-b015-f23796e3bd22",
   "metadata": {},
   "outputs": [
    {
     "data": {
      "text/plain": [
       "[1, 2, 2, 34, 454, 5454, 332, 334, 4]"
      ]
     },
     "execution_count": 8,
     "metadata": {},
     "output_type": "execute_result"
    }
   ],
   "source": [
    "l1_int"
   ]
  },
  {
   "cell_type": "code",
   "execution_count": 9,
   "id": "69e6c645-a7e4-4748-a0d3-40d2e4487296",
   "metadata": {},
   "outputs": [
    {
     "data": {
      "text/plain": [
       "['priyanshu', 'techathee']"
      ]
     },
     "execution_count": 9,
     "metadata": {},
     "output_type": "execute_result"
    }
   ],
   "source": [
    "l2_str"
   ]
  },
  {
   "cell_type": "code",
   "execution_count": 16,
   "id": "4e791883-40e8-4636-9b43-e3263cf0ece0",
   "metadata": {},
   "outputs": [],
   "source": [
    "l1_int =[]\n",
    "l2_str =[]\n",
    "for i in l :\n",
    "    logging.info(\"we are iterating thoruhg our list and our local var is i\"+ str(l))\n",
    "    if type(i) == list:\n",
    "        logging.info(\"i am inside if statement and i am trying to check list type\")\n",
    "        for j in i :\n",
    "            logging.info(\"i am in anothe for loop for list inside list element\")\n",
    "            if type(j) == int:\n",
    "                logging.info(\"i am inside if staement\")\n",
    "                l1_int.append(j)\n",
    "    elif type(i)==int:\n",
    "        l1_int.append(i)\n",
    "        \n",
    "    else:\n",
    "        if type(i)==str:\n",
    "            l2_str.append(i)\n",
    "            \n",
    "logging.info(\"my final  result for int is {l1}and str is {l2}\".format(l1 = l1_int,l2 = l2_str))"
   ]
  },
  {
   "cell_type": "code",
   "execution_count": 19,
   "id": "5920d998-9b25-4cfd-8f05-80bf6850f556",
   "metadata": {},
   "outputs": [],
   "source": [
    "#modules and import staements\n",
    " #code\n",
    "    #pw lad mai"
   ]
  },
  {
   "cell_type": "markdown",
   "id": "71ee4f92-d937-454b-82be-d880f571f710",
   "metadata": {},
   "source": [
    "### Start - 23Mar2023\n",
    "### End - 10May2023\n"
   ]
  },
  {
   "cell_type": "code",
   "execution_count": null,
   "id": "75b201f1-4388-4f3e-b75e-cb721d985fe1",
   "metadata": {},
   "outputs": [],
   "source": []
  },
  {
   "cell_type": "code",
   "execution_count": null,
   "id": "b68dbd71-dda8-438e-b274-3cab617cf350",
   "metadata": {},
   "outputs": [],
   "source": []
  }
 ],
 "metadata": {
  "kernelspec": {
   "display_name": "Python 3 (ipykernel)",
   "language": "python",
   "name": "python3"
  },
  "language_info": {
   "codemirror_mode": {
    "name": "ipython",
    "version": 3
   },
   "file_extension": ".py",
   "mimetype": "text/x-python",
   "name": "python",
   "nbconvert_exporter": "python",
   "pygments_lexer": "ipython3",
   "version": "3.9.13"
  }
 },
 "nbformat": 4,
 "nbformat_minor": 5
}
